{
 "cells": [
  {
   "cell_type": "code",
   "execution_count": null,
   "metadata": {
    "collapsed": true
   },
   "outputs": [],
   "source": [
    "1"
   ]
  },
  {
   "cell_type": "code",
   "execution_count": null,
   "metadata": {
    "collapsed": true
   },
   "outputs": [],
   "source": [
    "test_revised on mac"
   ]
  },
  {
   "cell_type": "code",
   "execution_count": 1,
   "metadata": {
    "collapsed": true
   },
   "outputs": [],
   "source": [
    "import pandas as pd\n",
    "import numpy as np\n"
   ]
  },
  {
   "cell_type": "code",
   "execution_count": 4,
   "metadata": {},
   "outputs": [
    {
     "data": {
      "text/plain": [
       "DatetimeIndex(['2018-01-01', '2018-01-02', '2018-01-03', '2018-01-04',\n",
       "               '2018-01-05', '2018-01-06', '2018-01-07'],\n",
       "              dtype='datetime64[ns]', freq='D')"
      ]
     },
     "execution_count": 4,
     "metadata": {},
     "output_type": "execute_result"
    }
   ],
   "source": [
    "date=pd.date_range('2018-1-1',periods=7)\n",
    "date"
   ]
  },
  {
   "cell_type": "code",
   "execution_count": 4,
   "metadata": {},
   "outputs": [
    {
     "data": {
      "text/html": [
       "<div>\n",
       "<style>\n",
       "    .dataframe thead tr:only-child th {\n",
       "        text-align: right;\n",
       "    }\n",
       "\n",
       "    .dataframe thead th {\n",
       "        text-align: left;\n",
       "    }\n",
       "\n",
       "    .dataframe tbody tr th {\n",
       "        vertical-align: top;\n",
       "    }\n",
       "</style>\n",
       "<table border=\"1\" class=\"dataframe\">\n",
       "  <thead>\n",
       "    <tr style=\"text-align: right;\">\n",
       "      <th></th>\n",
       "      <th>a</th>\n",
       "      <th>b</th>\n",
       "      <th>c</th>\n",
       "      <th>d</th>\n",
       "    </tr>\n",
       "  </thead>\n",
       "  <tbody>\n",
       "    <tr>\n",
       "      <th>2018-01-01</th>\n",
       "      <td>-0.434165</td>\n",
       "      <td>1.359589</td>\n",
       "      <td>0.300845</td>\n",
       "      <td>0.715526</td>\n",
       "    </tr>\n",
       "    <tr>\n",
       "      <th>2018-01-02</th>\n",
       "      <td>-0.938881</td>\n",
       "      <td>-0.578814</td>\n",
       "      <td>-0.791086</td>\n",
       "      <td>-0.667349</td>\n",
       "    </tr>\n",
       "    <tr>\n",
       "      <th>2018-01-03</th>\n",
       "      <td>1.367288</td>\n",
       "      <td>1.666198</td>\n",
       "      <td>1.180774</td>\n",
       "      <td>-0.186441</td>\n",
       "    </tr>\n",
       "    <tr>\n",
       "      <th>2018-01-04</th>\n",
       "      <td>-0.296403</td>\n",
       "      <td>-0.227435</td>\n",
       "      <td>1.634333</td>\n",
       "      <td>-0.171678</td>\n",
       "    </tr>\n",
       "    <tr>\n",
       "      <th>2018-01-05</th>\n",
       "      <td>0.158615</td>\n",
       "      <td>-0.069775</td>\n",
       "      <td>-0.006824</td>\n",
       "      <td>0.057754</td>\n",
       "    </tr>\n",
       "    <tr>\n",
       "      <th>2018-01-06</th>\n",
       "      <td>-0.731620</td>\n",
       "      <td>-0.502405</td>\n",
       "      <td>1.174147</td>\n",
       "      <td>0.060405</td>\n",
       "    </tr>\n",
       "    <tr>\n",
       "      <th>2018-01-07</th>\n",
       "      <td>0.471791</td>\n",
       "      <td>-0.669078</td>\n",
       "      <td>-1.792180</td>\n",
       "      <td>-0.239193</td>\n",
       "    </tr>\n",
       "  </tbody>\n",
       "</table>\n",
       "</div>"
      ],
      "text/plain": [
       "                   a         b         c         d\n",
       "2018-01-01 -0.434165  1.359589  0.300845  0.715526\n",
       "2018-01-02 -0.938881 -0.578814 -0.791086 -0.667349\n",
       "2018-01-03  1.367288  1.666198  1.180774 -0.186441\n",
       "2018-01-04 -0.296403 -0.227435  1.634333 -0.171678\n",
       "2018-01-05  0.158615 -0.069775 -0.006824  0.057754\n",
       "2018-01-06 -0.731620 -0.502405  1.174147  0.060405\n",
       "2018-01-07  0.471791 -0.669078 -1.792180 -0.239193"
      ]
     },
     "execution_count": 4,
     "metadata": {},
     "output_type": "execute_result"
    }
   ],
   "source": [
    "df=pd.DataFrame(np.random.randn(7,4),index=date,columns=('a','b','c','d'))\n",
    "df"
   ]
  },
  {
   "cell_type": "code",
   "execution_count": 5,
   "metadata": {},
   "outputs": [
    {
     "data": {
      "text/html": [
       "<div>\n",
       "<style>\n",
       "    .dataframe thead tr:only-child th {\n",
       "        text-align: right;\n",
       "    }\n",
       "\n",
       "    .dataframe thead th {\n",
       "        text-align: left;\n",
       "    }\n",
       "\n",
       "    .dataframe tbody tr th {\n",
       "        vertical-align: top;\n",
       "    }\n",
       "</style>\n",
       "<table border=\"1\" class=\"dataframe\">\n",
       "  <thead>\n",
       "    <tr style=\"text-align: right;\">\n",
       "      <th></th>\n",
       "      <th>2018-01-01 00:00:00</th>\n",
       "      <th>2018-01-02 00:00:00</th>\n",
       "      <th>2018-01-03 00:00:00</th>\n",
       "      <th>2018-01-04 00:00:00</th>\n",
       "      <th>2018-01-05 00:00:00</th>\n",
       "      <th>2018-01-06 00:00:00</th>\n",
       "      <th>2018-01-07 00:00:00</th>\n",
       "    </tr>\n",
       "  </thead>\n",
       "  <tbody>\n",
       "    <tr>\n",
       "      <th>a</th>\n",
       "      <td>-0.434165</td>\n",
       "      <td>-0.938881</td>\n",
       "      <td>1.367288</td>\n",
       "      <td>-0.296403</td>\n",
       "      <td>0.158615</td>\n",
       "      <td>-0.731620</td>\n",
       "      <td>0.471791</td>\n",
       "    </tr>\n",
       "    <tr>\n",
       "      <th>b</th>\n",
       "      <td>1.359589</td>\n",
       "      <td>-0.578814</td>\n",
       "      <td>1.666198</td>\n",
       "      <td>-0.227435</td>\n",
       "      <td>-0.069775</td>\n",
       "      <td>-0.502405</td>\n",
       "      <td>-0.669078</td>\n",
       "    </tr>\n",
       "    <tr>\n",
       "      <th>c</th>\n",
       "      <td>0.300845</td>\n",
       "      <td>-0.791086</td>\n",
       "      <td>1.180774</td>\n",
       "      <td>1.634333</td>\n",
       "      <td>-0.006824</td>\n",
       "      <td>1.174147</td>\n",
       "      <td>-1.792180</td>\n",
       "    </tr>\n",
       "    <tr>\n",
       "      <th>d</th>\n",
       "      <td>0.715526</td>\n",
       "      <td>-0.667349</td>\n",
       "      <td>-0.186441</td>\n",
       "      <td>-0.171678</td>\n",
       "      <td>0.057754</td>\n",
       "      <td>0.060405</td>\n",
       "      <td>-0.239193</td>\n",
       "    </tr>\n",
       "  </tbody>\n",
       "</table>\n",
       "</div>"
      ],
      "text/plain": [
       "   2018-01-01  2018-01-02  2018-01-03  2018-01-04  2018-01-05  2018-01-06  \\\n",
       "a   -0.434165   -0.938881    1.367288   -0.296403    0.158615   -0.731620   \n",
       "b    1.359589   -0.578814    1.666198   -0.227435   -0.069775   -0.502405   \n",
       "c    0.300845   -0.791086    1.180774    1.634333   -0.006824    1.174147   \n",
       "d    0.715526   -0.667349   -0.186441   -0.171678    0.057754    0.060405   \n",
       "\n",
       "   2018-01-07  \n",
       "a    0.471791  \n",
       "b   -0.669078  \n",
       "c   -1.792180  \n",
       "d   -0.239193  "
      ]
     },
     "execution_count": 5,
     "metadata": {},
     "output_type": "execute_result"
    }
   ],
   "source": [
    "df.T"
   ]
  },
  {
   "cell_type": "code",
   "execution_count": 9,
   "metadata": {},
   "outputs": [
    {
     "data": {
      "text/html": [
       "<div>\n",
       "<style>\n",
       "    .dataframe thead tr:only-child th {\n",
       "        text-align: right;\n",
       "    }\n",
       "\n",
       "    .dataframe thead th {\n",
       "        text-align: left;\n",
       "    }\n",
       "\n",
       "    .dataframe tbody tr th {\n",
       "        vertical-align: top;\n",
       "    }\n",
       "</style>\n",
       "<table border=\"1\" class=\"dataframe\">\n",
       "  <thead>\n",
       "    <tr style=\"text-align: right;\">\n",
       "      <th></th>\n",
       "      <th>a</th>\n",
       "      <th>b</th>\n",
       "      <th>c</th>\n",
       "      <th>d</th>\n",
       "    </tr>\n",
       "  </thead>\n",
       "  <tbody>\n",
       "    <tr>\n",
       "      <th>2018-01-07</th>\n",
       "      <td>0.471791</td>\n",
       "      <td>-0.669078</td>\n",
       "      <td>-1.792180</td>\n",
       "      <td>-0.239193</td>\n",
       "    </tr>\n",
       "    <tr>\n",
       "      <th>2018-01-02</th>\n",
       "      <td>-0.938881</td>\n",
       "      <td>-0.578814</td>\n",
       "      <td>-0.791086</td>\n",
       "      <td>-0.667349</td>\n",
       "    </tr>\n",
       "    <tr>\n",
       "      <th>2018-01-06</th>\n",
       "      <td>-0.731620</td>\n",
       "      <td>-0.502405</td>\n",
       "      <td>1.174147</td>\n",
       "      <td>0.060405</td>\n",
       "    </tr>\n",
       "    <tr>\n",
       "      <th>2018-01-04</th>\n",
       "      <td>-0.296403</td>\n",
       "      <td>-0.227435</td>\n",
       "      <td>1.634333</td>\n",
       "      <td>-0.171678</td>\n",
       "    </tr>\n",
       "    <tr>\n",
       "      <th>2018-01-05</th>\n",
       "      <td>0.158615</td>\n",
       "      <td>-0.069775</td>\n",
       "      <td>-0.006824</td>\n",
       "      <td>0.057754</td>\n",
       "    </tr>\n",
       "    <tr>\n",
       "      <th>2018-01-01</th>\n",
       "      <td>-0.434165</td>\n",
       "      <td>1.359589</td>\n",
       "      <td>0.300845</td>\n",
       "      <td>0.715526</td>\n",
       "    </tr>\n",
       "    <tr>\n",
       "      <th>2018-01-03</th>\n",
       "      <td>1.367288</td>\n",
       "      <td>1.666198</td>\n",
       "      <td>1.180774</td>\n",
       "      <td>-0.186441</td>\n",
       "    </tr>\n",
       "  </tbody>\n",
       "</table>\n",
       "</div>"
      ],
      "text/plain": [
       "                   a         b         c         d\n",
       "2018-01-07  0.471791 -0.669078 -1.792180 -0.239193\n",
       "2018-01-02 -0.938881 -0.578814 -0.791086 -0.667349\n",
       "2018-01-06 -0.731620 -0.502405  1.174147  0.060405\n",
       "2018-01-04 -0.296403 -0.227435  1.634333 -0.171678\n",
       "2018-01-05  0.158615 -0.069775 -0.006824  0.057754\n",
       "2018-01-01 -0.434165  1.359589  0.300845  0.715526\n",
       "2018-01-03  1.367288  1.666198  1.180774 -0.186441"
      ]
     },
     "execution_count": 9,
     "metadata": {},
     "output_type": "execute_result"
    }
   ],
   "source": [
    "df=df.sort_values(by='b')\n",
    "df"
   ]
  },
  {
   "cell_type": "code",
   "execution_count": 10,
   "metadata": {},
   "outputs": [
    {
     "data": {
      "text/html": [
       "<div>\n",
       "<style>\n",
       "    .dataframe thead tr:only-child th {\n",
       "        text-align: right;\n",
       "    }\n",
       "\n",
       "    .dataframe thead th {\n",
       "        text-align: left;\n",
       "    }\n",
       "\n",
       "    .dataframe tbody tr th {\n",
       "        vertical-align: top;\n",
       "    }\n",
       "</style>\n",
       "<table border=\"1\" class=\"dataframe\">\n",
       "  <thead>\n",
       "    <tr style=\"text-align: right;\">\n",
       "      <th></th>\n",
       "      <th>a</th>\n",
       "      <th>b</th>\n",
       "      <th>c</th>\n",
       "      <th>d</th>\n",
       "    </tr>\n",
       "  </thead>\n",
       "  <tbody>\n",
       "    <tr>\n",
       "      <th>2018-01-01</th>\n",
       "      <td>-0.434165</td>\n",
       "      <td>1.359589</td>\n",
       "      <td>0.300845</td>\n",
       "      <td>0.715526</td>\n",
       "    </tr>\n",
       "    <tr>\n",
       "      <th>2018-01-02</th>\n",
       "      <td>-0.938881</td>\n",
       "      <td>-0.578814</td>\n",
       "      <td>-0.791086</td>\n",
       "      <td>-0.667349</td>\n",
       "    </tr>\n",
       "    <tr>\n",
       "      <th>2018-01-03</th>\n",
       "      <td>1.367288</td>\n",
       "      <td>1.666198</td>\n",
       "      <td>1.180774</td>\n",
       "      <td>-0.186441</td>\n",
       "    </tr>\n",
       "    <tr>\n",
       "      <th>2018-01-04</th>\n",
       "      <td>-0.296403</td>\n",
       "      <td>-0.227435</td>\n",
       "      <td>1.634333</td>\n",
       "      <td>-0.171678</td>\n",
       "    </tr>\n",
       "    <tr>\n",
       "      <th>2018-01-05</th>\n",
       "      <td>0.158615</td>\n",
       "      <td>-0.069775</td>\n",
       "      <td>-0.006824</td>\n",
       "      <td>0.057754</td>\n",
       "    </tr>\n",
       "    <tr>\n",
       "      <th>2018-01-06</th>\n",
       "      <td>-0.731620</td>\n",
       "      <td>-0.502405</td>\n",
       "      <td>1.174147</td>\n",
       "      <td>0.060405</td>\n",
       "    </tr>\n",
       "    <tr>\n",
       "      <th>2018-01-07</th>\n",
       "      <td>0.471791</td>\n",
       "      <td>-0.669078</td>\n",
       "      <td>-1.792180</td>\n",
       "      <td>-0.239193</td>\n",
       "    </tr>\n",
       "  </tbody>\n",
       "</table>\n",
       "</div>"
      ],
      "text/plain": [
       "                   a         b         c         d\n",
       "2018-01-01 -0.434165  1.359589  0.300845  0.715526\n",
       "2018-01-02 -0.938881 -0.578814 -0.791086 -0.667349\n",
       "2018-01-03  1.367288  1.666198  1.180774 -0.186441\n",
       "2018-01-04 -0.296403 -0.227435  1.634333 -0.171678\n",
       "2018-01-05  0.158615 -0.069775 -0.006824  0.057754\n",
       "2018-01-06 -0.731620 -0.502405  1.174147  0.060405\n",
       "2018-01-07  0.471791 -0.669078 -1.792180 -0.239193"
      ]
     },
     "execution_count": 10,
     "metadata": {},
     "output_type": "execute_result"
    }
   ],
   "source": [
    "df.sort_index()"
   ]
  },
  {
   "cell_type": "code",
   "execution_count": 11,
   "metadata": {
    "collapsed": true
   },
   "outputs": [],
   "source": [
    "import matplotlib.pyplot as plt\n",
    "%matplotlib inline"
   ]
  },
  {
   "cell_type": "code",
   "execution_count": 37,
   "metadata": {},
   "outputs": [
    {
     "data": {
      "text/plain": [
       "(736695.0, 736701.0)"
      ]
     },
     "execution_count": 37,
     "metadata": {},
     "output_type": "execute_result"
    },
    {
     "data": {
      "image/png": "[encoded data removed]",
      "text/plain": [
       "<matplotlib.figure.Figure at 0xc04c908>"
      ]
     },
     "metadata": {},
     "output_type": "display_data"
    }
   ],
   "source": [
    "fig,ax=plt.subplots()\n",
    "ax.scatter(x=df.index.values,y=df['a'])\n",
    "#ax.set_xticks(days)\n",
    "ax.set_xlim(min(days)-10,max(days)+1)"
   ]
  },
  {
   "cell_type": "code",
   "execution_count": 23,
   "metadata": {},
   "outputs": [
    {
     "data": {
      "text/plain": [
       "array(['2018-01-07T00:00:00.000000000', '2018-01-02T00:00:00.000000000',\n",
       "       '2018-01-06T00:00:00.000000000', '2018-01-04T00:00:00.000000000',\n",
       "       '2018-01-05T00:00:00.000000000', '2018-01-01T00:00:00.000000000',\n",
       "       '2018-01-03T00:00:00.000000000'], dtype='datetime64[ns]')"
      ]
     },
     "execution_count": 23,
     "metadata": {},
     "output_type": "execute_result"
    }
   ],
   "source": [
    "days=df.index.values\n",
    "days"
   ]
  },
  {
   "cell_type": "code",
   "execution_count": 51,
   "metadata": {
    "collapsed": true
   },
   "outputs": [],
   "source": [
    "import seaborn as sns\n",
    "sns.set(color_codes=True)"
   ]
  },
  {
   "cell_type": "code",
   "execution_count": 53,
   "metadata": {},
   "outputs": [
    {
     "data": {
      "image/png": "[encoded data removed]",
      "text/plain": [
       "<matplotlib.figure.Figure at 0xdf00be0>"
      ]
     },
     "metadata": {},
     "output_type": "display_data"
    }
   ],
   "source": [
    "x=np.random.randn(100)\n",
    "sns.distplot(x);"
   ]
  },
  {
   "cell_type": "code",
   "execution_count": null,
   "metadata": {
    "collapsed": true
   },
   "outputs": [],
   "source": [
    "2"
   ]
  },
  {
   "cell_type": "code",
   "execution_count": 54,
   "metadata": {},
   "outputs": [
    {
     "data": {
      "text/plain": [
       "[1, 2, 3]"
      ]
     },
     "execution_count": 54,
     "metadata": {},
     "output_type": "execute_result"
    }
   ],
   "source": [
    "a=[1,2,3]\n",
    "a"
   ]
  },
  {
   "cell_type": "code",
   "execution_count": 59,
   "metadata": {},
   "outputs": [
    {
     "data": {
      "text/plain": [
       "numpy.ndarray"
      ]
     },
     "execution_count": 59,
     "metadata": {},
     "output_type": "execute_result"
    }
   ],
   "source": [
    "b=np.array(a)\n",
    "type(b)"
   ]
  },
  {
   "cell_type": "code",
   "execution_count": 60,
   "metadata": {},
   "outputs": [
    {
     "data": {
      "text/plain": [
       "numpy.ndarray"
      ]
     },
     "execution_count": 60,
     "metadata": {},
     "output_type": "execute_result"
    }
   ],
   "source": [
    "c=np.asarray(a)\n",
    "type(c)"
   ]
  },
  {
   "cell_type": "code",
   "execution_count": 62,
   "metadata": {},
   "outputs": [
    {
     "data": {
      "text/plain": [
       "array([[ 1.,  1.,  1.],\n",
       "       [ 1.,  1.,  1.]])"
      ]
     },
     "execution_count": 62,
     "metadata": {},
     "output_type": "execute_result"
    }
   ],
   "source": [
    "np.ones((2,3))"
   ]
  },
  {
   "cell_type": "code",
   "execution_count": 64,
   "metadata": {},
   "outputs": [
    {
     "data": {
      "text/plain": [
       "array([[ 0.,  0.],\n",
       "       [ 0.,  0.]])"
      ]
     },
     "execution_count": 64,
     "metadata": {},
     "output_type": "execute_result"
    }
   ],
   "source": [
    "np.zeros((2,2))"
   ]
  },
  {
   "cell_type": "code",
   "execution_count": 63,
   "metadata": {},
   "outputs": [
    {
     "data": {
      "text/plain": [
       "array([[ 1.,  0.,  0.],\n",
       "       [ 0.,  1.,  0.],\n",
       "       [ 0.,  0.,  1.]])"
      ]
     },
     "execution_count": 63,
     "metadata": {},
     "output_type": "execute_result"
    }
   ],
   "source": [
    "np.eye(3)"
   ]
  },
  {
   "cell_type": "code",
   "execution_count": 2,
   "metadata": {},
   "outputs": [
    {
     "data": {
      "text/plain": [
       "[(1, 4, 7), (2, 5, 8), (3, 6, 9)]"
      ]
     },
     "execution_count": 2,
     "metadata": {},
     "output_type": "execute_result"
    }
   ],
   "source": [
    "zip([1, 2, 3], [4, 5, 6], [7, 8, 9])"
   ]
  },
  {
   "cell_type": "code",
   "execution_count": 3,
   "metadata": {},
   "outputs": [
    {
     "data": {
      "text/plain": [
       "[1.1000000000000001, 2.2000000000000002, 1.3, 1.3999999999999999, 2.5]"
      ]
     },
     "execution_count": 3,
     "metadata": {},
     "output_type": "execute_result"
    }
   ],
   "source": [
    "x_arr = np.array([1.1, 1.2, 1.3, 1.4, 1.5])\n",
    "y_arr = np.array([2.1, 2.2, 2.3, 2.4, 2.5])\n",
    "cond = np.array([True, False, True, True, False])\n",
    "result=[(x if c else y) for x,y,c in zip(x_arr,y_arr,cond)]\n",
    "result"
   ]
  },
  {
   "cell_type": "code",
   "execution_count": 4,
   "metadata": {},
   "outputs": [
    {
     "data": {
      "text/plain": [
       "array([ 1.1,  2.2,  1.3,  1.4,  2.5])"
      ]
     },
     "execution_count": 4,
     "metadata": {},
     "output_type": "execute_result"
    }
   ],
   "source": [
    "np.where(cond,x_arr,y_arr)"
   ]
  },
  {
   "cell_type": "code",
   "execution_count": 5,
   "metadata": {},
   "outputs": [
    {
     "data": {
      "text/plain": [
       "array([[ 1.39224016,  0.85824673, -1.09538413,  0.76241561],\n",
       "       [ 0.7460896 , -0.99709632, -2.04463109,  2.35841057],\n",
       "       [-0.12862013,  0.22097198,  0.03846909, -0.08372757],\n",
       "       [ 0.2406221 ,  0.10220577, -0.12334625,  0.45908076],\n",
       "       [ 0.71006483, -0.97025068,  0.43973884, -0.40391229]])"
      ]
     },
     "execution_count": 5,
     "metadata": {},
     "output_type": "execute_result"
    }
   ],
   "source": [
    "arr=np.random.randn(5,4)\n",
    "arr"
   ]
  },
  {
   "cell_type": "code",
   "execution_count": 6,
   "metadata": {},
   "outputs": [
    {
     "data": {
      "text/plain": [
       "2.4815875754504853"
      ]
     },
     "execution_count": 6,
     "metadata": {},
     "output_type": "execute_result"
    }
   ],
   "source": [
    "arr.sum()"
   ]
  },
  {
   "cell_type": "code",
   "execution_count": 7,
   "metadata": {},
   "outputs": [
    {
     "data": {
      "text/plain": [
       "0.12407937877252426"
      ]
     },
     "execution_count": 7,
     "metadata": {},
     "output_type": "execute_result"
    }
   ],
   "source": [
    "arr.mean()"
   ]
  },
  {
   "cell_type": "code",
   "execution_count": 8,
   "metadata": {},
   "outputs": [
    {
     "data": {
      "text/plain": [
       "array([ 0.47937959,  0.01569319,  0.01177334,  0.1696406 , -0.05608983])"
      ]
     },
     "execution_count": 8,
     "metadata": {},
     "output_type": "execute_result"
    }
   ],
   "source": [
    "arr.mean(axis=1)"
   ]
  },
  {
   "cell_type": "code",
   "execution_count": 9,
   "metadata": {},
   "outputs": [
    {
     "data": {
      "text/plain": [
       "array([ 0.59207931, -0.1571845 , -0.55703071,  0.61845342])"
      ]
     },
     "execution_count": 9,
     "metadata": {},
     "output_type": "execute_result"
    }
   ],
   "source": [
    "arr.mean(axis=0)"
   ]
  },
  {
   "cell_type": "code",
   "execution_count": 10,
   "metadata": {},
   "outputs": [
    {
     "data": {
      "text/plain": [
       "array([[0, 1, 2],\n",
       "       [3, 4, 5],\n",
       "       [6, 7, 8]])"
      ]
     },
     "execution_count": 10,
     "metadata": {},
     "output_type": "execute_result"
    }
   ],
   "source": [
    "arr = np.array([[0, 1, 2], [3, 4, 5], [6, 7, 8]])\n",
    "arr"
   ]
  },
  {
   "cell_type": "code",
   "execution_count": 26,
   "metadata": {},
   "outputs": [
    {
     "data": {
      "text/plain": [
       "array([[0, 1, 2],\n",
       "       [3, 4, 5],\n",
       "       [6, 7, 8]])"
      ]
     },
     "execution_count": 26,
     "metadata": {},
     "output_type": "execute_result"
    }
   ],
   "source": [
    "arr = np.array([[0, 1, 2], [3, 4, 5], [6, 7, 8]])\n",
    "arr"
   ]
  },
  {
   "cell_type": "code",
   "execution_count": 16,
   "metadata": {},
   "outputs": [
    {
     "data": {
      "text/plain": [
       "array([[ 0,  1,  2],\n",
       "       [ 3,  5,  7],\n",
       "       [ 9, 12, 15]])"
      ]
     },
     "execution_count": 16,
     "metadata": {},
     "output_type": "execute_result"
    }
   ],
   "source": [
    "arr.cumsum(axis=0)# 累计"
   ]
  },
  {
   "cell_type": "code",
   "execution_count": 17,
   "metadata": {},
   "outputs": [
    {
     "data": {
      "text/plain": [
       "array([[  0,   0,   0],\n",
       "       [  3,  12,  60],\n",
       "       [  6,  42, 336]])"
      ]
     },
     "execution_count": 17,
     "metadata": {},
     "output_type": "execute_result"
    }
   ],
   "source": [
    "arr.cumprod(axis=1)"
   ]
  },
  {
   "cell_type": "code",
   "execution_count": 19,
   "metadata": {},
   "outputs": [
    {
     "data": {
      "text/plain": [
       "array([-1.33560624, -0.58669256,  0.8364892 , -0.1476884 ,  1.49817169,\n",
       "       -1.23311788, -0.24258483,  0.37033241, -0.61875882, -0.84059497])"
      ]
     },
     "execution_count": 19,
     "metadata": {},
     "output_type": "execute_result"
    }
   ],
   "source": [
    "arr=np.random.randn(10)\n",
    "arr"
   ]
  },
  {
   "cell_type": "code",
   "execution_count": 22,
   "metadata": {},
   "outputs": [
    {
     "data": {
      "text/plain": [
       "3"
      ]
     },
     "execution_count": 22,
     "metadata": {},
     "output_type": "execute_result"
    }
   ],
   "source": [
    "(arr>0).sum()"
   ]
  },
  {
   "cell_type": "code",
   "execution_count": 24,
   "metadata": {},
   "outputs": [
    {
     "data": {
      "text/plain": [
       "False"
      ]
     },
     "execution_count": 24,
     "metadata": {},
     "output_type": "execute_result"
    }
   ],
   "source": [
    "bools = np.array([False, False, True, False])\n",
    "bools.all()"
   ]
  },
  {
   "cell_type": "code",
   "execution_count": 25,
   "metadata": {},
   "outputs": [
    {
     "data": {
      "text/plain": [
       "True"
      ]
     },
     "execution_count": 25,
     "metadata": {},
     "output_type": "execute_result"
    }
   ],
   "source": [
    "bools.any()"
   ]
  },
  {
   "cell_type": "code",
   "execution_count": 28,
   "metadata": {},
   "outputs": [
    {
     "data": {
      "text/plain": [
       "array([[0, 1, 2],\n",
       "       [3, 4, 5],\n",
       "       [6, 7, 8]])"
      ]
     },
     "execution_count": 28,
     "metadata": {},
     "output_type": "execute_result"
    }
   ],
   "source": [
    "arr"
   ]
  },
  {
   "cell_type": "code",
   "execution_count": 42,
   "metadata": {},
   "outputs": [
    {
     "data": {
      "text/plain": [
       "array([[ 1.22092699, -1.5831744 , -0.38133066],\n",
       "       [ 0.35858053, -0.07933291,  0.53051848],\n",
       "       [-0.22084862, -1.28237684,  0.65401845],\n",
       "       [-0.85149254,  0.8349855 , -0.02404548],\n",
       "       [-0.7285005 , -0.68567532,  1.19268305]])"
      ]
     },
     "execution_count": 42,
     "metadata": {},
     "output_type": "execute_result"
    }
   ],
   "source": [
    "arr = np.random.randn(5, 3)\n",
    "arr"
   ]
  },
  {
   "cell_type": "code",
   "execution_count": 47,
   "metadata": {},
   "outputs": [
    {
     "data": {
      "text/plain": [
       "array([[-1.5831744 , -0.38133066,  1.22092699],\n",
       "       [-0.07933291,  0.35858053,  0.53051848],\n",
       "       [-1.28237684, -0.22084862,  0.65401845],\n",
       "       [-0.85149254, -0.02404548,  0.8349855 ],\n",
       "       [-0.7285005 , -0.68567532,  1.19268305]])"
      ]
     },
     "execution_count": 47,
     "metadata": {},
     "output_type": "execute_result"
    }
   ],
   "source": [
    "np.sort(arr,axis=1)# 0 按列,1按行"
   ]
  },
  {
   "cell_type": "code",
   "execution_count": 51,
   "metadata": {},
   "outputs": [
    {
     "data": {
      "text/plain": [
       "array([ -3.17258195e+00,  -3.03291920e+00,  -2.79154695e+00,\n",
       "        -2.73759880e+00,  -2.72552051e+00,  -2.69812766e+00,\n",
       "        -2.69726325e+00,  -2.50650978e+00,  -2.45712631e+00,\n",
       "        -2.30521427e+00,  -2.28290117e+00,  -2.27918464e+00,\n",
       "        -2.19473633e+00,  -2.18197203e+00,  -2.13312122e+00,\n",
       "        -2.11575271e+00,  -2.11146981e+00,  -2.08264494e+00,\n",
       "        -2.07521609e+00,  -2.01735150e+00,  -1.99864090e+00,\n",
       "        -1.98646892e+00,  -1.98213308e+00,  -1.96392454e+00,\n",
       "        -1.92994256e+00,  -1.91960890e+00,  -1.89910483e+00,\n",
       "        -1.88836430e+00,  -1.88263986e+00,  -1.86715567e+00,\n",
       "        -1.85086491e+00,  -1.84517887e+00,  -1.83143956e+00,\n",
       "        -1.82930742e+00,  -1.80641745e+00,  -1.80387667e+00,\n",
       "        -1.79760948e+00,  -1.79376369e+00,  -1.77949688e+00,\n",
       "        -1.76985944e+00,  -1.76799468e+00,  -1.75911833e+00,\n",
       "        -1.75687901e+00,  -1.72255897e+00,  -1.72224655e+00,\n",
       "        -1.71861938e+00,  -1.69895235e+00,  -1.67547694e+00,\n",
       "        -1.66864552e+00,  -1.64101865e+00,  -1.60538141e+00,\n",
       "        -1.59728454e+00,  -1.59449678e+00,  -1.57405782e+00,\n",
       "        -1.56501017e+00,  -1.53575035e+00,  -1.52758822e+00,\n",
       "        -1.52543733e+00,  -1.51855631e+00,  -1.51286835e+00,\n",
       "        -1.47057863e+00,  -1.46730130e+00,  -1.45574674e+00,\n",
       "        -1.45459931e+00,  -1.45106100e+00,  -1.44735293e+00,\n",
       "        -1.43056443e+00,  -1.42506397e+00,  -1.42142627e+00,\n",
       "        -1.41694337e+00,  -1.40766956e+00,  -1.40152802e+00,\n",
       "        -1.39969027e+00,  -1.39724210e+00,  -1.39615648e+00,\n",
       "        -1.38185710e+00,  -1.37365820e+00,  -1.34509889e+00,\n",
       "        -1.33705798e+00,  -1.32521919e+00,  -1.32057466e+00,\n",
       "        -1.31903160e+00,  -1.31062166e+00,  -1.29172094e+00,\n",
       "        -1.28678319e+00,  -1.28552135e+00,  -1.28367210e+00,\n",
       "        -1.26919185e+00,  -1.26766976e+00,  -1.26518833e+00,\n",
       "        -1.25274111e+00,  -1.24505473e+00,  -1.24379236e+00,\n",
       "        -1.23932463e+00,  -1.23308976e+00,  -1.22307002e+00,\n",
       "        -1.22172225e+00,  -1.21807351e+00,  -1.21761258e+00,\n",
       "        -1.21091636e+00,  -1.20662451e+00,  -1.20500407e+00,\n",
       "        -1.20329340e+00,  -1.18178459e+00,  -1.18099685e+00,\n",
       "        -1.17881404e+00,  -1.17033817e+00,  -1.16238604e+00,\n",
       "        -1.14371420e+00,  -1.14306637e+00,  -1.14069007e+00,\n",
       "        -1.12284391e+00,  -1.12188984e+00,  -1.12034822e+00,\n",
       "        -1.11500869e+00,  -1.11141336e+00,  -1.10667313e+00,\n",
       "        -1.10381343e+00,  -1.10176349e+00,  -1.09970904e+00,\n",
       "        -1.08773924e+00,  -1.08523176e+00,  -1.07737045e+00,\n",
       "        -1.07635302e+00,  -1.07087681e+00,  -1.06725198e+00,\n",
       "        -1.06202365e+00,  -1.06072077e+00,  -1.05353886e+00,\n",
       "        -1.04643762e+00,  -1.04008787e+00,  -1.03784575e+00,\n",
       "        -1.02944295e+00,  -1.02669656e+00,  -1.02160095e+00,\n",
       "        -1.01851724e+00,  -1.01802204e+00,  -1.01107149e+00,\n",
       "        -1.00818947e+00,  -1.00507035e+00,  -1.00179171e+00,\n",
       "        -1.00153827e+00,  -9.91146329e-01,  -9.90603649e-01,\n",
       "        -9.89390751e-01,  -9.85379222e-01,  -9.80056109e-01,\n",
       "        -9.77385313e-01,  -9.74475602e-01,  -9.72747776e-01,\n",
       "        -9.69517287e-01,  -9.69068339e-01,  -9.65503389e-01,\n",
       "        -9.58670466e-01,  -9.55053783e-01,  -9.49735760e-01,\n",
       "        -9.42132038e-01,  -9.34919014e-01,  -9.30218356e-01,\n",
       "        -9.29525878e-01,  -9.28387741e-01,  -9.25850324e-01,\n",
       "        -9.22176170e-01,  -9.13810976e-01,  -9.13437056e-01,\n",
       "        -9.12671186e-01,  -9.08312140e-01,  -8.85169793e-01,\n",
       "        -8.85129564e-01,  -8.82910900e-01,  -8.82850501e-01,\n",
       "        -8.80914641e-01,  -8.80874204e-01,  -8.80082064e-01,\n",
       "        -8.79961663e-01,  -8.77797021e-01,  -8.75251823e-01,\n",
       "        -8.70242602e-01,  -8.62617692e-01,  -8.54580272e-01,\n",
       "        -8.49102408e-01,  -8.48663066e-01,  -8.38691300e-01,\n",
       "        -8.37156530e-01,  -8.32363016e-01,  -8.24645543e-01,\n",
       "        -8.22260315e-01,  -8.16211151e-01,  -8.13704831e-01,\n",
       "        -8.11154450e-01,  -8.10338733e-01,  -8.01308134e-01,\n",
       "        -8.00043455e-01,  -7.99088012e-01,  -7.98185278e-01,\n",
       "        -7.95682111e-01,  -7.90702623e-01,  -7.90159110e-01,\n",
       "        -7.86272434e-01,  -7.79677888e-01,  -7.75442587e-01,\n",
       "        -7.72916964e-01,  -7.72590009e-01,  -7.62461494e-01,\n",
       "        -7.60605182e-01,  -7.58586332e-01,  -7.50958674e-01,\n",
       "        -7.49071357e-01,  -7.46453159e-01,  -7.44763855e-01,\n",
       "        -7.39211435e-01,  -7.29973652e-01,  -7.26959158e-01,\n",
       "        -7.22522791e-01,  -7.18986202e-01,  -7.10861497e-01,\n",
       "        -7.09770620e-01,  -7.08620614e-01,  -7.04459665e-01,\n",
       "        -7.03810023e-01,  -6.98682085e-01,  -6.98431339e-01,\n",
       "        -6.93893256e-01,  -6.89139547e-01,  -6.88669721e-01,\n",
       "        -6.86676101e-01,  -6.78714815e-01,  -6.77339776e-01,\n",
       "        -6.74155863e-01,  -6.74077483e-01,  -6.71195540e-01,\n",
       "        -6.68502434e-01,  -6.63365019e-01,  -6.54692138e-01,\n",
       "        -6.53881924e-01,  -6.47131292e-01,  -6.47020507e-01,\n",
       "        -6.41706341e-01,  -6.34685815e-01,  -6.33190735e-01,\n",
       "        -6.29995291e-01,  -6.28644134e-01,  -6.28141309e-01,\n",
       "        -6.27777489e-01,  -6.26786059e-01,  -6.25636981e-01,\n",
       "        -6.22724940e-01,  -6.16443479e-01,  -6.10911683e-01,\n",
       "        -6.10792657e-01,  -6.07685580e-01,  -6.05677210e-01,\n",
       "        -6.02287151e-01,  -6.01688330e-01,  -5.99567968e-01,\n",
       "        -5.89257395e-01,  -5.88328633e-01,  -5.86055957e-01,\n",
       "        -5.84868316e-01,  -5.75864355e-01,  -5.75795486e-01,\n",
       "        -5.75342956e-01,  -5.69833290e-01,  -5.62206816e-01,\n",
       "        -5.47503885e-01,  -5.45336649e-01,  -5.43023149e-01,\n",
       "        -5.42390159e-01,  -5.40438013e-01,  -5.39488802e-01,\n",
       "        -5.35367629e-01,  -5.34612178e-01,  -5.30732214e-01,\n",
       "        -5.29288394e-01,  -5.29246227e-01,  -5.25956600e-01,\n",
       "        -5.25718221e-01,  -5.24520291e-01,  -5.21833393e-01,\n",
       "        -5.21239220e-01,  -5.18453084e-01,  -5.18160215e-01,\n",
       "        -5.17943322e-01,  -5.17799236e-01,  -5.16821328e-01,\n",
       "        -5.13198904e-01,  -5.07916514e-01,  -5.03390241e-01,\n",
       "        -5.03290351e-01,  -5.03282306e-01,  -5.03263869e-01,\n",
       "        -4.99959741e-01,  -4.99816976e-01,  -4.98139244e-01,\n",
       "        -4.97044781e-01,  -4.96952352e-01,  -4.84495337e-01,\n",
       "        -4.82628523e-01,  -4.78062186e-01,  -4.77297789e-01,\n",
       "        -4.76275876e-01,  -4.76151044e-01,  -4.72383788e-01,\n",
       "        -4.70401472e-01,  -4.69391377e-01,  -4.69285491e-01,\n",
       "        -4.65599495e-01,  -4.56235264e-01,  -4.53453680e-01,\n",
       "        -4.52930421e-01,  -4.51546776e-01,  -4.51261058e-01,\n",
       "        -4.39216174e-01,  -4.38772794e-01,  -4.38735858e-01,\n",
       "        -4.38122610e-01,  -4.32607902e-01,  -4.29965709e-01,\n",
       "        -4.26766691e-01,  -4.26724954e-01,  -4.26469847e-01,\n",
       "        -4.24752583e-01,  -4.17070721e-01,  -4.16078831e-01,\n",
       "        -4.14534785e-01,  -4.13815783e-01,  -4.12386759e-01,\n",
       "        -4.09749098e-01,  -4.08977984e-01,  -4.04365667e-01,\n",
       "        -4.03068282e-01,  -4.01819036e-01,  -3.99191444e-01,\n",
       "        -3.98000847e-01,  -3.96852309e-01,  -3.92589415e-01,\n",
       "        -3.82531098e-01,  -3.80621410e-01,  -3.79920184e-01,\n",
       "        -3.77066480e-01,  -3.69316409e-01,  -3.62525504e-01,\n",
       "        -3.60961152e-01,  -3.60637867e-01,  -3.59050481e-01,\n",
       "        -3.56167596e-01,  -3.54889076e-01,  -3.54311575e-01,\n",
       "        -3.53521235e-01,  -3.52774247e-01,  -3.51565453e-01,\n",
       "        -3.49868257e-01,  -3.47438488e-01,  -3.46307001e-01,\n",
       "        -3.44451972e-01,  -3.43852292e-01,  -3.43514560e-01,\n",
       "        -3.42652709e-01,  -3.36340261e-01,  -3.16126208e-01,\n",
       "        -3.11480489e-01,  -3.01609202e-01,  -2.92380895e-01,\n",
       "        -2.89364228e-01,  -2.88192687e-01,  -2.83053309e-01,\n",
       "        -2.76846671e-01,  -2.63966135e-01,  -2.63175194e-01,\n",
       "        -2.62621642e-01,  -2.57134187e-01,  -2.53807592e-01,\n",
       "        -2.51966888e-01,  -2.51872891e-01,  -2.50031594e-01,\n",
       "        -2.49303821e-01,  -2.48957356e-01,  -2.40264049e-01,\n",
       "        -2.38650278e-01,  -2.36451991e-01,  -2.32196777e-01,\n",
       "        -2.31245137e-01,  -2.27554319e-01,  -2.26425678e-01,\n",
       "        -2.19377559e-01,  -2.17326253e-01,  -2.14804419e-01,\n",
       "        -2.12122609e-01,  -2.11130728e-01,  -2.09731958e-01,\n",
       "        -2.07538684e-01,  -2.04539682e-01,  -2.04084054e-01,\n",
       "        -2.03916824e-01,  -2.03329242e-01,  -2.02802595e-01,\n",
       "        -2.02490981e-01,  -1.97170783e-01,  -1.91282893e-01,\n",
       "        -1.90662120e-01,  -1.90094175e-01,  -1.87780159e-01,\n",
       "        -1.84995138e-01,  -1.83633731e-01,  -1.82606352e-01,\n",
       "        -1.78508328e-01,  -1.71974115e-01,  -1.70671745e-01,\n",
       "        -1.68787280e-01,  -1.64690095e-01,  -1.58847461e-01,\n",
       "        -1.51433401e-01,  -1.50281001e-01,  -1.45538720e-01,\n",
       "        -1.41093129e-01,  -1.28865112e-01,  -1.23927396e-01,\n",
       "        -1.21062245e-01,  -1.19549511e-01,  -1.14865776e-01,\n",
       "        -1.14017862e-01,  -1.10704129e-01,  -1.08681203e-01,\n",
       "        -1.06920072e-01,  -1.02254052e-01,  -1.01695829e-01,\n",
       "        -1.01072405e-01,  -9.60143853e-02,  -8.94033847e-02,\n",
       "        -8.92668648e-02,  -8.87837498e-02,  -8.83707723e-02,\n",
       "        -8.79708746e-02,  -8.72530363e-02,  -8.31790795e-02,\n",
       "        -8.04327537e-02,  -7.10347182e-02,  -6.90258848e-02,\n",
       "        -6.78347610e-02,  -6.23243209e-02,  -6.21215036e-02,\n",
       "        -5.88291173e-02,  -5.52331111e-02,  -5.39748157e-02,\n",
       "        -5.35761720e-02,  -5.21524132e-02,  -4.97965883e-02,\n",
       "        -4.38133189e-02,  -3.67565944e-02,  -3.30057837e-02,\n",
       "        -3.29074011e-02,  -3.20101635e-02,  -2.46637091e-02,\n",
       "        -2.43116381e-02,  -2.42487707e-02,  -2.33518256e-02,\n",
       "        -1.76820372e-02,  -1.71824531e-02,  -1.49954448e-02,\n",
       "        -1.28504277e-02,  -2.58168894e-03,  -2.48417197e-03,\n",
       "        -1.71571668e-03,  -1.39916306e-03,   5.61548525e-04,\n",
       "         6.81418188e-03,   1.37088819e-02,   1.41290662e-02,\n",
       "         2.00238164e-02,   2.07785225e-02,   2.30840556e-02,\n",
       "         2.44382692e-02,   2.73095761e-02,   2.96009323e-02,\n",
       "         3.07865423e-02,   3.34281557e-02,   3.45279423e-02,\n",
       "         3.54553736e-02,   3.72785380e-02,   3.89616357e-02,\n",
       "         3.93524213e-02,   4.17309752e-02,   4.26351329e-02,\n",
       "         4.69556339e-02,   4.71457040e-02,   4.88503569e-02,\n",
       "         4.93269380e-02,   4.96302724e-02,   4.97203256e-02,\n",
       "         5.23712657e-02,   5.70537647e-02,   5.87172829e-02,\n",
       "         5.90460436e-02,   5.98343725e-02,   6.04929086e-02,\n",
       "         6.55570493e-02,   6.76578083e-02,   6.86782802e-02,\n",
       "         7.12855190e-02,   7.20982617e-02,   7.28626599e-02,\n",
       "         7.31042989e-02,   7.32169837e-02,   7.32724958e-02,\n",
       "         7.44661909e-02,   7.85016110e-02,   8.32263315e-02,\n",
       "         8.36394689e-02,   8.73525985e-02,   9.02303564e-02,\n",
       "         9.03728450e-02,   9.98834249e-02,   1.00548245e-01,\n",
       "         1.01860608e-01,   1.02915499e-01,   1.05537066e-01,\n",
       "         1.05818570e-01,   1.09002274e-01,   1.09600458e-01,\n",
       "         1.09974956e-01,   1.10309806e-01,   1.18509185e-01,\n",
       "         1.21023344e-01,   1.23444337e-01,   1.24217398e-01,\n",
       "         1.26578803e-01,   1.27446572e-01,   1.36773024e-01,\n",
       "         1.40697468e-01,   1.44271994e-01,   1.46916288e-01,\n",
       "         1.50273863e-01,   1.52849433e-01,   1.56270199e-01,\n",
       "         1.58955708e-01,   1.60129233e-01,   1.61834848e-01,\n",
       "         1.68232713e-01,   1.68935004e-01,   1.69667424e-01,\n",
       "         1.71239754e-01,   1.81370201e-01,   1.82748987e-01,\n",
       "         1.83809589e-01,   1.84122378e-01,   1.87198695e-01,\n",
       "         1.87293631e-01,   1.88404886e-01,   1.91558429e-01,\n",
       "         1.92527390e-01,   1.93801431e-01,   1.94196484e-01,\n",
       "         1.94518942e-01,   1.94569236e-01,   1.95587965e-01,\n",
       "         1.95802990e-01,   2.03990474e-01,   2.10912822e-01,\n",
       "         2.14420760e-01,   2.14975841e-01,   2.18690862e-01,\n",
       "         2.20536223e-01,   2.23805012e-01,   2.24216555e-01,\n",
       "         2.24506395e-01,   2.25319187e-01,   2.27593544e-01,\n",
       "         2.30453029e-01,   2.33258015e-01,   2.34209056e-01,\n",
       "         2.39064832e-01,   2.39173560e-01,   2.39204989e-01,\n",
       "         2.41676821e-01,   2.43801084e-01,   2.46286640e-01,\n",
       "         2.47103991e-01,   2.55506366e-01,   2.57670727e-01,\n",
       "         2.60242912e-01,   2.61687991e-01,   2.62615635e-01,\n",
       "         2.66469711e-01,   2.69826085e-01,   2.73090273e-01,\n",
       "         2.73466963e-01,   2.73818633e-01,   2.73910323e-01,\n",
       "         2.75977845e-01,   2.76169085e-01,   2.76313280e-01,\n",
       "         2.78547153e-01,   2.78838014e-01,   2.84703459e-01,\n",
       "         2.85453778e-01,   2.85706773e-01,   2.88715243e-01,\n",
       "         2.91761930e-01,   2.92367456e-01,   2.93495423e-01,\n",
       "         2.93980802e-01,   2.96120208e-01,   2.96721335e-01,\n",
       "         2.99543915e-01,   2.99835895e-01,   3.04049695e-01,\n",
       "         3.04344149e-01,   3.10461388e-01,   3.10912240e-01,\n",
       "         3.22691213e-01,   3.22764218e-01,   3.25655785e-01,\n",
       "         3.31311164e-01,   3.31969200e-01,   3.32081345e-01,\n",
       "         3.36947276e-01,   3.38869909e-01,   3.40063585e-01,\n",
       "         3.43258545e-01,   3.44156837e-01,   3.46102446e-01,\n",
       "         3.46990296e-01,   3.48714637e-01,   3.50267813e-01,\n",
       "         3.54665071e-01,   3.55944321e-01,   3.58278398e-01,\n",
       "         3.58365916e-01,   3.59832261e-01,   3.60997682e-01,\n",
       "         3.64047442e-01,   3.67810595e-01,   3.71625320e-01,\n",
       "         3.74371648e-01,   3.76620078e-01,   3.77727167e-01,\n",
       "         3.79109202e-01,   3.80541663e-01,   3.84283923e-01,\n",
       "         3.92733025e-01,   3.96008065e-01,   4.00061797e-01,\n",
       "         4.08829359e-01,   4.10889858e-01,   4.12578834e-01,\n",
       "         4.14085532e-01,   4.18318584e-01,   4.18751800e-01,\n",
       "         4.20965559e-01,   4.21113416e-01,   4.24020624e-01,\n",
       "         4.27755157e-01,   4.29840160e-01,   4.30855225e-01,\n",
       "         4.31411711e-01,   4.33192127e-01,   4.35557334e-01,\n",
       "         4.37175319e-01,   4.38519149e-01,   4.38701217e-01,\n",
       "         4.44480386e-01,   4.51764570e-01,   4.52564985e-01,\n",
       "         4.54262176e-01,   4.56784609e-01,   4.58620919e-01,\n",
       "         4.61152484e-01,   4.66325980e-01,   4.72278102e-01,\n",
       "         4.74565117e-01,   4.78542147e-01,   4.79985455e-01,\n",
       "         4.83653291e-01,   4.84914479e-01,   4.89293620e-01,\n",
       "         4.93524916e-01,   4.94586591e-01,   4.95947547e-01,\n",
       "         5.03543051e-01,   5.03863200e-01,   5.04636593e-01,\n",
       "         5.06777920e-01,   5.11018949e-01,   5.17104800e-01,\n",
       "         5.17980308e-01,   5.19954608e-01,   5.20781609e-01,\n",
       "         5.24206344e-01,   5.26668298e-01,   5.26739862e-01,\n",
       "         5.28821639e-01,   5.35173724e-01,   5.35826342e-01,\n",
       "         5.37140305e-01,   5.37566837e-01,   5.44602530e-01,\n",
       "         5.45913584e-01,   5.47084625e-01,   5.47563050e-01,\n",
       "         5.48824025e-01,   5.53348495e-01,   5.60075269e-01,\n",
       "         5.60170010e-01,   5.61424138e-01,   5.64110629e-01,\n",
       "         5.64978065e-01,   5.70753383e-01,   5.73218861e-01,\n",
       "         5.73715462e-01,   5.73965920e-01,   5.74809653e-01,\n",
       "         5.78072966e-01,   5.81035413e-01,   5.84618741e-01,\n",
       "         5.84895621e-01,   5.85071462e-01,   5.85420622e-01,\n",
       "         5.86444454e-01,   5.88772965e-01,   5.90447472e-01,\n",
       "         5.93724976e-01,   5.94279756e-01,   5.98912414e-01,\n",
       "         6.00766103e-01,   6.03051112e-01,   6.03378302e-01,\n",
       "         6.04298688e-01,   6.06130363e-01,   6.10990745e-01,\n",
       "         6.17123049e-01,   6.19169250e-01,   6.32433131e-01,\n",
       "         6.32919303e-01,   6.33055565e-01,   6.34776438e-01,\n",
       "         6.37651072e-01,   6.39032567e-01,   6.41284736e-01,\n",
       "         6.48605352e-01,   6.48927133e-01,   6.49596888e-01,\n",
       "         6.65149037e-01,   6.66127230e-01,   6.67693827e-01,\n",
       "         6.73038760e-01,   6.83062369e-01,   6.83772562e-01,\n",
       "         6.87605733e-01,   6.90111502e-01,   6.92959963e-01,\n",
       "         6.93430662e-01,   6.96341504e-01,   6.97883387e-01,\n",
       "         7.01079524e-01,   7.06683970e-01,   7.07197592e-01,\n",
       "         7.13981091e-01,   7.15444617e-01,   7.19501120e-01,\n",
       "         7.24430168e-01,   7.25583961e-01,   7.31131842e-01,\n",
       "         7.31357747e-01,   7.40331806e-01,   7.41623099e-01,\n",
       "         7.52822701e-01,   7.54510211e-01,   7.54857657e-01,\n",
       "         7.60225612e-01,   7.61920851e-01,   7.67406257e-01,\n",
       "         7.68535049e-01,   7.72408782e-01,   7.74212461e-01,\n",
       "         7.79363606e-01,   7.80108532e-01,   7.82824778e-01,\n",
       "         7.88421387e-01,   7.95517128e-01,   7.98834954e-01,\n",
       "         8.00662973e-01,   8.11827085e-01,   8.12491484e-01,\n",
       "         8.21159175e-01,   8.28587127e-01,   8.32040812e-01,\n",
       "         8.36513305e-01,   8.42039499e-01,   8.43089857e-01,\n",
       "         8.47828140e-01,   8.47911539e-01,   8.52339121e-01,\n",
       "         8.52929603e-01,   8.56411103e-01,   8.59218425e-01,\n",
       "         8.60604074e-01,   8.61879156e-01,   8.62268001e-01,\n",
       "         8.65132672e-01,   8.67256981e-01,   8.67956482e-01,\n",
       "         8.70999144e-01,   8.72872507e-01,   8.74284513e-01,\n",
       "         8.75117253e-01,   8.77304411e-01,   8.77799591e-01,\n",
       "         8.79870409e-01,   8.83638676e-01,   8.85587127e-01,\n",
       "         8.88056452e-01,   8.95169034e-01,   8.95633056e-01,\n",
       "         9.06713259e-01,   9.13200659e-01,   9.13973412e-01,\n",
       "         9.14890997e-01,   9.23348640e-01,   9.25122983e-01,\n",
       "         9.28382125e-01,   9.29364137e-01,   9.32462755e-01,\n",
       "         9.36848724e-01,   9.43960796e-01,   9.48619498e-01,\n",
       "         9.56750378e-01,   9.66566516e-01,   9.67617743e-01,\n",
       "         9.67779406e-01,   9.68864929e-01,   9.69961234e-01,\n",
       "         9.71736973e-01,   9.72202951e-01,   9.73608758e-01,\n",
       "         9.81967279e-01,   9.82260168e-01,   9.82288914e-01,\n",
       "         9.85150994e-01,   9.86888962e-01,   9.89040742e-01,\n",
       "         9.98620101e-01,   1.00132066e+00,   1.00196573e+00,\n",
       "         1.00964539e+00,   1.01676707e+00,   1.02711785e+00,\n",
       "         1.03042766e+00,   1.03712847e+00,   1.03790064e+00,\n",
       "         1.04149048e+00,   1.04640785e+00,   1.05235244e+00,\n",
       "         1.05381327e+00,   1.05460937e+00,   1.06328782e+00,\n",
       "         1.07048375e+00,   1.07155634e+00,   1.07212309e+00,\n",
       "         1.07607027e+00,   1.08004829e+00,   1.08170791e+00,\n",
       "         1.08341894e+00,   1.08343684e+00,   1.08917302e+00,\n",
       "         1.09051716e+00,   1.09520517e+00,   1.09618184e+00,\n",
       "         1.10168229e+00,   1.10810275e+00,   1.10845103e+00,\n",
       "         1.11229889e+00,   1.12275857e+00,   1.13197341e+00,\n",
       "         1.13459846e+00,   1.13663322e+00,   1.16809883e+00,\n",
       "         1.17129991e+00,   1.17187691e+00,   1.19328521e+00,\n",
       "         1.19448371e+00,   1.21127855e+00,   1.21632632e+00,\n",
       "         1.21821311e+00,   1.22546678e+00,   1.22663908e+00,\n",
       "         1.23067887e+00,   1.23557671e+00,   1.23801455e+00,\n",
       "         1.24326932e+00,   1.24337931e+00,   1.24356397e+00,\n",
       "         1.24600465e+00,   1.24934823e+00,   1.24943955e+00,\n",
       "         1.24984956e+00,   1.25128505e+00,   1.25268378e+00,\n",
       "         1.25446323e+00,   1.26521672e+00,   1.26695370e+00,\n",
       "         1.26990983e+00,   1.27043731e+00,   1.27175160e+00,\n",
       "         1.27188824e+00,   1.28650850e+00,   1.29263208e+00,\n",
       "         1.30022183e+00,   1.30497763e+00,   1.31905189e+00,\n",
       "         1.33280940e+00,   1.33394904e+00,   1.33996096e+00,\n",
       "         1.34090527e+00,   1.34433126e+00,   1.34764591e+00,\n",
       "         1.35212669e+00,   1.36476358e+00,   1.36661904e+00,\n",
       "         1.38782099e+00,   1.39050692e+00,   1.39156375e+00,\n",
       "         1.40327840e+00,   1.40434780e+00,   1.40599137e+00,\n",
       "         1.40643944e+00,   1.41061238e+00,   1.41150091e+00,\n",
       "         1.42593145e+00,   1.43476681e+00,   1.43747822e+00,\n",
       "         1.43860452e+00,   1.45732254e+00,   1.45792783e+00,\n",
       "         1.46772418e+00,   1.47380663e+00,   1.48157831e+00,\n",
       "         1.48610748e+00,   1.48949894e+00,   1.48992414e+00,\n",
       "         1.49199380e+00,   1.49595972e+00,   1.50168995e+00,\n",
       "         1.50280579e+00,   1.51684709e+00,   1.52010874e+00,\n",
       "         1.52037374e+00,   1.53623822e+00,   1.54032232e+00,\n",
       "         1.54495332e+00,   1.56584507e+00,   1.56835572e+00,\n",
       "         1.57180513e+00,   1.57860821e+00,   1.58038624e+00,\n",
       "         1.58346967e+00,   1.64164565e+00,   1.64833053e+00,\n",
       "         1.66045183e+00,   1.67353779e+00,   1.67968051e+00,\n",
       "         1.68130230e+00,   1.71986872e+00,   1.72285232e+00,\n",
       "         1.73842956e+00,   1.75390755e+00,   1.75542629e+00,\n",
       "         1.76522497e+00,   1.76580590e+00,   1.78554173e+00,\n",
       "         1.80609835e+00,   1.81254956e+00,   1.86058080e+00,\n",
       "         1.89004916e+00,   1.92357872e+00,   1.93082645e+00,\n",
       "         1.93422297e+00,   1.93612984e+00,   1.93912946e+00,\n",
       "         1.95447565e+00,   1.95594041e+00,   1.96317137e+00,\n",
       "         2.02936413e+00,   2.03083707e+00,   2.15063040e+00,\n",
       "         2.22246212e+00,   2.27169696e+00,   2.32509200e+00,\n",
       "         2.33882885e+00,   2.38114175e+00,   2.39082740e+00,\n",
       "         2.41681797e+00,   2.43753075e+00,   2.48011114e+00,\n",
       "         2.49998778e+00,   2.59550390e+00,   2.62400247e+00,\n",
       "         2.73046947e+00,   2.88054416e+00,   2.93420878e+00,\n",
       "         3.23118887e+00])"
      ]
     },
     "execution_count": 51,
     "metadata": {},
     "output_type": "execute_result"
    }
   ],
   "source": [
    "large_arr = np.random.randn(1000)\n",
    "np.sort(large_arr)"
   ]
  },
  {
   "cell_type": "code",
   "execution_count": 54,
   "metadata": {},
   "outputs": [
    {
     "data": {
      "text/plain": [
       "50.0"
      ]
     },
     "execution_count": 54,
     "metadata": {},
     "output_type": "execute_result"
    }
   ],
   "source": [
    "0.05*len(large_arr)"
   ]
  },
  {
   "cell_type": "code",
   "execution_count": 55,
   "metadata": {},
   "outputs": [
    {
     "data": {
      "text/plain": [
       "-1.7225589675002897"
      ]
     },
     "execution_count": 55,
     "metadata": {},
     "output_type": "execute_result"
    }
   ],
   "source": [
    "large_arr[int(0.05*len(large_arr))]"
   ]
  },
  {
   "cell_type": "code",
   "execution_count": 57,
   "metadata": {},
   "outputs": [
    {
     "data": {
      "text/plain": [
       "array([  5.11018949e-01,   2.39064832e-01,  -1.46730130e+00,\n",
       "        -4.97044781e-01,   1.75542629e+00,   1.07155634e+00,\n",
       "         7.85016110e-02,  -1.04643762e+00,  -8.38691300e-01,\n",
       "         1.84122378e-01,  -9.22176170e-01,  -5.39488802e-01,\n",
       "        -2.02802595e-01,   4.52564985e-01,  -4.39216174e-01,\n",
       "         4.83653291e-01,   1.88404886e-01,   9.67779406e-01,\n",
       "         2.03990474e-01,   1.95447565e+00,   4.21113416e-01,\n",
       "        -1.06202365e+00,  -2.30521427e+00,   3.40063585e-01,\n",
       "         2.47103991e-01,  -1.08773924e+00,   1.18509185e-01,\n",
       "         2.85706773e-01,  -4.01819036e-01,   1.24326932e+00,\n",
       "        -6.01688330e-01,   3.58365916e-01,  -9.49735760e-01,\n",
       "         4.93524916e-01,   2.44382692e-02,   2.30453029e-01,\n",
       "         5.73965920e-01,   2.41681797e+00,   2.73046947e+00,\n",
       "         2.33258015e-01,   5.24206344e-01,  -3.44451972e-01,\n",
       "         3.32081345e-01,   7.06683970e-01,  -6.05677210e-01,\n",
       "         7.54857657e-01,   3.77727167e-01,   1.08004829e+00,\n",
       "         6.83772562e-01,   6.73038760e-01,  -1.72255897e+00,\n",
       "        -1.87780159e-01,  -1.07087681e+00,  -1.01695829e-01,\n",
       "        -6.02287151e-01,  -1.98213308e+00,  -4.38772794e-01,\n",
       "        -6.71195540e-01,   6.90111502e-01,   1.41061238e+00,\n",
       "         8.65132672e-01,  -9.74475602e-01,   4.30855225e-01,\n",
       "         6.03378302e-01,   8.11827085e-01,  -4.98139244e-01,\n",
       "        -1.72224655e+00,  -4.69391377e-01,  -3.53521235e-01,\n",
       "        -2.57134187e-01,   1.58955708e-01,  -8.11154450e-01,\n",
       "         3.04049695e-01,  -3.17258195e+00,  -4.24752583e-01,\n",
       "        -1.05353886e+00,   1.08341894e+00,   1.17187691e+00,\n",
       "        -1.79760948e+00,  -2.18197203e+00,   1.23444337e-01,\n",
       "        -8.79708746e-02,   9.82260168e-01,   3.22764218e-01,\n",
       "         3.89616357e-02,  -6.93893256e-01,   4.93269380e-02,\n",
       "         2.78838014e-01,   3.80541663e-01,   1.25446323e+00,\n",
       "        -1.26766976e+00,   4.29840160e-01,  -1.02944295e+00,\n",
       "        -1.12034822e+00,  -1.21761258e+00,  -1.58847461e-01,\n",
       "        -1.31062166e+00,   7.40331806e-01,   1.16809883e+00,\n",
       "         3.58278398e-01,   8.28587127e-01,   2.33882885e+00,\n",
       "         7.80108532e-01,  -2.50650978e+00,   1.71239754e-01,\n",
       "        -1.82606352e-01,   1.40599137e+00,   2.24506395e-01,\n",
       "         2.43801084e-01,   2.39204989e-01,  -5.99567968e-01,\n",
       "         8.79870409e-01,  -1.75911833e+00,  -3.36340261e-01,\n",
       "        -8.13704831e-01,  -1.24505473e+00,   1.92357872e+00,\n",
       "        -2.51872891e-01,   9.82288914e-01,  -1.12188984e+00,\n",
       "         2.88054416e+00,   3.84283923e-01,   8.56411103e-01,\n",
       "         2.55506366e-01,   3.54665071e-01,  -8.22260315e-01,\n",
       "        -5.89257395e-01,  -4.51546776e-01,   4.72278102e-01,\n",
       "        -9.77385313e-01,  -3.99191444e-01,   6.93430662e-01,\n",
       "        -1.79376369e+00,   1.48157831e+00,  -7.99088012e-01,\n",
       "        -1.51286835e+00,  -8.82910900e-01,   5.88772965e-01,\n",
       "         8.70999144e-01,   8.42039499e-01,  -1.43056443e+00,\n",
       "         8.52929603e-01,   1.09051716e+00,   1.44271994e-01,\n",
       "         1.54495332e+00,   2.59550390e+00,  -6.74077483e-01,\n",
       "         1.56835572e+00,   1.94518942e-01,   1.25268378e+00,\n",
       "        -9.58670466e-01,  -7.86272434e-01,  -8.92668648e-02,\n",
       "        -7.10861497e-01,   3.46990296e-01,  -3.82531098e-01,\n",
       "         4.33192127e-01,   2.92367456e-01,   1.83809589e-01,\n",
       "         1.22663908e+00,   1.81254956e+00,  -1.08681203e-01,\n",
       "         1.24356397e+00,   1.13459846e+00,   2.38114175e+00,\n",
       "        -1.00818947e+00,   1.93082645e+00,  -1.22172225e+00,\n",
       "        -8.85129564e-01,   1.76522497e+00,   1.60129233e-01,\n",
       "         3.44156837e-01,  -7.95682111e-01,  -7.72590009e-01,\n",
       "         1.01860608e-01,   1.71986872e+00,   1.09974956e-01,\n",
       "        -4.99816976e-01,  -2.19473633e+00,   1.46916288e-01,\n",
       "        -6.98431339e-01,   3.76620078e-01,   4.44480386e-01,\n",
       "        -2.02490981e-01,  -4.76275876e-01,  -4.52930421e-01,\n",
       "        -5.17799236e-01,  -1.67547694e+00,  -6.90258848e-02,\n",
       "         2.57670727e-01,  -5.84868316e-01,  -1.97170783e-01,\n",
       "        -5.16821328e-01,   5.81035413e-01,   1.04149048e+00,\n",
       "         5.19954608e-01,  -1.00179171e+00,   7.15444617e-01,\n",
       "         1.17129991e+00,  -2.04084054e-01,   4.95947547e-01,\n",
       "         1.45792783e+00,   9.13973412e-01,  -2.72552051e+00,\n",
       "         4.58620919e-01,   6.41284736e-01,   4.69556339e-02,\n",
       "        -8.80874204e-01,   1.52010874e+00,  -1.49954448e-02,\n",
       "        -5.35761720e-02,  -8.80082064e-01,   6.65149037e-01,\n",
       "         3.50267813e-01,   1.24337931e+00,   1.91558429e-01,\n",
       "        -1.60538141e+00,  -1.24379236e+00,   7.68535049e-01,\n",
       "        -1.08523176e+00,  -4.38735858e-01,   9.36848724e-01,\n",
       "        -3.60961152e-01,  -2.76846671e-01,   3.38869909e-01,\n",
       "         4.08829359e-01,  -3.98000847e-01,  -1.42142627e+00,\n",
       "         1.05537066e-01,  -5.21524132e-02,  -5.69833290e-01,\n",
       "        -5.34612178e-01,  -3.80621410e-01,  -5.18160215e-01,\n",
       "         5.70537647e-02,   1.47380663e+00,  -1.82930742e+00,\n",
       "        -1.32521919e+00,   7.54510211e-01,   1.76580590e+00,\n",
       "        -1.12284391e+00,  -1.28504277e-02,  -8.72530363e-02,\n",
       "         1.58346967e+00,   2.78547153e-01,  -7.29973652e-01,\n",
       "         2.61687991e-01,   5.84618741e-01,   4.18751800e-01,\n",
       "        -2.27554319e-01,   1.26990983e+00,   2.27169696e+00,\n",
       "         7.79363606e-01,  -1.53575035e+00,   9.89040742e-01,\n",
       "        -8.75251823e-01,   9.71736973e-01,   1.06328782e+00,\n",
       "        -4.78062186e-01,   1.23801455e+00,  -1.99864090e+00,\n",
       "        -7.90702623e-01,   7.44661909e-02,   1.68130230e+00,\n",
       "        -2.11146981e+00,   1.13197341e+00,  -1.34509889e+00,\n",
       "         8.88056452e-01,   6.49596888e-01,   1.07212309e+00,\n",
       "        -1.92994256e+00,  -2.48957356e-01,  -1.47057863e+00,\n",
       "         2.62615635e-01,  -2.03329242e-01,   3.54553736e-02,\n",
       "         2.23805012e-01,   1.92527390e-01,  -6.77339776e-01,\n",
       "         1.72285232e+00,  -1.07737045e+00,   3.67810595e-01,\n",
       "        -2.07521609e+00,  -1.41694337e+00,  -7.10347182e-02,\n",
       "        -4.99959741e-01,   3.64047442e-01,   1.86058080e+00,\n",
       "        -4.38133189e-02,   1.48610748e+00,  -3.79920184e-01,\n",
       "         6.17123049e-01,   7.13981091e-01,   7.19501120e-01,\n",
       "         6.10990745e-01,   2.20536223e-01,   1.12275857e+00,\n",
       "         1.07607027e+00,   3.10912240e-01,   2.93420878e+00,\n",
       "         1.27188824e+00,  -2.46637091e-02,  -1.23308976e+00,\n",
       "         1.00548245e-01,  -1.86715567e+00,  -1.90094175e-01,\n",
       "        -1.70671745e-01,  -1.06072077e+00,  -1.66864552e+00,\n",
       "         3.96008065e-01,  -4.14534785e-01,   9.86888962e-01,\n",
       "         9.85150994e-01,  -6.47131292e-01,  -1.21091636e+00,\n",
       "         2.30840556e-02,   5.61424138e-01,  -2.17326253e-01,\n",
       "        -9.90603649e-01,  -2.09731958e-01,  -2.12122609e-01,\n",
       "         5.45913584e-01,   4.96302724e-02,  -1.71974115e-01,\n",
       "        -3.92589415e-01,  -8.83707723e-02,   1.39050692e+00,\n",
       "         7.67406257e-01,  -3.69316409e-01,   5.64978065e-01,\n",
       "         6.96341504e-01,  -2.14804419e-01,   1.24934823e+00,\n",
       "         8.95633056e-01,  -8.70242602e-01,  -8.62617692e-01,\n",
       "         4.26351329e-02,   5.17104800e-01,  -5.75342956e-01,\n",
       "         5.78072966e-01,  -2.01735150e+00,   2.15063040e+00,\n",
       "         4.74565117e-01,  -1.11500869e+00,   1.33996096e+00,\n",
       "         1.05818570e-01,   1.36661904e+00,   1.43476681e+00,\n",
       "        -6.07685580e-01,   9.69961234e-01,  -4.82628523e-01,\n",
       "        -7.26959158e-01,  -9.72747776e-01,  -1.33705798e+00,\n",
       "        -8.48663066e-01,   1.24217398e-01,   7.31131842e-01,\n",
       "        -1.45459931e+00,  -7.04459665e-01,   1.10810275e+00,\n",
       "         9.32462755e-01,   6.81418188e-03,   8.74284513e-01,\n",
       "         1.26695370e+00,   4.97203256e-02,   1.81370201e-01,\n",
       "        -1.17881404e+00,   2.91761930e-01,   1.36773024e-01,\n",
       "         7.01079524e-01,  -2.50031594e-01,   7.31357747e-01,\n",
       "         1.09002274e-01,  -1.91960890e+00,   1.00964539e+00,\n",
       "         7.31042989e-02,   2.73095761e-02,  -8.85169793e-01,\n",
       "         5.37140305e-01,   7.24430168e-01,  -7.75442587e-01,\n",
       "        -4.03068282e-01,   9.23348640e-01,  -1.28367210e+00,\n",
       "         9.02303564e-02,   4.54262176e-01,   3.31311164e-01,\n",
       "        -5.45336649e-01,  -1.31903160e+00,   4.18318584e-01,\n",
       "         3.93524213e-02,   4.12578834e-01,  -1.89910483e+00,\n",
       "        -2.88192687e-01,   2.39173560e-01,   1.48992414e+00,\n",
       "        -6.10911683e-01,   2.18690862e-01,  -1.45538720e-01,\n",
       "         8.72872507e-01,  -3.52774247e-01,  -7.58586332e-01,\n",
       "        -4.38122610e-01,   3.36947276e-01,   1.93422297e+00,\n",
       "         9.68864929e-01,   2.73818633e-01,  -4.32607902e-01,\n",
       "        -7.79677888e-01,   6.04929086e-02,  -1.45106100e+00,\n",
       "         1.02711785e+00,   2.10912822e-01,  -1.88836430e+00,\n",
       "        -1.28865112e-01,   1.95587965e-01,   7.95517128e-01,\n",
       "        -8.04327537e-02,   1.31905189e+00,  -2.03916824e-01,\n",
       "         7.28626599e-02,   3.92733025e-01,   2.76313280e-01,\n",
       "        -1.20500407e+00,  -1.28678319e+00,   3.74371648e-01,\n",
       "         1.46772418e+00,   1.96317137e+00,   5.23712657e-02,\n",
       "        -3.62525504e-01,  -5.29246227e-01,  -1.20662451e+00,\n",
       "         8.47911539e-01,   1.64164565e+00,   6.39032567e-01,\n",
       "         4.61152484e-01,   1.54032232e+00,   1.56584507e+00,\n",
       "         1.48949894e+00,  -1.10704129e-01,   1.33394904e+00,\n",
       "         2.99835895e-01,   2.66469711e-01,  -4.04365667e-01,\n",
       "         9.56750378e-01,  -6.98682085e-01,   4.38519149e-01,\n",
       "        -1.83633731e-01,   3.45279423e-02,   1.40434780e+00,\n",
       "        -5.07916514e-01,   3.43258545e-01,   1.53623822e+00,\n",
       "        -6.54692138e-01,   9.28382125e-01,  -2.69726325e+00,\n",
       "         5.17980308e-01,  -1.10667313e+00,   1.67353779e+00,\n",
       "         1.02915499e-01,  -1.88263986e+00,   9.72202951e-01,\n",
       "        -1.52543733e+00,   2.96120208e-01,  -1.01851724e+00,\n",
       "         1.50280579e+00,   5.26739862e-01,   1.87198695e-01,\n",
       "        -1.91282893e-01,   2.93980802e-01,   1.13663322e+00,\n",
       "         1.23557671e+00,  -1.90662120e-01,  -1.84517887e+00,\n",
       "         1.68935004e-01,   1.10168229e+00,   2.46286640e-01,\n",
       "         1.27446572e-01,   1.04640785e+00,   1.51684709e+00,\n",
       "        -1.04008787e+00,   1.27043731e+00,  -1.57405782e+00,\n",
       "        -1.51433401e-01,  -9.65503389e-01,   7.52822701e-01,\n",
       "         1.09600458e-01,  -9.25850324e-01,   6.48605352e-01,\n",
       "        -1.77949688e+00,  -8.87837498e-02,  -7.18986202e-01,\n",
       "        -9.30218356e-01,   4.71457040e-02,   2.93495423e-01,\n",
       "         7.98834954e-01,   5.61548525e-04,  -7.62461494e-01,\n",
       "         1.52037374e+00,  -1.21062245e-01,   4.88503569e-02,\n",
       "         6.33055565e-01,  -5.43023149e-01,  -3.30057837e-02,\n",
       "         8.60604074e-01,  -3.42652709e-01,   1.95594041e+00,\n",
       "        -1.39724210e+00,  -5.39748157e-02,  -9.80056109e-01,\n",
       "        -6.10792657e-01,   2.69826085e-01,   2.02936413e+00,\n",
       "        -6.89139547e-01,  -1.71861938e+00,   5.60170010e-01,\n",
       "         1.36476358e+00,  -1.02669656e+00,  -9.13437056e-01,\n",
       "        -5.75795486e-01,   1.49595972e+00,  -2.53807592e-01,\n",
       "         4.89293620e-01,  -7.98185278e-01,  -1.52758822e+00,\n",
       "         1.87293631e-01,  -1.26919185e+00,  -3.67565944e-02,\n",
       "         1.03790064e+00,  -1.75687901e+00,   6.83062369e-01,\n",
       "        -5.03282306e-01,   5.35826342e-01,   5.85420622e-01,\n",
       "         3.71625320e-01,   1.50273863e-01,  -1.71824531e-02,\n",
       "        -9.60143853e-02,   1.43860452e+00,  -6.88669721e-01,\n",
       "        -1.85086491e+00,  -1.14306637e+00,   1.45732254e+00,\n",
       "         5.37566837e-01,   8.83638676e-01,   2.25319187e-01,\n",
       "        -9.85379222e-01,  -6.16443479e-01,   6.48927133e-01,\n",
       "         1.10309806e-01,  -1.03784575e+00,   2.99543915e-01,\n",
       "        -1.59449678e+00,   1.05460937e+00,  -5.88291173e-02,\n",
       "        -2.58168894e-03,   2.03083707e+00,  -1.29172094e+00,\n",
       "        -4.72383788e-01,  -3.54889076e-01,  -2.36451991e-01,\n",
       "        -2.92380895e-01,  -5.40438013e-01,   4.00061797e-01,\n",
       "        -4.97965883e-02,  -1.02160095e+00,   2.22246212e+00,\n",
       "         6.04298688e-01,   1.38782099e+00,   4.24020624e-01,\n",
       "        -5.86055957e-01,   1.21632632e+00,  -6.26786059e-01,\n",
       "         3.60997682e-01,  -5.03390241e-01,  -9.42132038e-01,\n",
       "        -5.52331111e-02,  -1.07635302e+00,  -5.21239220e-01,\n",
       "        -2.83053309e-01,  -6.74155863e-01,   1.69667424e-01,\n",
       "         9.66566516e-01,   6.92959963e-01,  -3.56167596e-01,\n",
       "         1.00132066e+00,   1.94196484e-01,   5.74809653e-01,\n",
       "         5.73715462e-01,   1.41150091e+00,  -1.02254052e-01,\n",
       "        -1.76985944e+00,   2.85453778e-01,   5.35173724e-01,\n",
       "         5.04636593e-01,  -2.27918464e+00,   6.87605733e-01,\n",
       "        -8.54580272e-01,   1.29263208e+00,   9.67617743e-01,\n",
       "         1.30022183e+00,   8.36394689e-02,   8.77799591e-01,\n",
       "        -4.16078831e-01,   1.09618184e+00,  -9.69517287e-01,\n",
       "         5.53348495e-01,  -7.72916964e-01,  -6.28141309e-01,\n",
       "         5.87172829e-02,  -2.69812766e+00,  -4.26469847e-01,\n",
       "         4.84914479e-01,  -5.03263869e-01,   1.19448371e+00,\n",
       "         1.24984956e+00,   6.19169250e-01,  -8.82850501e-01,\n",
       "         1.22546678e+00,   2.14975841e-01,   1.93612984e+00,\n",
       "        -1.68787280e-01,   5.86444454e-01,   7.74212461e-01,\n",
       "         1.08343684e+00,   3.31969200e-01,   4.38701217e-01,\n",
       "         7.72408782e-01,  -6.47020507e-01,   1.89004916e+00,\n",
       "        -1.45574674e+00,   5.48824025e-01,  -8.16211151e-01,\n",
       "        -1.01072405e-01,   9.13200659e-01,  -7.60605182e-01,\n",
       "        -1.76799468e+00,   8.43089857e-01,  -2.73759880e+00,\n",
       "         2.73466963e-01,  -8.94033847e-02,   5.26668298e-01,\n",
       "        -2.45712631e+00,   1.01676707e+00,  -1.39969027e+00,\n",
       "        -6.34685815e-01,   4.10889858e-01,  -4.13815783e-01,\n",
       "        -2.62621642e-01,   1.33280940e+00,  -6.33190735e-01,\n",
       "         2.48011114e+00,  -7.49071357e-01,  -7.39211435e-01,\n",
       "        -2.28290117e+00,  -2.07538684e-01,  -1.17033817e+00,\n",
       "        -1.01802204e+00,   7.61920851e-01,   2.96721335e-01,\n",
       "         1.26521672e+00,  -1.00507035e+00,  -1.51855631e+00,\n",
       "        -5.17943322e-01,  -1.37365820e+00,   1.26578803e-01,\n",
       "        -1.78508328e-01,  -9.08312140e-01,   5.93724976e-01,\n",
       "        -1.14371420e+00,  -4.51261058e-01,   1.58038624e+00,\n",
       "        -2.04539682e-01,   2.07785225e-02,   1.57860821e+00,\n",
       "         2.84703459e-01,   4.56784609e-01,  -2.42487707e-02,\n",
       "         1.73842956e+00,  -9.28387741e-01,   2.43753075e+00,\n",
       "         1.49199380e+00,  -2.89364228e-01,  -1.84995138e-01,\n",
       "        -2.43116381e-02,  -1.69895235e+00,  -8.80914641e-01,\n",
       "         6.55570493e-02,   4.35557334e-01,  -7.22522791e-01,\n",
       "        -1.32057466e+00,   1.43747822e+00,   8.61879156e-01,\n",
       "         1.34433126e+00,  -4.26766691e-01,   9.73608758e-01,\n",
       "        -2.51966888e-01,   1.03042766e+00,   1.78554173e+00,\n",
       "         6.86782802e-02,  -1.09970904e+00,   5.85071462e-01,\n",
       "         1.67968051e+00,   5.98912414e-01,  -4.53453680e-01,\n",
       "        -9.55053783e-01,  -3.11480489e-01,  -2.11575271e+00,\n",
       "         5.44602530e-01,  -1.14017862e-01,  -9.89390751e-01,\n",
       "        -3.29074011e-02,   1.09520517e+00,   1.95802990e-01,\n",
       "         1.64833053e+00,   1.40643944e+00,   1.21023344e-01,\n",
       "        -2.13312122e+00,   1.56270199e-01,   9.81967279e-01,\n",
       "         4.66325980e-01,   2.75977845e-01,  -1.14865776e-01,\n",
       "         7.88421387e-01,   1.24600465e+00,  -6.23243209e-02,\n",
       "        -1.11141336e+00,  -6.78347610e-02,   9.03728450e-02,\n",
       "        -1.06920072e-01,   7.07197592e-01,  -2.40264049e-01,\n",
       "         7.25583961e-01,  -5.35367629e-01,  -3.43514560e-01,\n",
       "         2.73910323e-01,  -5.18453084e-01,   8.32263315e-02,\n",
       "         4.17309752e-02,   5.98343725e-02,   3.72785380e-02,\n",
       "        -7.09770620e-01,   1.66045183e+00,   2.39082740e+00,\n",
       "        -1.01107149e+00,  -7.46453159e-01,   1.61834848e-01,\n",
       "        -5.21833393e-01,  -1.26518833e+00,  -4.76151044e-01,\n",
       "        -8.77797021e-01,  -1.41093129e-01,  -5.29288394e-01,\n",
       "         3.48714637e-01,   7.32724958e-02,   2.96009323e-02,\n",
       "         1.30497763e+00,  -9.69068339e-01,  -5.25956600e-01,\n",
       "         1.34764591e+00,  -1.56501017e+00,  -5.62206816e-01,\n",
       "         6.76578083e-02,   3.07865423e-02,   8.36513305e-01,\n",
       "         8.67956482e-01,   5.03863200e-01,  -3.43852292e-01,\n",
       "         1.75390755e+00,   6.66127230e-01,  -9.91146329e-01,\n",
       "         1.37088819e-02,   6.00766103e-01,   3.10461388e-01,\n",
       "        -6.21215036e-02,   1.24943955e+00,   3.25655785e-01,\n",
       "        -5.47503885e-01,  -4.69285491e-01,  -6.63365019e-01,\n",
       "         1.80609835e+00,  -4.70401472e-01,   2.73090273e-01,\n",
       "        -1.39615648e+00,  -2.31245137e-01,  -6.25636981e-01,\n",
       "        -7.08620614e-01,   7.82824778e-01,  -6.41706341e-01,\n",
       "         1.21821311e+00,  -8.10338733e-01,   6.37651072e-01,\n",
       "         9.98834249e-02,   6.97883387e-01,  -4.17070721e-01,\n",
       "        -2.38650278e-01,   5.47084625e-01,   1.68232713e-01,\n",
       "         1.35212669e+00,   1.40697468e-01,  -2.33518256e-02,\n",
       "        -8.24645543e-01,  -2.19377559e-01,   9.48619498e-01,\n",
       "        -2.48417197e-03,   1.11229889e+00,   1.94569236e-01,\n",
       "        -1.23932463e+00,   5.94279756e-01,   2.27593544e-01,\n",
       "        -5.88328633e-01,   7.41623099e-01,  -4.96952352e-01,\n",
       "         9.14890997e-01,  -1.98646892e+00,   6.34776438e-01,\n",
       "         1.03712847e+00,   2.34209056e-01,   2.14420760e-01,\n",
       "        -1.22307002e+00,  -1.06725198e+00,  -3.54311575e-01,\n",
       "        -8.49102408e-01,  -8.37156530e-01,   9.43960796e-01,\n",
       "         5.84895621e-01,  -1.39916306e-03,   8.00662973e-01,\n",
       "        -6.22724940e-01,  -3.20101635e-02,   2.32509200e+00,\n",
       "        -2.08264494e+00,  -1.20329340e+00,  -9.29525878e-01,\n",
       "        -6.78714815e-01,   8.52339121e-01,  -4.09749098e-01,\n",
       "         7.20982617e-02,   7.60225612e-01,  -5.03290351e-01,\n",
       "         5.90447472e-01,  -6.68502434e-01,  -4.56235264e-01,\n",
       "         1.27175160e+00,   4.27755157e-01,  -2.79154695e+00,\n",
       "        -8.00043455e-01,   9.29364137e-01,   8.73525985e-02,\n",
       "         3.55944321e-01,  -2.49303821e-01,   5.47563050e-01,\n",
       "         8.12491484e-01,  -1.28552135e+00,   1.34090527e+00,\n",
       "         4.37175319e-01,  -6.27777489e-01,  -5.75864355e-01,\n",
       "        -1.18099685e+00,  -3.96852309e-01,  -1.64690095e-01,\n",
       "        -1.71571668e-03,  -4.26724954e-01,   8.77304411e-01,\n",
       "         1.08917302e+00,   2.49998778e+00,   3.59832261e-01,\n",
       "         1.05235244e+00,  -7.50958674e-01,  -6.53881924e-01,\n",
       "        -1.38185710e+00,   1.00196573e+00,   1.52849433e-01,\n",
       "        -4.84495337e-01,   8.75117253e-01,   3.22691213e-01,\n",
       "        -3.59050481e-01,   1.57180513e+00,  -6.86676101e-01,\n",
       "        -1.76820372e-02,  -8.31790795e-02,  -4.29965709e-01,\n",
       "        -4.12386759e-01,  -3.47438488e-01,   4.78542147e-01,\n",
       "         8.95169034e-01,   1.10845103e+00,   9.06713259e-01,\n",
       "         1.05381327e+00,   1.82748987e-01,   2.41676821e-01,\n",
       "         5.64110629e-01,  -6.28644134e-01,  -1.42506397e+00,\n",
       "         6.03051112e-01,  -1.83143956e+00,  -1.18178459e+00,\n",
       "        -3.51565453e-01,   3.04344149e-01,   2.24216555e-01,\n",
       "        -1.23927396e-01,   5.06777920e-01,  -1.25274111e+00,\n",
       "        -1.19549511e-01,  -5.25718221e-01,   1.93801431e-01,\n",
       "        -9.13810976e-01,  -1.40766956e+00,   8.62268001e-01,\n",
       "         6.32919303e-01,   3.46102446e-01,  -1.21807351e+00,\n",
       "         1.42593145e+00,   1.41290662e-02,  -7.90159110e-01,\n",
       "        -1.10381343e+00,  -1.50281001e-01,  -1.16238604e+00,\n",
       "        -8.32363016e-01,   8.21159175e-01,  -3.49868257e-01,\n",
       "        -1.59728454e+00,   5.70753383e-01,   1.28650850e+00,\n",
       "         1.08170791e+00,   2.00238164e-02,   5.20781609e-01,\n",
       "        -6.29995291e-01,  -2.63175194e-01,   5.03543051e-01,\n",
       "         1.93912946e+00,  -3.60637867e-01,  -5.30732214e-01,\n",
       "         3.23118887e+00,  -2.32196777e-01,   9.25122983e-01,\n",
       "         9.98620101e-01,   1.23067887e+00,  -2.11130728e-01,\n",
       "         8.85587127e-01,  -5.13198904e-01,   6.32433131e-01,\n",
       "         2.60242912e-01,   8.67256981e-01,   4.79985455e-01,\n",
       "         5.60075269e-01,  -1.80387667e+00,  -1.40152802e+00,\n",
       "        -1.44735293e+00,   5.73218861e-01,   1.50168995e+00,\n",
       "        -3.01609202e-01,  -4.77297789e-01,  -1.64101865e+00,\n",
       "        -2.63966135e-01,   8.47828140e-01,  -1.10176349e+00,\n",
       "        -3.03291920e+00,   2.88715243e-01,  -5.24520291e-01,\n",
       "         1.19328521e+00,  -9.34919014e-01,  -1.00153827e+00,\n",
       "         2.62400247e+00,   6.67693827e-01,   7.32169837e-02,\n",
       "        -7.44763855e-01,   8.59218425e-01,   4.94586591e-01,\n",
       "         4.31411711e-01,   1.21127855e+00,   5.90460436e-02,\n",
       "         3.79109202e-01,   1.07048375e+00,  -1.80641745e+00,\n",
       "        -4.65599495e-01,  -1.14069007e+00,  -3.16126208e-01,\n",
       "        -3.46307001e-01,   1.39156375e+00,  -7.03810023e-01,\n",
       "         4.14085532e-01,   7.12855190e-02,  -8.79961663e-01,\n",
       "         3.34281557e-02,  -3.77066480e-01,   6.06130363e-01,\n",
       "        -2.26425678e-01,   8.32040812e-01,  -5.42390159e-01,\n",
       "        -8.01308134e-01,  -1.96392454e+00,   1.40327840e+00,\n",
       "         4.51764570e-01,   5.28821639e-01,  -9.12671186e-01,\n",
       "        -4.08977984e-01,   4.20965559e-01,   2.76169085e-01,\n",
       "         1.25128505e+00])"
      ]
     },
     "execution_count": 57,
     "metadata": {},
     "output_type": "execute_result"
    }
   ],
   "source": [
    "large_arr"
   ]
  },
  {
   "cell_type": "code",
   "execution_count": 56,
   "metadata": {},
   "outputs": [
    {
     "data": {
      "text/plain": [
       "-1.4673012978874871"
      ]
     },
     "execution_count": 56,
     "metadata": {},
     "output_type": "execute_result"
    }
   ],
   "source": [
    "large_arr[2]"
   ]
  },
  {
   "cell_type": "code",
   "execution_count": 58,
   "metadata": {},
   "outputs": [
    {
     "data": {
      "text/plain": [
       "array([1, 2, 3, 4, 5])"
      ]
     },
     "execution_count": 58,
     "metadata": {},
     "output_type": "execute_result"
    }
   ],
   "source": [
    "l=np.array([1,1,1,2,3,4,5])\n",
    "np.unique(l)"
   ]
  },
  {
   "cell_type": "code",
   "execution_count": 59,
   "metadata": {},
   "outputs": [
    {
     "data": {
      "text/plain": [
       "array([ True,  True, False], dtype=bool)"
      ]
     },
     "execution_count": 59,
     "metadata": {},
     "output_type": "execute_result"
    }
   ],
   "source": [
    "np.in1d([1,2,3],[1,2,4])"
   ]
  },
  {
   "cell_type": "code",
   "execution_count": 2,
   "metadata": {
    "collapsed": true
   },
   "outputs": [],
   "source": [
    "arr1 = np.array([[1, 2, 3], [4, 5, 6]])\n",
    "arr2 = np.array([[7, 8, 9], [10, 11, 12]])"
   ]
  },
  {
   "cell_type": "code",
   "execution_count": 5,
   "metadata": {},
   "outputs": [
    {
     "data": {
      "text/plain": [
       "array([[ 1,  2,  3],\n",
       "       [ 4,  5,  6],\n",
       "       [ 7,  8,  9],\n",
       "       [10, 11, 12]])"
      ]
     },
     "execution_count": 5,
     "metadata": {},
     "output_type": "execute_result"
    }
   ],
   "source": [
    "np.concatenate((arr1,arr2),axis=0)"
   ]
  },
  {
   "cell_type": "code",
   "execution_count": 7,
   "metadata": {},
   "outputs": [
    {
     "data": {
      "text/plain": [
       "array([[ 1,  2,  3],\n",
       "       [ 4,  5,  6],\n",
       "       [ 7,  8,  9],\n",
       "       [10, 11, 12]])"
      ]
     },
     "execution_count": 7,
     "metadata": {},
     "output_type": "execute_result"
    }
   ],
   "source": [
    "np.vstack((arr1,arr2))"
   ]
  },
  {
   "cell_type": "code",
   "execution_count": 9,
   "metadata": {},
   "outputs": [
    {
     "name": "stdout",
     "output_type": "stream",
     "text": [
      "[[ 1.19948931 -0.88346742 -0.28618466 -0.79580427 -0.84310509]\n",
      " [ 0.270032   -0.17370595  0.90690284  0.81383347  0.28610122]\n",
      " [-0.96344045 -1.53828931 -0.48919243 -0.16065406  0.76468289]\n",
      " [-0.42886634  0.61363983 -0.96111391  1.5973723  -1.042055  ]\n",
      " [-0.16634988 -2.18060734  0.96709597 -0.05818    -0.0436906 ]]\n",
      "水平拆分\n",
      "first\n",
      "[[ 1.19948931 -0.88346742 -0.28618466 -0.79580427 -0.84310509]]\n",
      "second\n",
      "[[ 0.270032   -0.17370595  0.90690284  0.81383347  0.28610122]\n",
      " [-0.96344045 -1.53828931 -0.48919243 -0.16065406  0.76468289]]\n",
      "third\n",
      "[[-0.42886634  0.61363983 -0.96111391  1.5973723  -1.042055  ]\n",
      " [-0.16634988 -2.18060734  0.96709597 -0.05818    -0.0436906 ]]\n"
     ]
    }
   ],
   "source": [
    "arr = np.random.randn(5, 5)\n",
    "print arr\n",
    "print '水平拆分'\n",
    "first, second, third = np.split(arr, [1, 3], axis = 0)\n",
    "print 'first'\n",
    "print first\n",
    "print 'second'\n",
    "print second\n",
    "print 'third'\n",
    "print third"
   ]
  },
  {
   "cell_type": "code",
   "execution_count": 10,
   "metadata": {},
   "outputs": [
    {
     "data": {
      "text/plain": [
       "array([0, 1, 2])"
      ]
     },
     "execution_count": 10,
     "metadata": {},
     "output_type": "execute_result"
    }
   ],
   "source": [
    "arr=np.arange(3)\n",
    "arr"
   ]
  },
  {
   "cell_type": "code",
   "execution_count": 11,
   "metadata": {},
   "outputs": [
    {
     "data": {
      "text/plain": [
       "array([0, 0, 1, 1, 2, 2])"
      ]
     },
     "execution_count": 11,
     "metadata": {},
     "output_type": "execute_result"
    }
   ],
   "source": [
    "np.repeat(arr,2)"
   ]
  },
  {
   "cell_type": "code",
   "execution_count": 14,
   "metadata": {},
   "outputs": [
    {
     "data": {
      "text/plain": [
       "array([0, 1, 1, 2, 2, 2])"
      ]
     },
     "execution_count": 14,
     "metadata": {},
     "output_type": "execute_result"
    }
   ],
   "source": [
    "np.repeat(arr,(1,2,3))"
   ]
  },
  {
   "cell_type": "code",
   "execution_count": 15,
   "metadata": {},
   "outputs": [
    {
     "data": {
      "text/plain": [
       "array([0, 1, 2, 0, 1, 2])"
      ]
     },
     "execution_count": 15,
     "metadata": {},
     "output_type": "execute_result"
    }
   ],
   "source": [
    "np.tile(arr, 2)"
   ]
  },
  {
   "cell_type": "markdown",
   "metadata": {},
   "source": [
    "### fancy_indexing_equivalents.py"
   ]
  },
  {
   "cell_type": "code",
   "execution_count": 17,
   "metadata": {},
   "outputs": [
    {
     "name": "stdout",
     "output_type": "stream",
     "text": [
      "[[-0.02179847 -1.53628547  0.07412538 -0.18423539]\n",
      " [ 0.80623259 -0.91467056  1.07560146 -0.56468392]]\n",
      "[[ 0.07412538 -0.02179847  0.07412538 -1.53628547]\n",
      " [ 1.07560146  0.80623259  1.07560146 -0.91467056]]\n"
     ]
    }
   ],
   "source": [
    "arr = np.random.randn(2, 4)\n",
    "inds = [2, 0, 2, 1]\n",
    "print arr\n",
    "print arr.take(inds, axis = 1)"
   ]
  },
  {
   "cell_type": "markdown",
   "metadata": {},
   "source": [
    "### dist_matrix.py"
   ]
  },
  {
   "cell_type": "code",
   "execution_count": 9,
   "metadata": {},
   "outputs": [
    {
     "data": {
      "text/plain": [
       "(2L, 500L)"
      ]
     },
     "execution_count": 9,
     "metadata": {},
     "output_type": "execute_result"
    }
   ],
   "source": [
    "X = np.array([range(0, 500), range(500, 1000)])\n",
    "m, n = X.shape\n",
    "m,n\n"
   ]
  },
  {
   "cell_type": "code",
   "execution_count": 20,
   "metadata": {},
   "outputs": [
    {
     "data": {
      "text/plain": [
       "array([[  0,   1,   2,   3,   4,   5,   6,   7,   8,   9,  10,  11,  12,\n",
       "         13,  14,  15,  16,  17,  18,  19,  20,  21,  22,  23,  24,  25,\n",
       "         26,  27,  28,  29,  30,  31,  32,  33,  34,  35,  36,  37,  38,\n",
       "         39,  40,  41,  42,  43,  44,  45,  46,  47,  48,  49,  50,  51,\n",
       "         52,  53,  54,  55,  56,  57,  58,  59,  60,  61,  62,  63,  64,\n",
       "         65,  66,  67,  68,  69,  70,  71,  72,  73,  74,  75,  76,  77,\n",
       "         78,  79,  80,  81,  82,  83,  84,  85,  86,  87,  88,  89,  90,\n",
       "         91,  92,  93,  94,  95,  96,  97,  98,  99, 100, 101, 102, 103,\n",
       "        104, 105, 106, 107, 108, 109, 110, 111, 112, 113, 114, 115, 116,\n",
       "        117, 118, 119, 120, 121, 122, 123, 124, 125, 126, 127, 128, 129,\n",
       "        130, 131, 132, 133, 134, 135, 136, 137, 138, 139, 140, 141, 142,\n",
       "        143, 144, 145, 146, 147, 148, 149, 150, 151, 152, 153, 154, 155,\n",
       "        156, 157, 158, 159, 160, 161, 162, 163, 164, 165, 166, 167, 168,\n",
       "        169, 170, 171, 172, 173, 174, 175, 176, 177, 178, 179, 180, 181,\n",
       "        182, 183, 184, 185, 186, 187, 188, 189, 190, 191, 192, 193, 194,\n",
       "        195, 196, 197, 198, 199, 200, 201, 202, 203, 204, 205, 206, 207,\n",
       "        208, 209, 210, 211, 212, 213, 214, 215, 216, 217, 218, 219, 220,\n",
       "        221, 222, 223, 224, 225, 226, 227, 228, 229, 230, 231, 232, 233,\n",
       "        234, 235, 236, 237, 238, 239, 240, 241, 242, 243, 244, 245, 246,\n",
       "        247, 248, 249, 250, 251, 252, 253, 254, 255, 256, 257, 258, 259,\n",
       "        260, 261, 262, 263, 264, 265, 266, 267, 268, 269, 270, 271, 272,\n",
       "        273, 274, 275, 276, 277, 278, 279, 280, 281, 282, 283, 284, 285,\n",
       "        286, 287, 288, 289, 290, 291, 292, 293, 294, 295, 296, 297, 298,\n",
       "        299, 300, 301, 302, 303, 304, 305, 306, 307, 308, 309, 310, 311,\n",
       "        312, 313, 314, 315, 316, 317, 318, 319, 320, 321, 322, 323, 324,\n",
       "        325, 326, 327, 328, 329, 330, 331, 332, 333, 334, 335, 336, 337,\n",
       "        338, 339, 340, 341, 342, 343, 344, 345, 346, 347, 348, 349, 350,\n",
       "        351, 352, 353, 354, 355, 356, 357, 358, 359, 360, 361, 362, 363,\n",
       "        364, 365, 366, 367, 368, 369, 370, 371, 372, 373, 374, 375, 376,\n",
       "        377, 378, 379, 380, 381, 382, 383, 384, 385, 386, 387, 388, 389,\n",
       "        390, 391, 392, 393, 394, 395, 396, 397, 398, 399, 400, 401, 402,\n",
       "        403, 404, 405, 406, 407, 408, 409, 410, 411, 412, 413, 414, 415,\n",
       "        416, 417, 418, 419, 420, 421, 422, 423, 424, 425, 426, 427, 428,\n",
       "        429, 430, 431, 432, 433, 434, 435, 436, 437, 438, 439, 440, 441,\n",
       "        442, 443, 444, 445, 446, 447, 448, 449, 450, 451, 452, 453, 454,\n",
       "        455, 456, 457, 458, 459, 460, 461, 462, 463, 464, 465, 466, 467,\n",
       "        468, 469, 470, 471, 472, 473, 474, 475, 476, 477, 478, 479, 480,\n",
       "        481, 482, 483, 484, 485, 486, 487, 488, 489, 490, 491, 492, 493,\n",
       "        494, 495, 496, 497, 498, 499],\n",
       "       [500, 501, 502, 503, 504, 505, 506, 507, 508, 509, 510, 511, 512,\n",
       "        513, 514, 515, 516, 517, 518, 519, 520, 521, 522, 523, 524, 525,\n",
       "        526, 527, 528, 529, 530, 531, 532, 533, 534, 535, 536, 537, 538,\n",
       "        539, 540, 541, 542, 543, 544, 545, 546, 547, 548, 549, 550, 551,\n",
       "        552, 553, 554, 555, 556, 557, 558, 559, 560, 561, 562, 563, 564,\n",
       "        565, 566, 567, 568, 569, 570, 571, 572, 573, 574, 575, 576, 577,\n",
       "        578, 579, 580, 581, 582, 583, 584, 585, 586, 587, 588, 589, 590,\n",
       "        591, 592, 593, 594, 595, 596, 597, 598, 599, 600, 601, 602, 603,\n",
       "        604, 605, 606, 607, 608, 609, 610, 611, 612, 613, 614, 615, 616,\n",
       "        617, 618, 619, 620, 621, 622, 623, 624, 625, 626, 627, 628, 629,\n",
       "        630, 631, 632, 633, 634, 635, 636, 637, 638, 639, 640, 641, 642,\n",
       "        643, 644, 645, 646, 647, 648, 649, 650, 651, 652, 653, 654, 655,\n",
       "        656, 657, 658, 659, 660, 661, 662, 663, 664, 665, 666, 667, 668,\n",
       "        669, 670, 671, 672, 673, 674, 675, 676, 677, 678, 679, 680, 681,\n",
       "        682, 683, 684, 685, 686, 687, 688, 689, 690, 691, 692, 693, 694,\n",
       "        695, 696, 697, 698, 699, 700, 701, 702, 703, 704, 705, 706, 707,\n",
       "        708, 709, 710, 711, 712, 713, 714, 715, 716, 717, 718, 719, 720,\n",
       "        721, 722, 723, 724, 725, 726, 727, 728, 729, 730, 731, 732, 733,\n",
       "        734, 735, 736, 737, 738, 739, 740, 741, 742, 743, 744, 745, 746,\n",
       "        747, 748, 749, 750, 751, 752, 753, 754, 755, 756, 757, 758, 759,\n",
       "        760, 761, 762, 763, 764, 765, 766, 767, 768, 769, 770, 771, 772,\n",
       "        773, 774, 775, 776, 777, 778, 779, 780, 781, 782, 783, 784, 785,\n",
       "        786, 787, 788, 789, 790, 791, 792, 793, 794, 795, 796, 797, 798,\n",
       "        799, 800, 801, 802, 803, 804, 805, 806, 807, 808, 809, 810, 811,\n",
       "        812, 813, 814, 815, 816, 817, 818, 819, 820, 821, 822, 823, 824,\n",
       "        825, 826, 827, 828, 829, 830, 831, 832, 833, 834, 835, 836, 837,\n",
       "        838, 839, 840, 841, 842, 843, 844, 845, 846, 847, 848, 849, 850,\n",
       "        851, 852, 853, 854, 855, 856, 857, 858, 859, 860, 861, 862, 863,\n",
       "        864, 865, 866, 867, 868, 869, 870, 871, 872, 873, 874, 875, 876,\n",
       "        877, 878, 879, 880, 881, 882, 883, 884, 885, 886, 887, 888, 889,\n",
       "        890, 891, 892, 893, 894, 895, 896, 897, 898, 899, 900, 901, 902,\n",
       "        903, 904, 905, 906, 907, 908, 909, 910, 911, 912, 913, 914, 915,\n",
       "        916, 917, 918, 919, 920, 921, 922, 923, 924, 925, 926, 927, 928,\n",
       "        929, 930, 931, 932, 933, 934, 935, 936, 937, 938, 939, 940, 941,\n",
       "        942, 943, 944, 945, 946, 947, 948, 949, 950, 951, 952, 953, 954,\n",
       "        955, 956, 957, 958, 959, 960, 961, 962, 963, 964, 965, 966, 967,\n",
       "        968, 969, 970, 971, 972, 973, 974, 975, 976, 977, 978, 979, 980,\n",
       "        981, 982, 983, 984, 985, 986, 987, 988, 989, 990, 991, 992, 993,\n",
       "        994, 995, 996, 997, 998, 999]])"
      ]
     },
     "execution_count": 20,
     "metadata": {},
     "output_type": "execute_result"
    }
   ],
   "source": [
    "X"
   ]
  },
  {
   "cell_type": "code",
   "execution_count": 10,
   "metadata": {
    "collapsed": true
   },
   "outputs": [],
   "source": [
    "D = np.zeros([n, n])\n",
    "for i in xrange(n):\n",
    "    for j in xrange(i + 1, n):\n",
    "        d = X[:, i] - X[:, j]\n",
    "        D[i, j] = np.dot(d, d)\n",
    "        D[j, i] = D[i, j]"
   ]
  },
  {
   "cell_type": "code",
   "execution_count": 12,
   "metadata": {},
   "outputs": [
    {
     "data": {
      "text/plain": [
       "array([[ 0.,  0.,  0., ...,  0.,  0.,  0.],\n",
       "       [ 0.,  0.,  0., ...,  0.,  0.,  0.],\n",
       "       [ 0.,  0.,  0., ...,  0.,  0.,  0.],\n",
       "       ..., \n",
       "       [ 0.,  0.,  0., ...,  0.,  0.,  0.],\n",
       "       [ 0.,  0.,  0., ...,  0.,  0.,  0.],\n",
       "       [ 0.,  0.,  0., ...,  0.,  0.,  0.]])"
      ]
     },
     "execution_count": 12,
     "metadata": {},
     "output_type": "execute_result"
    }
   ],
   "source": [
    "D=np.zeros([n,n])\n",
    "D"
   ]
  },
  {
   "cell_type": "code",
   "execution_count": 13,
   "metadata": {},
   "outputs": [
    {
     "data": {
      "text/plain": [
       "xrange(10)"
      ]
     },
     "execution_count": 13,
     "metadata": {},
     "output_type": "execute_result"
    }
   ],
   "source": [
    "xrange(10)"
   ]
  },
  {
   "cell_type": "code",
   "execution_count": 24,
   "metadata": {},
   "outputs": [
    {
     "data": {
      "text/plain": [
       "(500L, 500L)"
      ]
     },
     "execution_count": 24,
     "metadata": {},
     "output_type": "execute_result"
    }
   ],
   "source": [
    "D.shape"
   ]
  },
  {
   "cell_type": "code",
   "execution_count": 27,
   "metadata": {},
   "outputs": [
    {
     "data": {
      "text/plain": [
       "xrange(500)"
      ]
     },
     "execution_count": 27,
     "metadata": {},
     "output_type": "execute_result"
    }
   ],
   "source": [
    "a=xrange(500)\n",
    "a"
   ]
  },
  {
   "cell_type": "code",
   "execution_count": 16,
   "metadata": {},
   "outputs": [
    {
     "data": {
      "text/plain": [
       "array([[0, 1, 2, 3, 4],\n",
       "       [5, 6, 7, 8, 9]])"
      ]
     },
     "execution_count": 16,
     "metadata": {},
     "output_type": "execute_result"
    }
   ],
   "source": [
    "x=np.array((range(0,5),range(5,10)))\n",
    "x"
   ]
  },
  {
   "cell_type": "code",
   "execution_count": 17,
   "metadata": {},
   "outputs": [
    {
     "data": {
      "text/plain": [
       "array([1, 6])"
      ]
     },
     "execution_count": 17,
     "metadata": {},
     "output_type": "execute_result"
    }
   ],
   "source": [
    "x[:,1]"
   ]
  },
  {
   "cell_type": "code",
   "execution_count": 36,
   "metadata": {},
   "outputs": [
    {
     "name": "stdout",
     "output_type": "stream",
     "text": [
      "0 1\n",
      "[0 5] - [1 6] = [-1 -1]\n",
      "D[i, j] = 2\n",
      "0 2\n",
      "[0 5] - [2 7] = [-2 -2]\n",
      "D[i, j] = 8\n",
      "0 3\n",
      "[0 5] - [3 8] = [-3 -3]\n",
      "D[i, j] = 18\n",
      "0 4\n",
      "[0 5] - [4 9] = [-4 -4]\n",
      "D[i, j] = 32\n",
      "1 2\n",
      "[1 6] - [2 7] = [-1 -1]\n",
      "D[i, j] = 2\n",
      "1 3\n",
      "[1 6] - [3 8] = [-2 -2]\n",
      "D[i, j] = 8\n",
      "1 4\n",
      "[1 6] - [4 9] = [-3 -3]\n",
      "D[i, j] = 18\n",
      "2 3\n",
      "[2 7] - [3 8] = [-1 -1]\n",
      "D[i, j] = 2\n",
      "2 4\n",
      "[2 7] - [4 9] = [-2 -2]\n",
      "D[i, j] = 8\n",
      "3 4\n",
      "[3 8] - [4 9] = [-1 -1]\n",
      "D[i, j] = 2\n"
     ]
    }
   ],
   "source": [
    "D = np.zeros([5, 5])\n",
    "for i in xrange(5):\n",
    "    for j in xrange(i + 1, 5):\n",
    "        print i,j\n",
    "        print x[:,i],\"-\",x[:,j],\"=\",x[:, i] - x[:, j]\n",
    "        d=x[:,i]-x[:,j]\n",
    "        print'D[i, j]',\"=\",np.dot(d,d)"
   ]
  },
  {
   "cell_type": "markdown",
   "metadata": {},
   "source": [
    "# 3\n"
   ]
  },
  {
   "cell_type": "code",
   "execution_count": 42,
   "metadata": {
    "collapsed": true
   },
   "outputs": [],
   "source": [
    "import pandas as pd\n",
    "from pandas import Series"
   ]
  },
  {
   "cell_type": "code",
   "execution_count": 44,
   "metadata": {},
   "outputs": [
    {
     "data": {
      "text/plain": [
       "0    1\n",
       "1    2\n",
       "2    3\n",
       "dtype: int64"
      ]
     },
     "execution_count": 44,
     "metadata": {},
     "output_type": "execute_result"
    }
   ],
   "source": [
    "Series([1,2,3])"
   ]
  },
  {
   "cell_type": "code",
   "execution_count": 58,
   "metadata": {},
   "outputs": [
    {
     "data": {
      "text/plain": [
       "0    1\n",
       "1    2\n",
       "2    3\n",
       "dtype: int64"
      ]
     },
     "execution_count": 58,
     "metadata": {},
     "output_type": "execute_result"
    }
   ],
   "source": [
    "pd.Series([1,2,3])"
   ]
  },
  {
   "cell_type": "code",
   "execution_count": 45,
   "metadata": {},
   "outputs": [
    {
     "data": {
      "text/plain": [
       "a    1\n",
       "b    2\n",
       "c    3\n",
       "dtype: int64"
      ]
     },
     "execution_count": 45,
     "metadata": {},
     "output_type": "execute_result"
    }
   ],
   "source": [
    "a=Series([1,2,3],index=('a','b','c'))\n",
    "a"
   ]
  },
  {
   "cell_type": "code",
   "execution_count": 46,
   "metadata": {},
   "outputs": [
    {
     "data": {
      "text/plain": [
       "3"
      ]
     },
     "execution_count": 46,
     "metadata": {},
     "output_type": "execute_result"
    }
   ],
   "source": [
    "a['c']"
   ]
  },
  {
   "cell_type": "code",
   "execution_count": 50,
   "metadata": {},
   "outputs": [
    {
     "data": {
      "text/plain": [
       "Ohio      45000\n",
       "Oregon    16000\n",
       "Texas     71000\n",
       "Utah       5000\n",
       "dtype: int64"
      ]
     },
     "execution_count": 50,
     "metadata": {},
     "output_type": "execute_result"
    }
   ],
   "source": [
    "sdata = {'Ohio':45000, 'Texas':71000, 'Oregon':16000, 'Utah':5000}\n",
    "sdata\n",
    "obj3 = Series(sdata)\n",
    "obj3"
   ]
  },
  {
   "cell_type": "code",
   "execution_count": 48,
   "metadata": {},
   "outputs": [
    {
     "data": {
      "text/plain": [
       "California        NaN\n",
       "Ohio          45000.0\n",
       "Oregon        16000.0\n",
       "Texas         71000.0\n",
       "dtype: float64"
      ]
     },
     "execution_count": 48,
     "metadata": {},
     "output_type": "execute_result"
    }
   ],
   "source": [
    "states = ['California', 'Ohio', 'Oregon', 'Texas']\n",
    "obj4 = Series(sdata, index = states)\n",
    "obj4"
   ]
  },
  {
   "cell_type": "code",
   "execution_count": 51,
   "metadata": {},
   "outputs": [
    {
     "data": {
      "text/plain": [
       "California         NaN\n",
       "Ohio           90000.0\n",
       "Oregon         32000.0\n",
       "Texas         142000.0\n",
       "Utah               NaN\n",
       "dtype: float64"
      ]
     },
     "execution_count": 51,
     "metadata": {},
     "output_type": "execute_result"
    }
   ],
   "source": [
    "obj3+obj4"
   ]
  },
  {
   "cell_type": "code",
   "execution_count": 53,
   "metadata": {},
   "outputs": [
    {
     "data": {
      "text/plain": [
       "Ohio      45000\n",
       "Oregon    16000\n",
       "Texas     71000\n",
       "Utah       5000\n",
       "Name: population, dtype: int64"
      ]
     },
     "execution_count": 53,
     "metadata": {},
     "output_type": "execute_result"
    }
   ],
   "source": [
    "obj3.name='population'\n",
    "obj3"
   ]
  },
  {
   "cell_type": "code",
   "execution_count": 54,
   "metadata": {},
   "outputs": [
    {
     "data": {
      "text/plain": [
       "state\n",
       "Ohio      45000\n",
       "Oregon    16000\n",
       "Texas     71000\n",
       "Utah       5000\n",
       "Name: population, dtype: int64"
      ]
     },
     "execution_count": 54,
     "metadata": {},
     "output_type": "execute_result"
    }
   ],
   "source": [
    "obj3.index.name='state'\n",
    "obj3"
   ]
  },
  {
   "cell_type": "code",
   "execution_count": 56,
   "metadata": {},
   "outputs": [
    {
     "data": {
      "text/plain": [
       "array([45000, 16000, 71000,  5000], dtype=int64)"
      ]
     },
     "execution_count": 56,
     "metadata": {},
     "output_type": "execute_result"
    }
   ],
   "source": [
    "obj3.values"
   ]
  },
  {
   "cell_type": "code",
   "execution_count": 18,
   "metadata": {
    "collapsed": true
   },
   "outputs": [],
   "source": [
    "data={'state':['Ohio', 'Ohio', 'Ohio', 'Nevada', 'Nevada'],\n",
    "        'year':[2000, 2001, 2002, 2001, 2002],\n",
    "        'pop':[1.5, 1.7, 3.6, 2.4, 2.9]}"
   ]
  },
  {
   "cell_type": "code",
   "execution_count": 61,
   "metadata": {},
   "outputs": [
    {
     "data": {
      "text/html": [
       "<div>\n",
       "<style>\n",
       "    .dataframe thead tr:only-child th {\n",
       "        text-align: right;\n",
       "    }\n",
       "\n",
       "    .dataframe thead th {\n",
       "        text-align: left;\n",
       "    }\n",
       "\n",
       "    .dataframe tbody tr th {\n",
       "        vertical-align: top;\n",
       "    }\n",
       "</style>\n",
       "<table border=\"1\" class=\"dataframe\">\n",
       "  <thead>\n",
       "    <tr style=\"text-align: right;\">\n",
       "      <th></th>\n",
       "      <th>year</th>\n",
       "      <th>state</th>\n",
       "      <th>pop</th>\n",
       "    </tr>\n",
       "  </thead>\n",
       "  <tbody>\n",
       "    <tr>\n",
       "      <th>0</th>\n",
       "      <td>2000</td>\n",
       "      <td>Ohio</td>\n",
       "      <td>1.5</td>\n",
       "    </tr>\n",
       "    <tr>\n",
       "      <th>1</th>\n",
       "      <td>2001</td>\n",
       "      <td>Ohio</td>\n",
       "      <td>1.7</td>\n",
       "    </tr>\n",
       "    <tr>\n",
       "      <th>2</th>\n",
       "      <td>2002</td>\n",
       "      <td>Ohio</td>\n",
       "      <td>3.6</td>\n",
       "    </tr>\n",
       "    <tr>\n",
       "      <th>3</th>\n",
       "      <td>2001</td>\n",
       "      <td>Nevada</td>\n",
       "      <td>2.4</td>\n",
       "    </tr>\n",
       "    <tr>\n",
       "      <th>4</th>\n",
       "      <td>2002</td>\n",
       "      <td>Nevada</td>\n",
       "      <td>2.9</td>\n",
       "    </tr>\n",
       "  </tbody>\n",
       "</table>\n",
       "</div>"
      ],
      "text/plain": [
       "   year   state  pop\n",
       "0  2000    Ohio  1.5\n",
       "1  2001    Ohio  1.7\n",
       "2  2002    Ohio  3.6\n",
       "3  2001  Nevada  2.4\n",
       "4  2002  Nevada  2.9"
      ]
     },
     "execution_count": 61,
     "metadata": {},
     "output_type": "execute_result"
    }
   ],
   "source": [
    "pd.DataFrame(data,columns=['year', 'state', 'pop'])"
   ]
  },
  {
   "cell_type": "code",
   "execution_count": 65,
   "metadata": {},
   "outputs": [
    {
     "data": {
      "text/html": [
       "<div>\n",
       "<style>\n",
       "    .dataframe thead tr:only-child th {\n",
       "        text-align: right;\n",
       "    }\n",
       "\n",
       "    .dataframe thead th {\n",
       "        text-align: left;\n",
       "    }\n",
       "\n",
       "    .dataframe tbody tr th {\n",
       "        vertical-align: top;\n",
       "    }\n",
       "</style>\n",
       "<table border=\"1\" class=\"dataframe\">\n",
       "  <thead>\n",
       "    <tr style=\"text-align: right;\">\n",
       "      <th></th>\n",
       "      <th>year</th>\n",
       "      <th>state</th>\n",
       "      <th>pop</th>\n",
       "      <th>debt</th>\n",
       "    </tr>\n",
       "  </thead>\n",
       "  <tbody>\n",
       "    <tr>\n",
       "      <th>one</th>\n",
       "      <td>2000</td>\n",
       "      <td>Ohio</td>\n",
       "      <td>1.5</td>\n",
       "      <td>NaN</td>\n",
       "    </tr>\n",
       "    <tr>\n",
       "      <th>two</th>\n",
       "      <td>2001</td>\n",
       "      <td>Ohio</td>\n",
       "      <td>1.7</td>\n",
       "      <td>NaN</td>\n",
       "    </tr>\n",
       "    <tr>\n",
       "      <th>three</th>\n",
       "      <td>2002</td>\n",
       "      <td>Ohio</td>\n",
       "      <td>3.6</td>\n",
       "      <td>NaN</td>\n",
       "    </tr>\n",
       "    <tr>\n",
       "      <th>four</th>\n",
       "      <td>2001</td>\n",
       "      <td>Nevada</td>\n",
       "      <td>2.4</td>\n",
       "      <td>NaN</td>\n",
       "    </tr>\n",
       "    <tr>\n",
       "      <th>five</th>\n",
       "      <td>2002</td>\n",
       "      <td>Nevada</td>\n",
       "      <td>2.9</td>\n",
       "      <td>NaN</td>\n",
       "    </tr>\n",
       "  </tbody>\n",
       "</table>\n",
       "</div>"
      ],
      "text/plain": [
       "       year   state  pop debt\n",
       "one    2000    Ohio  1.5  NaN\n",
       "two    2001    Ohio  1.7  NaN\n",
       "three  2002    Ohio  3.6  NaN\n",
       "four   2001  Nevada  2.4  NaN\n",
       "five   2002  Nevada  2.9  NaN"
      ]
     },
     "execution_count": 65,
     "metadata": {},
     "output_type": "execute_result"
    }
   ],
   "source": [
    "frame2 = pd.DataFrame(data,\n",
    "                    columns = ['year', 'state', 'pop', 'debt'],\n",
    "                    index = ('one', 'two', 'three', 'four', 'five'))\n",
    "frame2"
   ]
  },
  {
   "cell_type": "code",
   "execution_count": 66,
   "metadata": {},
   "outputs": [
    {
     "data": {
      "text/plain": [
       "one        Ohio\n",
       "two        Ohio\n",
       "three      Ohio\n",
       "four     Nevada\n",
       "five     Nevada\n",
       "Name: state, dtype: object"
      ]
     },
     "execution_count": 66,
     "metadata": {},
     "output_type": "execute_result"
    }
   ],
   "source": [
    "frame2['state']"
   ]
  },
  {
   "cell_type": "code",
   "execution_count": 68,
   "metadata": {},
   "outputs": [
    {
     "data": {
      "text/plain": [
       "one        Ohio\n",
       "two        Ohio\n",
       "three      Ohio\n",
       "four     Nevada\n",
       "five     Nevada\n",
       "Name: state, dtype: object"
      ]
     },
     "execution_count": 68,
     "metadata": {},
     "output_type": "execute_result"
    }
   ],
   "source": [
    "frame2.state"
   ]
  },
  {
   "cell_type": "code",
   "execution_count": 72,
   "metadata": {},
   "outputs": [
    {
     "data": {
      "text/plain": [
       "year     2000\n",
       "state    Ohio\n",
       "pop       1.5\n",
       "debt      NaN\n",
       "Name: one, dtype: object"
      ]
     },
     "execution_count": 72,
     "metadata": {},
     "output_type": "execute_result"
    }
   ],
   "source": [
    "frame2.loc['one']"
   ]
  },
  {
   "cell_type": "code",
   "execution_count": 76,
   "metadata": {},
   "outputs": [
    {
     "data": {
      "text/html": [
       "<div>\n",
       "<style>\n",
       "    .dataframe thead tr:only-child th {\n",
       "        text-align: right;\n",
       "    }\n",
       "\n",
       "    .dataframe thead th {\n",
       "        text-align: left;\n",
       "    }\n",
       "\n",
       "    .dataframe tbody tr th {\n",
       "        vertical-align: top;\n",
       "    }\n",
       "</style>\n",
       "<table border=\"1\" class=\"dataframe\">\n",
       "  <thead>\n",
       "    <tr style=\"text-align: right;\">\n",
       "      <th></th>\n",
       "      <th>year</th>\n",
       "      <th>state</th>\n",
       "      <th>pop</th>\n",
       "      <th>debt</th>\n",
       "    </tr>\n",
       "  </thead>\n",
       "  <tbody>\n",
       "    <tr>\n",
       "      <th>one</th>\n",
       "      <td>2000</td>\n",
       "      <td>Ohio</td>\n",
       "      <td>1.5</td>\n",
       "      <td>NaN</td>\n",
       "    </tr>\n",
       "    <tr>\n",
       "      <th>two</th>\n",
       "      <td>2001</td>\n",
       "      <td>Ohio</td>\n",
       "      <td>1.7</td>\n",
       "      <td>-1.2</td>\n",
       "    </tr>\n",
       "    <tr>\n",
       "      <th>three</th>\n",
       "      <td>2002</td>\n",
       "      <td>Ohio</td>\n",
       "      <td>3.6</td>\n",
       "      <td>NaN</td>\n",
       "    </tr>\n",
       "    <tr>\n",
       "      <th>four</th>\n",
       "      <td>2001</td>\n",
       "      <td>Nevada</td>\n",
       "      <td>2.4</td>\n",
       "      <td>-1.5</td>\n",
       "    </tr>\n",
       "    <tr>\n",
       "      <th>five</th>\n",
       "      <td>2002</td>\n",
       "      <td>Nevada</td>\n",
       "      <td>2.9</td>\n",
       "      <td>-1.7</td>\n",
       "    </tr>\n",
       "  </tbody>\n",
       "</table>\n",
       "</div>"
      ],
      "text/plain": [
       "       year   state  pop  debt\n",
       "one    2000    Ohio  1.5   NaN\n",
       "two    2001    Ohio  1.7  -1.2\n",
       "three  2002    Ohio  3.6   NaN\n",
       "four   2001  Nevada  2.4  -1.5\n",
       "five   2002  Nevada  2.9  -1.7"
      ]
     },
     "execution_count": 76,
     "metadata": {},
     "output_type": "execute_result"
    }
   ],
   "source": [
    "val = Series([-1.2, -1.5, -1.7], index = ['two', 'four', 'five'])\n",
    "frame2['debt'] = val\n",
    "frame2"
   ]
  },
  {
   "cell_type": "code",
   "execution_count": 79,
   "metadata": {},
   "outputs": [
    {
     "data": {
      "text/html": [
       "<div>\n",
       "<style>\n",
       "    .dataframe thead tr:only-child th {\n",
       "        text-align: right;\n",
       "    }\n",
       "\n",
       "    .dataframe thead th {\n",
       "        text-align: left;\n",
       "    }\n",
       "\n",
       "    .dataframe tbody tr th {\n",
       "        vertical-align: top;\n",
       "    }\n",
       "</style>\n",
       "<table border=\"1\" class=\"dataframe\">\n",
       "  <thead>\n",
       "    <tr style=\"text-align: right;\">\n",
       "      <th></th>\n",
       "      <th>year</th>\n",
       "      <th>state</th>\n",
       "      <th>pop</th>\n",
       "      <th>debt</th>\n",
       "      <th>eastern</th>\n",
       "    </tr>\n",
       "  </thead>\n",
       "  <tbody>\n",
       "    <tr>\n",
       "      <th>one</th>\n",
       "      <td>2000</td>\n",
       "      <td>Ohio</td>\n",
       "      <td>1.5</td>\n",
       "      <td>NaN</td>\n",
       "      <td>True</td>\n",
       "    </tr>\n",
       "    <tr>\n",
       "      <th>two</th>\n",
       "      <td>2001</td>\n",
       "      <td>Ohio</td>\n",
       "      <td>1.7</td>\n",
       "      <td>-1.2</td>\n",
       "      <td>True</td>\n",
       "    </tr>\n",
       "    <tr>\n",
       "      <th>three</th>\n",
       "      <td>2002</td>\n",
       "      <td>Ohio</td>\n",
       "      <td>3.6</td>\n",
       "      <td>NaN</td>\n",
       "      <td>True</td>\n",
       "    </tr>\n",
       "    <tr>\n",
       "      <th>four</th>\n",
       "      <td>2001</td>\n",
       "      <td>Nevada</td>\n",
       "      <td>2.4</td>\n",
       "      <td>-1.5</td>\n",
       "      <td>False</td>\n",
       "    </tr>\n",
       "    <tr>\n",
       "      <th>five</th>\n",
       "      <td>2002</td>\n",
       "      <td>Nevada</td>\n",
       "      <td>2.9</td>\n",
       "      <td>-1.7</td>\n",
       "      <td>False</td>\n",
       "    </tr>\n",
       "  </tbody>\n",
       "</table>\n",
       "</div>"
      ],
      "text/plain": [
       "       year   state  pop  debt  eastern\n",
       "one    2000    Ohio  1.5   NaN     True\n",
       "two    2001    Ohio  1.7  -1.2     True\n",
       "three  2002    Ohio  3.6   NaN     True\n",
       "four   2001  Nevada  2.4  -1.5    False\n",
       "five   2002  Nevada  2.9  -1.7    False"
      ]
     },
     "execution_count": 79,
     "metadata": {},
     "output_type": "execute_result"
    }
   ],
   "source": [
    "frame2['eastern']=(frame2['state']=='Ohio')\n",
    "frame2"
   ]
  },
  {
   "cell_type": "code",
   "execution_count": 80,
   "metadata": {},
   "outputs": [
    {
     "data": {
      "text/html": [
       "<div>\n",
       "<style>\n",
       "    .dataframe thead tr:only-child th {\n",
       "        text-align: right;\n",
       "    }\n",
       "\n",
       "    .dataframe thead th {\n",
       "        text-align: left;\n",
       "    }\n",
       "\n",
       "    .dataframe tbody tr th {\n",
       "        vertical-align: top;\n",
       "    }\n",
       "</style>\n",
       "<table border=\"1\" class=\"dataframe\">\n",
       "  <thead>\n",
       "    <tr style=\"text-align: right;\">\n",
       "      <th></th>\n",
       "      <th>one</th>\n",
       "      <th>two</th>\n",
       "      <th>three</th>\n",
       "      <th>four</th>\n",
       "      <th>five</th>\n",
       "    </tr>\n",
       "  </thead>\n",
       "  <tbody>\n",
       "    <tr>\n",
       "      <th>year</th>\n",
       "      <td>2000</td>\n",
       "      <td>2001</td>\n",
       "      <td>2002</td>\n",
       "      <td>2001</td>\n",
       "      <td>2002</td>\n",
       "    </tr>\n",
       "    <tr>\n",
       "      <th>state</th>\n",
       "      <td>Ohio</td>\n",
       "      <td>Ohio</td>\n",
       "      <td>Ohio</td>\n",
       "      <td>Nevada</td>\n",
       "      <td>Nevada</td>\n",
       "    </tr>\n",
       "    <tr>\n",
       "      <th>pop</th>\n",
       "      <td>1.5</td>\n",
       "      <td>1.7</td>\n",
       "      <td>3.6</td>\n",
       "      <td>2.4</td>\n",
       "      <td>2.9</td>\n",
       "    </tr>\n",
       "    <tr>\n",
       "      <th>debt</th>\n",
       "      <td>NaN</td>\n",
       "      <td>-1.2</td>\n",
       "      <td>NaN</td>\n",
       "      <td>-1.5</td>\n",
       "      <td>-1.7</td>\n",
       "    </tr>\n",
       "    <tr>\n",
       "      <th>eastern</th>\n",
       "      <td>True</td>\n",
       "      <td>True</td>\n",
       "      <td>True</td>\n",
       "      <td>False</td>\n",
       "      <td>False</td>\n",
       "    </tr>\n",
       "  </tbody>\n",
       "</table>\n",
       "</div>"
      ],
      "text/plain": [
       "          one   two three    four    five\n",
       "year     2000  2001  2002    2001    2002\n",
       "state    Ohio  Ohio  Ohio  Nevada  Nevada\n",
       "pop       1.5   1.7   3.6     2.4     2.9\n",
       "debt      NaN  -1.2   NaN    -1.5    -1.7\n",
       "eastern  True  True  True   False   False"
      ]
     },
     "execution_count": 80,
     "metadata": {},
     "output_type": "execute_result"
    }
   ],
   "source": [
    "frame2.T"
   ]
  },
  {
   "cell_type": "code",
   "execution_count": 20,
   "metadata": {},
   "outputs": [
    {
     "data": {
      "text/html": [
       "<div>\n",
       "<style>\n",
       "    .dataframe thead tr:only-child th {\n",
       "        text-align: right;\n",
       "    }\n",
       "\n",
       "    .dataframe thead th {\n",
       "        text-align: left;\n",
       "    }\n",
       "\n",
       "    .dataframe tbody tr th {\n",
       "        vertical-align: top;\n",
       "    }\n",
       "</style>\n",
       "<table border=\"1\" class=\"dataframe\">\n",
       "  <thead>\n",
       "    <tr style=\"text-align: right;\">\n",
       "      <th></th>\n",
       "      <th>nevada</th>\n",
       "      <th>ohio</th>\n",
       "    </tr>\n",
       "  </thead>\n",
       "  <tbody>\n",
       "    <tr>\n",
       "      <th>2000</th>\n",
       "      <td>NaN</td>\n",
       "      <td>1.5</td>\n",
       "    </tr>\n",
       "    <tr>\n",
       "      <th>2001</th>\n",
       "      <td>2.4</td>\n",
       "      <td>1.7</td>\n",
       "    </tr>\n",
       "    <tr>\n",
       "      <th>2002</th>\n",
       "      <td>2.9</td>\n",
       "      <td>3.6</td>\n",
       "    </tr>\n",
       "  </tbody>\n",
       "</table>\n",
       "</div>"
      ],
      "text/plain": [
       "      nevada  ohio\n",
       "2000     NaN   1.5\n",
       "2001     2.4   1.7\n",
       "2002     2.9   3.6"
      ]
     },
     "execution_count": 20,
     "metadata": {},
     "output_type": "execute_result"
    }
   ],
   "source": [
    "pop={'nevada':{2001:2.4, 2002:2.9},\n",
    "     'ohio':{2000:1.5, 2001:1.7, 2002:3.6}\n",
    "    }\n",
    "\n",
    "pd.DataFrame(pop)"
   ]
  },
  {
   "cell_type": "code",
   "execution_count": 81,
   "metadata": {},
   "outputs": [
    {
     "data": {
      "text/html": [
       "<div>\n",
       "<style>\n",
       "    .dataframe thead tr:only-child th {\n",
       "        text-align: right;\n",
       "    }\n",
       "\n",
       "    .dataframe thead th {\n",
       "        text-align: left;\n",
       "    }\n",
       "\n",
       "    .dataframe tbody tr th {\n",
       "        vertical-align: top;\n",
       "    }\n",
       "</style>\n",
       "<table border=\"1\" class=\"dataframe\">\n",
       "  <thead>\n",
       "    <tr style=\"text-align: right;\">\n",
       "      <th></th>\n",
       "      <th>Nevada</th>\n",
       "      <th>Ohio</th>\n",
       "    </tr>\n",
       "  </thead>\n",
       "  <tbody>\n",
       "    <tr>\n",
       "      <th>2001</th>\n",
       "      <td>2.4</td>\n",
       "      <td>1.7</td>\n",
       "    </tr>\n",
       "    <tr>\n",
       "      <th>2002</th>\n",
       "      <td>2.9</td>\n",
       "      <td>3.6</td>\n",
       "    </tr>\n",
       "    <tr>\n",
       "      <th>2003</th>\n",
       "      <td>NaN</td>\n",
       "      <td>NaN</td>\n",
       "    </tr>\n",
       "  </tbody>\n",
       "</table>\n",
       "</div>"
      ],
      "text/plain": [
       "      Nevada  Ohio\n",
       "2001     2.4   1.7\n",
       "2002     2.9   3.6\n",
       "2003     NaN   NaN"
      ]
     },
     "execution_count": 81,
     "metadata": {},
     "output_type": "execute_result"
    }
   ],
   "source": [
    "pop = {'Nevada':{2001:2.4, 2002:2.9},\n",
    "        'Ohio':{2000:1.5, 2001:1.7, 2002:3.6}}\n",
    "pd.DataFrame(pop, index = [2001, 2002, 2003])"
   ]
  },
  {
   "cell_type": "code",
   "execution_count": 75,
   "metadata": {},
   "outputs": [
    {
     "data": {
      "text/html": [
       "<div>\n",
       "<style>\n",
       "    .dataframe thead tr:only-child th {\n",
       "        text-align: right;\n",
       "    }\n",
       "\n",
       "    .dataframe thead th {\n",
       "        text-align: left;\n",
       "    }\n",
       "\n",
       "    .dataframe tbody tr th {\n",
       "        vertical-align: top;\n",
       "    }\n",
       "</style>\n",
       "<table border=\"1\" class=\"dataframe\">\n",
       "  <thead>\n",
       "    <tr style=\"text-align: right;\">\n",
       "      <th></th>\n",
       "      <th>Nevada</th>\n",
       "      <th>Ohio</th>\n",
       "    </tr>\n",
       "  </thead>\n",
       "  <tbody>\n",
       "    <tr>\n",
       "      <th>2000</th>\n",
       "      <td>NaN</td>\n",
       "      <td>1.5</td>\n",
       "    </tr>\n",
       "    <tr>\n",
       "      <th>2001</th>\n",
       "      <td>NaN</td>\n",
       "      <td>1.7</td>\n",
       "    </tr>\n",
       "    <tr>\n",
       "      <th>2002</th>\n",
       "      <td>2.9</td>\n",
       "      <td>3.6</td>\n",
       "    </tr>\n",
       "    <tr>\n",
       "      <th>20001</th>\n",
       "      <td>2.4</td>\n",
       "      <td>NaN</td>\n",
       "    </tr>\n",
       "  </tbody>\n",
       "</table>\n",
       "</div>"
      ],
      "text/plain": [
       "       Nevada  Ohio\n",
       "2000      NaN   1.5\n",
       "2001      NaN   1.7\n",
       "2002      2.9   3.6\n",
       "20001     2.4   NaN"
      ]
     },
     "execution_count": 75,
     "metadata": {},
     "output_type": "execute_result"
    }
   ],
   "source": [
    "pop = {'Nevada':{20001:2.4, 2002:2.9},\n",
    "        'Ohio':{2000:1.5, 2001:1.7, 2002:3.6}}\n",
    "frame3 = pd.DataFrame(pop)\n",
    "frame3"
   ]
  },
  {
   "cell_type": "code",
   "execution_count": 82,
   "metadata": {},
   "outputs": [
    {
     "data": {
      "text/plain": [
       "{'Nevada': 2000   NaN\n",
       " 2001   NaN\n",
       " Name: Nevada, dtype: float64, 'Ohio': 2000    1.5\n",
       " 2001    1.7\n",
       " 2002    3.6\n",
       " Name: Ohio, dtype: float64}"
      ]
     },
     "execution_count": 82,
     "metadata": {},
     "output_type": "execute_result"
    }
   ],
   "source": [
    "pdata = {'Ohio':frame3['Ohio'][:-1], 'Nevada':frame3['Nevada'][:2]}\n",
    "pdata"
   ]
  },
  {
   "cell_type": "code",
   "execution_count": 89,
   "metadata": {
    "collapsed": true
   },
   "outputs": [],
   "source": [
    "frame3.index.name = 'year'\n",
    "frame3.columns.name = 'state'"
   ]
  },
  {
   "cell_type": "code",
   "execution_count": 91,
   "metadata": {},
   "outputs": [
    {
     "data": {
      "text/html": [
       "<div>\n",
       "<style>\n",
       "    .dataframe thead tr:only-child th {\n",
       "        text-align: right;\n",
       "    }\n",
       "\n",
       "    .dataframe thead th {\n",
       "        text-align: left;\n",
       "    }\n",
       "\n",
       "    .dataframe tbody tr th {\n",
       "        vertical-align: top;\n",
       "    }\n",
       "</style>\n",
       "<table border=\"1\" class=\"dataframe\">\n",
       "  <thead>\n",
       "    <tr style=\"text-align: right;\">\n",
       "      <th>state</th>\n",
       "      <th>Nevada</th>\n",
       "      <th>Ohio</th>\n",
       "    </tr>\n",
       "    <tr>\n",
       "      <th>year</th>\n",
       "      <th></th>\n",
       "      <th></th>\n",
       "    </tr>\n",
       "  </thead>\n",
       "  <tbody>\n",
       "    <tr>\n",
       "      <th>2000</th>\n",
       "      <td>NaN</td>\n",
       "      <td>1.5</td>\n",
       "    </tr>\n",
       "    <tr>\n",
       "      <th>2001</th>\n",
       "      <td>NaN</td>\n",
       "      <td>1.7</td>\n",
       "    </tr>\n",
       "    <tr>\n",
       "      <th>2002</th>\n",
       "      <td>2.9</td>\n",
       "      <td>3.6</td>\n",
       "    </tr>\n",
       "    <tr>\n",
       "      <th>20001</th>\n",
       "      <td>2.4</td>\n",
       "      <td>NaN</td>\n",
       "    </tr>\n",
       "  </tbody>\n",
       "</table>\n",
       "</div>"
      ],
      "text/plain": [
       "state  Nevada  Ohio\n",
       "year               \n",
       "2000      NaN   1.5\n",
       "2001      NaN   1.7\n",
       "2002      2.9   3.6\n",
       "20001     2.4   NaN"
      ]
     },
     "execution_count": 91,
     "metadata": {},
     "output_type": "execute_result"
    }
   ],
   "source": [
    "frame3"
   ]
  },
  {
   "cell_type": "code",
   "execution_count": 92,
   "metadata": {},
   "outputs": [
    {
     "data": {
      "text/plain": [
       "True"
      ]
     },
     "execution_count": 92,
     "metadata": {},
     "output_type": "execute_result"
    }
   ],
   "source": [
    "'Ohio' in frame3.columns"
   ]
  },
  {
   "cell_type": "code",
   "execution_count": null,
   "metadata": {
    "collapsed": true
   },
   "outputs": [],
   "source": [
    "frame3.res"
   ]
  },
  {
   "cell_type": "code",
   "execution_count": 22,
   "metadata": {},
   "outputs": [
    {
     "data": {
      "text/plain": [
       "d    1\n",
       "b    2\n",
       "a    3\n",
       "c    4\n",
       "dtype: int64"
      ]
     },
     "execution_count": 22,
     "metadata": {},
     "output_type": "execute_result"
    }
   ],
   "source": [
    "serie=pd.Series([1,2,3,4],index=['d', 'b', 'a', 'c'])\n",
    "serie"
   ]
  },
  {
   "cell_type": "code",
   "execution_count": 94,
   "metadata": {},
   "outputs": [
    {
     "data": {
      "text/plain": [
       "a    3\n",
       "b    2\n",
       "c    4\n",
       "d    1\n",
       "dtype: int64"
      ]
     },
     "execution_count": 94,
     "metadata": {},
     "output_type": "execute_result"
    }
   ],
   "source": [
    "serie.reindex(index=('a','b','c','d'))"
   ]
  },
  {
   "cell_type": "code",
   "execution_count": 96,
   "metadata": {},
   "outputs": [
    {
     "data": {
      "text/plain": [
       "a    3\n",
       "b    2\n",
       "c    4\n",
       "d    1\n",
       "e    0\n",
       "dtype: int64"
      ]
     },
     "execution_count": 96,
     "metadata": {},
     "output_type": "execute_result"
    }
   ],
   "source": [
    "serie.reindex(index=('a','b','c','d','e'),fill_value=0)"
   ]
  },
  {
   "cell_type": "code",
   "execution_count": 97,
   "metadata": {},
   "outputs": [
    {
     "name": "stdout",
     "output_type": "stream",
     "text": [
      "0      blue\n",
      "2    purple\n",
      "4    yellow\n",
      "dtype: object\n",
      "0      blue\n",
      "1      blue\n",
      "2    purple\n",
      "3    purple\n",
      "4    yellow\n",
      "5    yellow\n",
      "dtype: object\n"
     ]
    }
   ],
   "source": [
    "obj3 = Series(['blue', 'purple', 'yellow'], index = [0, 2, 4])\n",
    "print obj3\n",
    "print obj3.reindex(range(6), method = 'ffill')"
   ]
  },
  {
   "cell_type": "code",
   "execution_count": 99,
   "metadata": {},
   "outputs": [
    {
     "name": "stdout",
     "output_type": "stream",
     "text": [
      "   Ohio  Texas  California\n",
      "a     0      1           2\n",
      "c     3      4           5\n",
      "d     6      7           8\n"
     ]
    }
   ],
   "source": [
    "frame = pd.DataFrame(np.arange(9).reshape(3, 3),\n",
    "                  index = ['a', 'c', 'd'],\n",
    "                  columns = ['Ohio', 'Texas', 'California'])\n",
    "print frame"
   ]
  },
  {
   "cell_type": "code",
   "execution_count": 101,
   "metadata": {},
   "outputs": [
    {
     "data": {
      "text/html": [
       "<div>\n",
       "<style>\n",
       "    .dataframe thead tr:only-child th {\n",
       "        text-align: right;\n",
       "    }\n",
       "\n",
       "    .dataframe thead th {\n",
       "        text-align: left;\n",
       "    }\n",
       "\n",
       "    .dataframe tbody tr th {\n",
       "        vertical-align: top;\n",
       "    }\n",
       "</style>\n",
       "<table border=\"1\" class=\"dataframe\">\n",
       "  <thead>\n",
       "    <tr style=\"text-align: right;\">\n",
       "      <th></th>\n",
       "      <th>Ohio</th>\n",
       "      <th>Texas</th>\n",
       "      <th>California</th>\n",
       "    </tr>\n",
       "  </thead>\n",
       "  <tbody>\n",
       "    <tr>\n",
       "      <th>a</th>\n",
       "      <td>0.0</td>\n",
       "      <td>1.0</td>\n",
       "      <td>2.0</td>\n",
       "    </tr>\n",
       "    <tr>\n",
       "      <th>b</th>\n",
       "      <td>NaN</td>\n",
       "      <td>NaN</td>\n",
       "      <td>NaN</td>\n",
       "    </tr>\n",
       "    <tr>\n",
       "      <th>c</th>\n",
       "      <td>3.0</td>\n",
       "      <td>4.0</td>\n",
       "      <td>5.0</td>\n",
       "    </tr>\n",
       "    <tr>\n",
       "      <th>d</th>\n",
       "      <td>6.0</td>\n",
       "      <td>7.0</td>\n",
       "      <td>8.0</td>\n",
       "    </tr>\n",
       "  </tbody>\n",
       "</table>\n",
       "</div>"
      ],
      "text/plain": [
       "   Ohio  Texas  California\n",
       "a   0.0    1.0         2.0\n",
       "b   NaN    NaN         NaN\n",
       "c   3.0    4.0         5.0\n",
       "d   6.0    7.0         8.0"
      ]
     },
     "execution_count": 101,
     "metadata": {},
     "output_type": "execute_result"
    }
   ],
   "source": [
    "frame.reindex(('a', 'b', 'c', 'd'))"
   ]
  },
  {
   "cell_type": "code",
   "execution_count": 103,
   "metadata": {},
   "outputs": [
    {
     "data": {
      "text/html": [
       "<div>\n",
       "<style>\n",
       "    .dataframe thead tr:only-child th {\n",
       "        text-align: right;\n",
       "    }\n",
       "\n",
       "    .dataframe thead th {\n",
       "        text-align: left;\n",
       "    }\n",
       "\n",
       "    .dataframe tbody tr th {\n",
       "        vertical-align: top;\n",
       "    }\n",
       "</style>\n",
       "<table border=\"1\" class=\"dataframe\">\n",
       "  <thead>\n",
       "    <tr style=\"text-align: right;\">\n",
       "      <th></th>\n",
       "      <th>Texas</th>\n",
       "      <th>Utah</th>\n",
       "      <th>California</th>\n",
       "    </tr>\n",
       "  </thead>\n",
       "  <tbody>\n",
       "    <tr>\n",
       "      <th>a</th>\n",
       "      <td>1</td>\n",
       "      <td>NaN</td>\n",
       "      <td>2</td>\n",
       "    </tr>\n",
       "    <tr>\n",
       "      <th>c</th>\n",
       "      <td>4</td>\n",
       "      <td>NaN</td>\n",
       "      <td>5</td>\n",
       "    </tr>\n",
       "    <tr>\n",
       "      <th>d</th>\n",
       "      <td>7</td>\n",
       "      <td>NaN</td>\n",
       "      <td>8</td>\n",
       "    </tr>\n",
       "  </tbody>\n",
       "</table>\n",
       "</div>"
      ],
      "text/plain": [
       "   Texas  Utah  California\n",
       "a      1   NaN           2\n",
       "c      4   NaN           5\n",
       "d      7   NaN           8"
      ]
     },
     "execution_count": 103,
     "metadata": {},
     "output_type": "execute_result"
    }
   ],
   "source": [
    "states = ['Texas', 'Utah', 'California']\n",
    "frame.reindex(columns=states)"
   ]
  },
  {
   "cell_type": "code",
   "execution_count": 23,
   "metadata": {},
   "outputs": [
    {
     "data": {
      "text/html": [
       "<div>\n",
       "<style>\n",
       "    .dataframe thead tr:only-child th {\n",
       "        text-align: right;\n",
       "    }\n",
       "\n",
       "    .dataframe thead th {\n",
       "        text-align: left;\n",
       "    }\n",
       "\n",
       "    .dataframe tbody tr th {\n",
       "        vertical-align: top;\n",
       "    }\n",
       "</style>\n",
       "<table border=\"1\" class=\"dataframe\">\n",
       "  <thead>\n",
       "    <tr style=\"text-align: right;\">\n",
       "      <th></th>\n",
       "      <th>one</th>\n",
       "      <th>two</th>\n",
       "      <th>three</th>\n",
       "      <th>four</th>\n",
       "    </tr>\n",
       "  </thead>\n",
       "  <tbody>\n",
       "    <tr>\n",
       "      <th>Ohio</th>\n",
       "      <td>0</td>\n",
       "      <td>1</td>\n",
       "      <td>2</td>\n",
       "      <td>3</td>\n",
       "    </tr>\n",
       "    <tr>\n",
       "      <th>Colorado</th>\n",
       "      <td>4</td>\n",
       "      <td>5</td>\n",
       "      <td>6</td>\n",
       "      <td>7</td>\n",
       "    </tr>\n",
       "    <tr>\n",
       "      <th>Utah</th>\n",
       "      <td>8</td>\n",
       "      <td>9</td>\n",
       "      <td>10</td>\n",
       "      <td>11</td>\n",
       "    </tr>\n",
       "    <tr>\n",
       "      <th>New York</th>\n",
       "      <td>12</td>\n",
       "      <td>13</td>\n",
       "      <td>14</td>\n",
       "      <td>15</td>\n",
       "    </tr>\n",
       "  </tbody>\n",
       "</table>\n",
       "</div>"
      ],
      "text/plain": [
       "          one  two  three  four\n",
       "Ohio        0    1      2     3\n",
       "Colorado    4    5      6     7\n",
       "Utah        8    9     10    11\n",
       "New York   12   13     14    15"
      ]
     },
     "execution_count": 23,
     "metadata": {},
     "output_type": "execute_result"
    }
   ],
   "source": [
    "data = pd.DataFrame(np.arange(16).reshape((4, 4)),\n",
    "                  index = ['Ohio', 'Colorado', 'Utah', 'New York'],\n",
    "                  columns = ['one', 'two', 'three', 'four'])\n",
    "data"
   ]
  },
  {
   "cell_type": "code",
   "execution_count": 107,
   "metadata": {},
   "outputs": [
    {
     "data": {
      "text/html": [
       "<div>\n",
       "<style>\n",
       "    .dataframe thead tr:only-child th {\n",
       "        text-align: right;\n",
       "    }\n",
       "\n",
       "    .dataframe thead th {\n",
       "        text-align: left;\n",
       "    }\n",
       "\n",
       "    .dataframe tbody tr th {\n",
       "        vertical-align: top;\n",
       "    }\n",
       "</style>\n",
       "<table border=\"1\" class=\"dataframe\">\n",
       "  <thead>\n",
       "    <tr style=\"text-align: right;\">\n",
       "      <th></th>\n",
       "      <th>three</th>\n",
       "      <th>four</th>\n",
       "    </tr>\n",
       "  </thead>\n",
       "  <tbody>\n",
       "    <tr>\n",
       "      <th>Ohio</th>\n",
       "      <td>2</td>\n",
       "      <td>3</td>\n",
       "    </tr>\n",
       "    <tr>\n",
       "      <th>Colorado</th>\n",
       "      <td>6</td>\n",
       "      <td>7</td>\n",
       "    </tr>\n",
       "    <tr>\n",
       "      <th>Utah</th>\n",
       "      <td>10</td>\n",
       "      <td>11</td>\n",
       "    </tr>\n",
       "    <tr>\n",
       "      <th>New York</th>\n",
       "      <td>14</td>\n",
       "      <td>15</td>\n",
       "    </tr>\n",
       "  </tbody>\n",
       "</table>\n",
       "</div>"
      ],
      "text/plain": [
       "          three  four\n",
       "Ohio          2     3\n",
       "Colorado      6     7\n",
       "Utah         10    11\n",
       "New York     14    15"
      ]
     },
     "execution_count": 107,
     "metadata": {},
     "output_type": "execute_result"
    }
   ],
   "source": [
    "data.drop(['one','two'],axis=1)"
   ]
  },
  {
   "cell_type": "code",
   "execution_count": 27,
   "metadata": {},
   "outputs": [
    {
     "data": {
      "text/html": [
       "<div>\n",
       "<style>\n",
       "    .dataframe thead tr:only-child th {\n",
       "        text-align: right;\n",
       "    }\n",
       "\n",
       "    .dataframe thead th {\n",
       "        text-align: left;\n",
       "    }\n",
       "\n",
       "    .dataframe tbody tr th {\n",
       "        vertical-align: top;\n",
       "    }\n",
       "</style>\n",
       "<table border=\"1\" class=\"dataframe\">\n",
       "  <thead>\n",
       "    <tr style=\"text-align: right;\">\n",
       "      <th></th>\n",
       "      <th>one</th>\n",
       "      <th>two</th>\n",
       "      <th>three</th>\n",
       "      <th>four</th>\n",
       "    </tr>\n",
       "  </thead>\n",
       "  <tbody>\n",
       "    <tr>\n",
       "      <th>Colorado</th>\n",
       "      <td>4</td>\n",
       "      <td>5</td>\n",
       "      <td>6</td>\n",
       "      <td>7</td>\n",
       "    </tr>\n",
       "    <tr>\n",
       "      <th>Utah</th>\n",
       "      <td>8</td>\n",
       "      <td>9</td>\n",
       "      <td>10</td>\n",
       "      <td>11</td>\n",
       "    </tr>\n",
       "    <tr>\n",
       "      <th>New York</th>\n",
       "      <td>12</td>\n",
       "      <td>13</td>\n",
       "      <td>14</td>\n",
       "      <td>15</td>\n",
       "    </tr>\n",
       "  </tbody>\n",
       "</table>\n",
       "</div>"
      ],
      "text/plain": [
       "          one  two  three  four\n",
       "Colorado    4    5      6     7\n",
       "Utah        8    9     10    11\n",
       "New York   12   13     14    15"
      ]
     },
     "execution_count": 27,
     "metadata": {},
     "output_type": "execute_result"
    }
   ],
   "source": [
    "data.drop(['Ohio'],axis=0)"
   ]
  },
  {
   "cell_type": "code",
   "execution_count": 108,
   "metadata": {},
   "outputs": [
    {
     "name": "stdout",
     "output_type": "stream",
     "text": [
      "1.0\n",
      "3.0\n",
      "b    1.0\n",
      "d    3.0\n",
      "dtype: float64\n",
      "a    0.0\n",
      "b    1.0\n",
      "dtype: float64\n"
     ]
    }
   ],
   "source": [
    "obj = pd.Series(np.arange(4.), index = ['a', 'b', 'c', 'd'])\n",
    "print obj['b']\n",
    "print obj[3]\n",
    "print obj[[1, 3]]\n",
    "print obj[obj < 2]"
   ]
  },
  {
   "cell_type": "code",
   "execution_count": 110,
   "metadata": {},
   "outputs": [
    {
     "data": {
      "text/plain": [
       "b    1.0\n",
       "c    2.0\n",
       "dtype: float64"
      ]
     },
     "execution_count": 110,
     "metadata": {},
     "output_type": "execute_result"
    }
   ],
   "source": [
    "obj['b':'c']"
   ]
  },
  {
   "cell_type": "code",
   "execution_count": 112,
   "metadata": {},
   "outputs": [
    {
     "name": "stdout",
     "output_type": "stream",
     "text": [
      "          one  two  three  four\n",
      "Ohio        0    1      2     3\n",
      "Colorado    4    5      6     7\n",
      "Utah        8    9     10    11\n",
      "New York   12   13     14    15\n"
     ]
    }
   ],
   "source": [
    "data = pd.DataFrame(np.arange(16).reshape((4, 4)),\n",
    "                  index = ['Ohio', 'Colorado', 'Utah', 'New York'],\n",
    "                  columns = ['one', 'two', 'three', 'four'])\n",
    "print data"
   ]
  },
  {
   "cell_type": "code",
   "execution_count": 119,
   "metadata": {},
   "outputs": [
    {
     "data": {
      "text/html": [
       "<div>\n",
       "<style>\n",
       "    .dataframe thead tr:only-child th {\n",
       "        text-align: right;\n",
       "    }\n",
       "\n",
       "    .dataframe thead th {\n",
       "        text-align: left;\n",
       "    }\n",
       "\n",
       "    .dataframe tbody tr th {\n",
       "        vertical-align: top;\n",
       "    }\n",
       "</style>\n",
       "<table border=\"1\" class=\"dataframe\">\n",
       "  <thead>\n",
       "    <tr style=\"text-align: right;\">\n",
       "      <th></th>\n",
       "      <th>one</th>\n",
       "      <th>two</th>\n",
       "      <th>three</th>\n",
       "      <th>four</th>\n",
       "    </tr>\n",
       "  </thead>\n",
       "  <tbody>\n",
       "    <tr>\n",
       "      <th>Colorado</th>\n",
       "      <td>4</td>\n",
       "      <td>5</td>\n",
       "      <td>6</td>\n",
       "      <td>7</td>\n",
       "    </tr>\n",
       "    <tr>\n",
       "      <th>Utah</th>\n",
       "      <td>8</td>\n",
       "      <td>9</td>\n",
       "      <td>10</td>\n",
       "      <td>11</td>\n",
       "    </tr>\n",
       "    <tr>\n",
       "      <th>New York</th>\n",
       "      <td>12</td>\n",
       "      <td>13</td>\n",
       "      <td>14</td>\n",
       "      <td>15</td>\n",
       "    </tr>\n",
       "  </tbody>\n",
       "</table>\n",
       "</div>"
      ],
      "text/plain": [
       "          one  two  three  four\n",
       "Colorado    4    5      6     7\n",
       "Utah        8    9     10    11\n",
       "New York   12   13     14    15"
      ]
     },
     "execution_count": 119,
     "metadata": {},
     "output_type": "execute_result"
    }
   ],
   "source": [
    "data[data.three > 5]"
   ]
  },
  {
   "cell_type": "code",
   "execution_count": 120,
   "metadata": {},
   "outputs": [
    {
     "data": {
      "text/html": [
       "<div>\n",
       "<style>\n",
       "    .dataframe thead tr:only-child th {\n",
       "        text-align: right;\n",
       "    }\n",
       "\n",
       "    .dataframe thead th {\n",
       "        text-align: left;\n",
       "    }\n",
       "\n",
       "    .dataframe tbody tr th {\n",
       "        vertical-align: top;\n",
       "    }\n",
       "</style>\n",
       "<table border=\"1\" class=\"dataframe\">\n",
       "  <thead>\n",
       "    <tr style=\"text-align: right;\">\n",
       "      <th></th>\n",
       "      <th>one</th>\n",
       "      <th>two</th>\n",
       "      <th>three</th>\n",
       "      <th>four</th>\n",
       "    </tr>\n",
       "  </thead>\n",
       "  <tbody>\n",
       "    <tr>\n",
       "      <th>Ohio</th>\n",
       "      <td>False</td>\n",
       "      <td>False</td>\n",
       "      <td>False</td>\n",
       "      <td>False</td>\n",
       "    </tr>\n",
       "    <tr>\n",
       "      <th>Colorado</th>\n",
       "      <td>False</td>\n",
       "      <td>False</td>\n",
       "      <td>True</td>\n",
       "      <td>True</td>\n",
       "    </tr>\n",
       "    <tr>\n",
       "      <th>Utah</th>\n",
       "      <td>True</td>\n",
       "      <td>True</td>\n",
       "      <td>True</td>\n",
       "      <td>True</td>\n",
       "    </tr>\n",
       "    <tr>\n",
       "      <th>New York</th>\n",
       "      <td>True</td>\n",
       "      <td>True</td>\n",
       "      <td>True</td>\n",
       "      <td>True</td>\n",
       "    </tr>\n",
       "  </tbody>\n",
       "</table>\n",
       "</div>"
      ],
      "text/plain": [
       "            one    two  three   four\n",
       "Ohio      False  False  False  False\n",
       "Colorado  False  False   True   True\n",
       "Utah       True   True   True   True\n",
       "New York   True   True   True   True"
      ]
     },
     "execution_count": 120,
     "metadata": {},
     "output_type": "execute_result"
    }
   ],
   "source": [
    "data>5"
   ]
  },
  {
   "cell_type": "code",
   "execution_count": 121,
   "metadata": {},
   "outputs": [
    {
     "data": {
      "text/html": [
       "<div>\n",
       "<style>\n",
       "    .dataframe thead tr:only-child th {\n",
       "        text-align: right;\n",
       "    }\n",
       "\n",
       "    .dataframe thead th {\n",
       "        text-align: left;\n",
       "    }\n",
       "\n",
       "    .dataframe tbody tr th {\n",
       "        vertical-align: top;\n",
       "    }\n",
       "</style>\n",
       "<table border=\"1\" class=\"dataframe\">\n",
       "  <thead>\n",
       "    <tr style=\"text-align: right;\">\n",
       "      <th></th>\n",
       "      <th>one</th>\n",
       "      <th>two</th>\n",
       "      <th>three</th>\n",
       "      <th>four</th>\n",
       "    </tr>\n",
       "  </thead>\n",
       "  <tbody>\n",
       "    <tr>\n",
       "      <th>Ohio</th>\n",
       "      <td>NaN</td>\n",
       "      <td>NaN</td>\n",
       "      <td>NaN</td>\n",
       "      <td>NaN</td>\n",
       "    </tr>\n",
       "    <tr>\n",
       "      <th>Colorado</th>\n",
       "      <td>NaN</td>\n",
       "      <td>NaN</td>\n",
       "      <td>6.0</td>\n",
       "      <td>7.0</td>\n",
       "    </tr>\n",
       "    <tr>\n",
       "      <th>Utah</th>\n",
       "      <td>8.0</td>\n",
       "      <td>9.0</td>\n",
       "      <td>10.0</td>\n",
       "      <td>11.0</td>\n",
       "    </tr>\n",
       "    <tr>\n",
       "      <th>New York</th>\n",
       "      <td>12.0</td>\n",
       "      <td>13.0</td>\n",
       "      <td>14.0</td>\n",
       "      <td>15.0</td>\n",
       "    </tr>\n",
       "  </tbody>\n",
       "</table>\n",
       "</div>"
      ],
      "text/plain": [
       "           one   two  three  four\n",
       "Ohio       NaN   NaN    NaN   NaN\n",
       "Colorado   NaN   NaN    6.0   7.0\n",
       "Utah       8.0   9.0   10.0  11.0\n",
       "New York  12.0  13.0   14.0  15.0"
      ]
     },
     "execution_count": 121,
     "metadata": {},
     "output_type": "execute_result"
    }
   ],
   "source": [
    "data[data>5]"
   ]
  },
  {
   "cell_type": "code",
   "execution_count": 122,
   "metadata": {},
   "outputs": [
    {
     "ename": "AttributeError",
     "evalue": "'DataFrame' object has no attribute 'icol'",
     "output_type": "error",
     "traceback": [
      "\u001b[1;31m---------------------------------------------------------------------------\u001b[0m",
      "\u001b[1;31mAttributeError\u001b[0m                            Traceback (most recent call last)",
      "\u001b[1;32m<ipython-input-122-2a975e764851>\u001b[0m in \u001b[0;36m<module>\u001b[1;34m()\u001b[0m\n\u001b[1;32m----> 1\u001b[1;33m \u001b[0mdata\u001b[0m\u001b[1;33m.\u001b[0m\u001b[0micol\u001b[0m\u001b[1;33m[\u001b[0m\u001b[1;36m1\u001b[0m\u001b[1;33m]\u001b[0m\u001b[1;33m\u001b[0m\u001b[0m\n\u001b[0m",
      "\u001b[1;32mC:\\Users\\Lei Lei\\Anaconda2\\lib\\site-packages\\pandas\\core\\generic.pyc\u001b[0m in \u001b[0;36m__getattr__\u001b[1;34m(self, name)\u001b[0m\n\u001b[0;32m   2968\u001b[0m             \u001b[1;32mif\u001b[0m \u001b[0mname\u001b[0m \u001b[1;32min\u001b[0m \u001b[0mself\u001b[0m\u001b[1;33m.\u001b[0m\u001b[0m_info_axis\u001b[0m\u001b[1;33m:\u001b[0m\u001b[1;33m\u001b[0m\u001b[0m\n\u001b[0;32m   2969\u001b[0m                 \u001b[1;32mreturn\u001b[0m \u001b[0mself\u001b[0m\u001b[1;33m[\u001b[0m\u001b[0mname\u001b[0m\u001b[1;33m]\u001b[0m\u001b[1;33m\u001b[0m\u001b[0m\n\u001b[1;32m-> 2970\u001b[1;33m             \u001b[1;32mreturn\u001b[0m \u001b[0mobject\u001b[0m\u001b[1;33m.\u001b[0m\u001b[0m__getattribute__\u001b[0m\u001b[1;33m(\u001b[0m\u001b[0mself\u001b[0m\u001b[1;33m,\u001b[0m \u001b[0mname\u001b[0m\u001b[1;33m)\u001b[0m\u001b[1;33m\u001b[0m\u001b[0m\n\u001b[0m\u001b[0;32m   2971\u001b[0m \u001b[1;33m\u001b[0m\u001b[0m\n\u001b[0;32m   2972\u001b[0m     \u001b[1;32mdef\u001b[0m \u001b[0m__setattr__\u001b[0m\u001b[1;33m(\u001b[0m\u001b[0mself\u001b[0m\u001b[1;33m,\u001b[0m \u001b[0mname\u001b[0m\u001b[1;33m,\u001b[0m \u001b[0mvalue\u001b[0m\u001b[1;33m)\u001b[0m\u001b[1;33m:\u001b[0m\u001b[1;33m\u001b[0m\u001b[0m\n",
      "\u001b[1;31mAttributeError\u001b[0m: 'DataFrame' object has no attribute 'icol'"
     ]
    }
   ],
   "source": [
    "data.icol[1]"
   ]
  },
  {
   "cell_type": "code",
   "execution_count": 124,
   "metadata": {},
   "outputs": [
    {
     "name": "stdout",
     "output_type": "stream",
     "text": [
      "            b    c    d\n",
      "Ohio      0.0  1.0  2.0\n",
      "Texas     3.0  4.0  5.0\n",
      "Colorado  6.0  7.0  8.0\n",
      "        b   d   e\n",
      "Utah    0   1   2\n",
      "Ohio    3   4   5\n",
      "Texas   6   7   8\n",
      "Oregon  9  10  11\n",
      "            b   c     d   e\n",
      "Colorado  NaN NaN   NaN NaN\n",
      "Ohio      3.0 NaN   6.0 NaN\n",
      "Oregon    NaN NaN   NaN NaN\n",
      "Texas     9.0 NaN  12.0 NaN\n",
      "Utah      NaN NaN   NaN NaN\n"
     ]
    }
   ],
   "source": [
    "df1 = pd.DataFrame(np.arange(9.).reshape((3, 3)),\n",
    "                columns = list('bcd'),\n",
    "                index = ['Ohio', 'Texas', 'Colorado'])\n",
    "df2 = pd.DataFrame(np.arange(12).reshape((4, 3)),\n",
    "                columns = list('bde'),\n",
    "                index = ['Utah', 'Ohio', 'Texas', 'Oregon'])\n",
    "print df1\n",
    "print df2\n",
    "print df1 + df2"
   ]
  },
  {
   "cell_type": "code",
   "execution_count": 126,
   "metadata": {},
   "outputs": [
    {
     "name": "stdout",
     "output_type": "stream",
     "text": [
      "     a    b     c     d\n",
      "0  0.0  1.0   2.0   3.0\n",
      "1  4.0  5.0   6.0   7.0\n",
      "2  8.0  9.0  10.0  11.0\n",
      "      a     b     c     d     e\n",
      "0   0.0   1.0   2.0   3.0   4.0\n",
      "1   5.0   6.0   7.0   8.0   9.0\n",
      "2  10.0  11.0  12.0  13.0  14.0\n",
      "3  15.0  16.0  17.0  18.0  19.0\n"
     ]
    }
   ],
   "source": [
    "df1 = pd.DataFrame(np.arange(12.).reshape((3, 4)), columns = list('abcd'))\n",
    "df2 = pd.DataFrame(np.arange(20.).reshape((4, 5)), columns = list('abcde'))\n",
    "print df1\n",
    "print df2"
   ]
  },
  {
   "cell_type": "code",
   "execution_count": 128,
   "metadata": {},
   "outputs": [
    {
     "data": {
      "text/html": [
       "<div>\n",
       "<style>\n",
       "    .dataframe thead tr:only-child th {\n",
       "        text-align: right;\n",
       "    }\n",
       "\n",
       "    .dataframe thead th {\n",
       "        text-align: left;\n",
       "    }\n",
       "\n",
       "    .dataframe tbody tr th {\n",
       "        vertical-align: top;\n",
       "    }\n",
       "</style>\n",
       "<table border=\"1\" class=\"dataframe\">\n",
       "  <thead>\n",
       "    <tr style=\"text-align: right;\">\n",
       "      <th></th>\n",
       "      <th>a</th>\n",
       "      <th>b</th>\n",
       "      <th>c</th>\n",
       "      <th>d</th>\n",
       "      <th>e</th>\n",
       "    </tr>\n",
       "  </thead>\n",
       "  <tbody>\n",
       "    <tr>\n",
       "      <th>0</th>\n",
       "      <td>0.0</td>\n",
       "      <td>2.0</td>\n",
       "      <td>4.0</td>\n",
       "      <td>6.0</td>\n",
       "      <td>4.0</td>\n",
       "    </tr>\n",
       "    <tr>\n",
       "      <th>1</th>\n",
       "      <td>9.0</td>\n",
       "      <td>11.0</td>\n",
       "      <td>13.0</td>\n",
       "      <td>15.0</td>\n",
       "      <td>9.0</td>\n",
       "    </tr>\n",
       "    <tr>\n",
       "      <th>2</th>\n",
       "      <td>18.0</td>\n",
       "      <td>20.0</td>\n",
       "      <td>22.0</td>\n",
       "      <td>24.0</td>\n",
       "      <td>14.0</td>\n",
       "    </tr>\n",
       "    <tr>\n",
       "      <th>3</th>\n",
       "      <td>15.0</td>\n",
       "      <td>16.0</td>\n",
       "      <td>17.0</td>\n",
       "      <td>18.0</td>\n",
       "      <td>19.0</td>\n",
       "    </tr>\n",
       "  </tbody>\n",
       "</table>\n",
       "</div>"
      ],
      "text/plain": [
       "      a     b     c     d     e\n",
       "0   0.0   2.0   4.0   6.0   4.0\n",
       "1   9.0  11.0  13.0  15.0   9.0\n",
       "2  18.0  20.0  22.0  24.0  14.0\n",
       "3  15.0  16.0  17.0  18.0  19.0"
      ]
     },
     "execution_count": 128,
     "metadata": {},
     "output_type": "execute_result"
    }
   ],
   "source": [
    "df1.add(df2,fill_value=0)"
   ]
  },
  {
   "cell_type": "code",
   "execution_count": 130,
   "metadata": {},
   "outputs": [
    {
     "data": {
      "text/html": [
       "<div>\n",
       "<style>\n",
       "    .dataframe thead tr:only-child th {\n",
       "        text-align: right;\n",
       "    }\n",
       "\n",
       "    .dataframe thead th {\n",
       "        text-align: left;\n",
       "    }\n",
       "\n",
       "    .dataframe tbody tr th {\n",
       "        vertical-align: top;\n",
       "    }\n",
       "</style>\n",
       "<table border=\"1\" class=\"dataframe\">\n",
       "  <thead>\n",
       "    <tr style=\"text-align: right;\">\n",
       "      <th></th>\n",
       "      <th>a</th>\n",
       "      <th>b</th>\n",
       "      <th>c</th>\n",
       "      <th>d</th>\n",
       "      <th>e</th>\n",
       "    </tr>\n",
       "  </thead>\n",
       "  <tbody>\n",
       "    <tr>\n",
       "      <th>0</th>\n",
       "      <td>0.0</td>\n",
       "      <td>1.0</td>\n",
       "      <td>2.0</td>\n",
       "      <td>3.0</td>\n",
       "      <td>0</td>\n",
       "    </tr>\n",
       "    <tr>\n",
       "      <th>1</th>\n",
       "      <td>4.0</td>\n",
       "      <td>5.0</td>\n",
       "      <td>6.0</td>\n",
       "      <td>7.0</td>\n",
       "      <td>0</td>\n",
       "    </tr>\n",
       "    <tr>\n",
       "      <th>2</th>\n",
       "      <td>8.0</td>\n",
       "      <td>9.0</td>\n",
       "      <td>10.0</td>\n",
       "      <td>11.0</td>\n",
       "      <td>0</td>\n",
       "    </tr>\n",
       "  </tbody>\n",
       "</table>\n",
       "</div>"
      ],
      "text/plain": [
       "     a    b     c     d  e\n",
       "0  0.0  1.0   2.0   3.0  0\n",
       "1  4.0  5.0   6.0   7.0  0\n",
       "2  8.0  9.0  10.0  11.0  0"
      ]
     },
     "execution_count": 130,
     "metadata": {},
     "output_type": "execute_result"
    }
   ],
   "source": [
    "df1.reindex(columns=df2.columns,fill_value=0)"
   ]
  },
  {
   "cell_type": "code",
   "execution_count": 131,
   "metadata": {},
   "outputs": [
    {
     "data": {
      "text/html": [
       "<div>\n",
       "<style>\n",
       "    .dataframe thead tr:only-child th {\n",
       "        text-align: right;\n",
       "    }\n",
       "\n",
       "    .dataframe thead th {\n",
       "        text-align: left;\n",
       "    }\n",
       "\n",
       "    .dataframe tbody tr th {\n",
       "        vertical-align: top;\n",
       "    }\n",
       "</style>\n",
       "<table border=\"1\" class=\"dataframe\">\n",
       "  <thead>\n",
       "    <tr style=\"text-align: right;\">\n",
       "      <th></th>\n",
       "      <th>a</th>\n",
       "      <th>b</th>\n",
       "      <th>c</th>\n",
       "      <th>d</th>\n",
       "      <th>e</th>\n",
       "    </tr>\n",
       "  </thead>\n",
       "  <tbody>\n",
       "    <tr>\n",
       "      <th>0</th>\n",
       "      <td>0.0</td>\n",
       "      <td>2.0</td>\n",
       "      <td>4.0</td>\n",
       "      <td>6.0</td>\n",
       "      <td>0.0</td>\n",
       "    </tr>\n",
       "    <tr>\n",
       "      <th>1</th>\n",
       "      <td>9.0</td>\n",
       "      <td>11.0</td>\n",
       "      <td>13.0</td>\n",
       "      <td>15.0</td>\n",
       "      <td>0.0</td>\n",
       "    </tr>\n",
       "    <tr>\n",
       "      <th>2</th>\n",
       "      <td>18.0</td>\n",
       "      <td>20.0</td>\n",
       "      <td>22.0</td>\n",
       "      <td>24.0</td>\n",
       "      <td>0.0</td>\n",
       "    </tr>\n",
       "    <tr>\n",
       "      <th>3</th>\n",
       "      <td>0.0</td>\n",
       "      <td>0.0</td>\n",
       "      <td>0.0</td>\n",
       "      <td>0.0</td>\n",
       "      <td>0.0</td>\n",
       "    </tr>\n",
       "  </tbody>\n",
       "</table>\n",
       "</div>"
      ],
      "text/plain": [
       "      a     b     c     d    e\n",
       "0   0.0   2.0   4.0   6.0  0.0\n",
       "1   9.0  11.0  13.0  15.0  0.0\n",
       "2  18.0  20.0  22.0  24.0  0.0\n",
       "3   0.0   0.0   0.0   0.0  0.0"
      ]
     },
     "execution_count": 131,
     "metadata": {},
     "output_type": "execute_result"
    }
   ],
   "source": [
    "(df1+df2).fillna(0)"
   ]
  },
  {
   "cell_type": "code",
   "execution_count": 132,
   "metadata": {},
   "outputs": [
    {
     "name": "stdout",
     "output_type": "stream",
     "text": [
      "        b   d   e\n",
      "Utah    0   1   2\n",
      "Ohio    3   4   5\n",
      "Texas   6   7   8\n",
      "Oregon  9  10  11\n",
      "b    0\n",
      "d    1\n",
      "e    2\n",
      "Name: Utah, dtype: int32\n",
      "        b  d  e\n",
      "Utah    0  0  0\n",
      "Ohio    3  3  3\n",
      "Texas   6  6  6\n",
      "Oregon  9  9  9\n"
     ]
    },
    {
     "name": "stderr",
     "output_type": "stream",
     "text": [
      "C:\\Users\\Lei Lei\\Anaconda2\\lib\\site-packages\\ipykernel_launcher.py:4: DeprecationWarning: \n",
      ".ix is deprecated. Please use\n",
      ".loc for label based indexing or\n",
      ".iloc for positional indexing\n",
      "\n",
      "See the documentation here:\n",
      "http://pandas.pydata.org/pandas-docs/stable/indexing.html#deprecate_ix\n",
      "  after removing the cwd from sys.path.\n"
     ]
    }
   ],
   "source": [
    "frame = pd.DataFrame(np.arange(12).reshape((4, 3)),\n",
    "                  columns = list('bde'),\n",
    "                  index = ['Utah', 'Ohio', 'Texas', 'Oregon'])\n",
    "series = frame.ix[0]\n",
    "print frame\n",
    "print series\n",
    "print frame - series"
   ]
  },
  {
   "cell_type": "code",
   "execution_count": 139,
   "metadata": {},
   "outputs": [
    {
     "name": "stdout",
     "output_type": "stream",
     "text": [
      "        b  d  e\n",
      "Utah    0  0  0\n",
      "Ohio    3  3  3\n",
      "Texas   6  6  6\n",
      "Oregon  9  9  9\n"
     ]
    }
   ],
   "source": [
    "series3 =frame.ix[0]\n",
    "print frame.sub(series3, axis = 1)"
   ]
  },
  {
   "cell_type": "code",
   "execution_count": 146,
   "metadata": {},
   "outputs": [
    {
     "data": {
      "text/plain": [
       "0    0\n",
       "1    1\n",
       "2    2\n",
       "dtype: int64"
      ]
     },
     "execution_count": 146,
     "metadata": {},
     "output_type": "execute_result"
    }
   ],
   "source": [
    "series3=pd.Series(range(3))\n",
    "series3"
   ]
  },
  {
   "cell_type": "code",
   "execution_count": 147,
   "metadata": {},
   "outputs": [
    {
     "data": {
      "text/html": [
       "<div>\n",
       "<style>\n",
       "    .dataframe thead tr:only-child th {\n",
       "        text-align: right;\n",
       "    }\n",
       "\n",
       "    .dataframe thead th {\n",
       "        text-align: left;\n",
       "    }\n",
       "\n",
       "    .dataframe tbody tr th {\n",
       "        vertical-align: top;\n",
       "    }\n",
       "</style>\n",
       "<table border=\"1\" class=\"dataframe\">\n",
       "  <thead>\n",
       "    <tr style=\"text-align: right;\">\n",
       "      <th></th>\n",
       "      <th>0</th>\n",
       "      <th>1</th>\n",
       "      <th>2</th>\n",
       "      <th>b</th>\n",
       "      <th>d</th>\n",
       "      <th>e</th>\n",
       "    </tr>\n",
       "  </thead>\n",
       "  <tbody>\n",
       "    <tr>\n",
       "      <th>Utah</th>\n",
       "      <td>NaN</td>\n",
       "      <td>NaN</td>\n",
       "      <td>NaN</td>\n",
       "      <td>NaN</td>\n",
       "      <td>NaN</td>\n",
       "      <td>NaN</td>\n",
       "    </tr>\n",
       "    <tr>\n",
       "      <th>Ohio</th>\n",
       "      <td>NaN</td>\n",
       "      <td>NaN</td>\n",
       "      <td>NaN</td>\n",
       "      <td>NaN</td>\n",
       "      <td>NaN</td>\n",
       "      <td>NaN</td>\n",
       "    </tr>\n",
       "    <tr>\n",
       "      <th>Texas</th>\n",
       "      <td>NaN</td>\n",
       "      <td>NaN</td>\n",
       "      <td>NaN</td>\n",
       "      <td>NaN</td>\n",
       "      <td>NaN</td>\n",
       "      <td>NaN</td>\n",
       "    </tr>\n",
       "    <tr>\n",
       "      <th>Oregon</th>\n",
       "      <td>NaN</td>\n",
       "      <td>NaN</td>\n",
       "      <td>NaN</td>\n",
       "      <td>NaN</td>\n",
       "      <td>NaN</td>\n",
       "      <td>NaN</td>\n",
       "    </tr>\n",
       "  </tbody>\n",
       "</table>\n",
       "</div>"
      ],
      "text/plain": [
       "         0   1   2   b   d   e\n",
       "Utah   NaN NaN NaN NaN NaN NaN\n",
       "Ohio   NaN NaN NaN NaN NaN NaN\n",
       "Texas  NaN NaN NaN NaN NaN NaN\n",
       "Oregon NaN NaN NaN NaN NaN NaN"
      ]
     },
     "execution_count": 147,
     "metadata": {},
     "output_type": "execute_result"
    }
   ],
   "source": [
    "frame.sub(series3,axis=1)"
   ]
  },
  {
   "cell_type": "code",
   "execution_count": 148,
   "metadata": {},
   "outputs": [
    {
     "data": {
      "text/plain": [
       "b    0\n",
       "d    1\n",
       "e    2\n",
       "dtype: int64"
      ]
     },
     "execution_count": 148,
     "metadata": {},
     "output_type": "execute_result"
    }
   ],
   "source": [
    "series3=pd.Series(range(3),index=list('bde'))\n",
    "series3"
   ]
  },
  {
   "cell_type": "code",
   "execution_count": 149,
   "metadata": {},
   "outputs": [
    {
     "data": {
      "text/html": [
       "<div>\n",
       "<style>\n",
       "    .dataframe thead tr:only-child th {\n",
       "        text-align: right;\n",
       "    }\n",
       "\n",
       "    .dataframe thead th {\n",
       "        text-align: left;\n",
       "    }\n",
       "\n",
       "    .dataframe tbody tr th {\n",
       "        vertical-align: top;\n",
       "    }\n",
       "</style>\n",
       "<table border=\"1\" class=\"dataframe\">\n",
       "  <thead>\n",
       "    <tr style=\"text-align: right;\">\n",
       "      <th></th>\n",
       "      <th>b</th>\n",
       "      <th>d</th>\n",
       "      <th>e</th>\n",
       "    </tr>\n",
       "  </thead>\n",
       "  <tbody>\n",
       "    <tr>\n",
       "      <th>Utah</th>\n",
       "      <td>0</td>\n",
       "      <td>0</td>\n",
       "      <td>0</td>\n",
       "    </tr>\n",
       "    <tr>\n",
       "      <th>Ohio</th>\n",
       "      <td>3</td>\n",
       "      <td>3</td>\n",
       "      <td>3</td>\n",
       "    </tr>\n",
       "    <tr>\n",
       "      <th>Texas</th>\n",
       "      <td>6</td>\n",
       "      <td>6</td>\n",
       "      <td>6</td>\n",
       "    </tr>\n",
       "    <tr>\n",
       "      <th>Oregon</th>\n",
       "      <td>9</td>\n",
       "      <td>9</td>\n",
       "      <td>9</td>\n",
       "    </tr>\n",
       "  </tbody>\n",
       "</table>\n",
       "</div>"
      ],
      "text/plain": [
       "        b  d  e\n",
       "Utah    0  0  0\n",
       "Ohio    3  3  3\n",
       "Texas   6  6  6\n",
       "Oregon  9  9  9"
      ]
     },
     "execution_count": 149,
     "metadata": {},
     "output_type": "execute_result"
    }
   ],
   "source": [
    "frame.sub(series3,axis=1)"
   ]
  },
  {
   "cell_type": "code",
   "execution_count": 133,
   "metadata": {},
   "outputs": [
    {
     "name": "stdout",
     "output_type": "stream",
     "text": [
      "          b   d     e   f\n",
      "Utah    0.0 NaN   3.0 NaN\n",
      "Ohio    3.0 NaN   6.0 NaN\n",
      "Texas   6.0 NaN   9.0 NaN\n",
      "Oregon  9.0 NaN  12.0 NaN\n"
     ]
    }
   ],
   "source": [
    "series2 = Series(range(3), index = list('bef'))\n",
    "print frame + series2"
   ]
  },
  {
   "cell_type": "code",
   "execution_count": 134,
   "metadata": {},
   "outputs": [
    {
     "name": "stdout",
     "output_type": "stream",
     "text": [
      "        b  d  e\n",
      "Utah   -1  0  1\n",
      "Ohio   -1  0  1\n",
      "Texas  -1  0  1\n",
      "Oregon -1  0  1\n"
     ]
    }
   ],
   "source": [
    "series3 = frame['d']\n",
    "print frame.sub(series3, axis = 0)"
   ]
  },
  {
   "cell_type": "code",
   "execution_count": 136,
   "metadata": {},
   "outputs": [
    {
     "name": "stdout",
     "output_type": "stream",
     "text": [
      "        Ohio  Oregon  Texas  Utah   b   d   e\n",
      "Utah     NaN     NaN    NaN   NaN NaN NaN NaN\n",
      "Ohio     NaN     NaN    NaN   NaN NaN NaN NaN\n",
      "Texas    NaN     NaN    NaN   NaN NaN NaN NaN\n",
      "Oregon   NaN     NaN    NaN   NaN NaN NaN NaN\n"
     ]
    }
   ],
   "source": [
    "series4=frame['d']\n",
    "print frame- series4"
   ]
  },
  {
   "cell_type": "code",
   "execution_count": 137,
   "metadata": {},
   "outputs": [
    {
     "data": {
      "text/plain": [
       "Utah       1\n",
       "Ohio       4\n",
       "Texas      7\n",
       "Oregon    10\n",
       "Name: d, dtype: int32"
      ]
     },
     "execution_count": 137,
     "metadata": {},
     "output_type": "execute_result"
    }
   ],
   "source": [
    "series4"
   ]
  },
  {
   "cell_type": "code",
   "execution_count": 150,
   "metadata": {},
   "outputs": [
    {
     "data": {
      "text/html": [
       "<div>\n",
       "<style>\n",
       "    .dataframe thead tr:only-child th {\n",
       "        text-align: right;\n",
       "    }\n",
       "\n",
       "    .dataframe thead th {\n",
       "        text-align: left;\n",
       "    }\n",
       "\n",
       "    .dataframe tbody tr th {\n",
       "        vertical-align: top;\n",
       "    }\n",
       "</style>\n",
       "<table border=\"1\" class=\"dataframe\">\n",
       "  <thead>\n",
       "    <tr style=\"text-align: right;\">\n",
       "      <th></th>\n",
       "      <th>b</th>\n",
       "      <th>d</th>\n",
       "      <th>e</th>\n",
       "    </tr>\n",
       "  </thead>\n",
       "  <tbody>\n",
       "    <tr>\n",
       "      <th>Utah</th>\n",
       "      <td>-1.413615</td>\n",
       "      <td>0.198597</td>\n",
       "      <td>2.102567</td>\n",
       "    </tr>\n",
       "    <tr>\n",
       "      <th>Ohio</th>\n",
       "      <td>-1.408198</td>\n",
       "      <td>-0.364806</td>\n",
       "      <td>1.547036</td>\n",
       "    </tr>\n",
       "    <tr>\n",
       "      <th>Texas</th>\n",
       "      <td>-0.217059</td>\n",
       "      <td>0.351544</td>\n",
       "      <td>-0.327070</td>\n",
       "    </tr>\n",
       "    <tr>\n",
       "      <th>Oregon</th>\n",
       "      <td>-0.448610</td>\n",
       "      <td>0.824818</td>\n",
       "      <td>-1.368526</td>\n",
       "    </tr>\n",
       "  </tbody>\n",
       "</table>\n",
       "</div>"
      ],
      "text/plain": [
       "               b         d         e\n",
       "Utah   -1.413615  0.198597  2.102567\n",
       "Ohio   -1.408198 -0.364806  1.547036\n",
       "Texas  -0.217059  0.351544 -0.327070\n",
       "Oregon -0.448610  0.824818 -1.368526"
      ]
     },
     "execution_count": 150,
     "metadata": {},
     "output_type": "execute_result"
    }
   ],
   "source": [
    "frame=pd.DataFrame(np.random.randn(4,3), index=('Utah', 'Ohio', 'Texas', 'Oregon'), columns=list('bde'))\n",
    "frame"
   ]
  },
  {
   "cell_type": "code",
   "execution_count": 151,
   "metadata": {},
   "outputs": [
    {
     "data": {
      "text/html": [
       "<div>\n",
       "<style>\n",
       "    .dataframe thead tr:only-child th {\n",
       "        text-align: right;\n",
       "    }\n",
       "\n",
       "    .dataframe thead th {\n",
       "        text-align: left;\n",
       "    }\n",
       "\n",
       "    .dataframe tbody tr th {\n",
       "        vertical-align: top;\n",
       "    }\n",
       "</style>\n",
       "<table border=\"1\" class=\"dataframe\">\n",
       "  <thead>\n",
       "    <tr style=\"text-align: right;\">\n",
       "      <th></th>\n",
       "      <th>b</th>\n",
       "      <th>d</th>\n",
       "      <th>e</th>\n",
       "    </tr>\n",
       "  </thead>\n",
       "  <tbody>\n",
       "    <tr>\n",
       "      <th>Utah</th>\n",
       "      <td>1.413615</td>\n",
       "      <td>0.198597</td>\n",
       "      <td>2.102567</td>\n",
       "    </tr>\n",
       "    <tr>\n",
       "      <th>Ohio</th>\n",
       "      <td>1.408198</td>\n",
       "      <td>0.364806</td>\n",
       "      <td>1.547036</td>\n",
       "    </tr>\n",
       "    <tr>\n",
       "      <th>Texas</th>\n",
       "      <td>0.217059</td>\n",
       "      <td>0.351544</td>\n",
       "      <td>0.327070</td>\n",
       "    </tr>\n",
       "    <tr>\n",
       "      <th>Oregon</th>\n",
       "      <td>0.448610</td>\n",
       "      <td>0.824818</td>\n",
       "      <td>1.368526</td>\n",
       "    </tr>\n",
       "  </tbody>\n",
       "</table>\n",
       "</div>"
      ],
      "text/plain": [
       "               b         d         e\n",
       "Utah    1.413615  0.198597  2.102567\n",
       "Ohio    1.408198  0.364806  1.547036\n",
       "Texas   0.217059  0.351544  0.327070\n",
       "Oregon  0.448610  0.824818  1.368526"
      ]
     },
     "execution_count": 151,
     "metadata": {},
     "output_type": "execute_result"
    }
   ],
   "source": [
    "np.abs(frame)"
   ]
  },
  {
   "cell_type": "code",
   "execution_count": 152,
   "metadata": {},
   "outputs": [
    {
     "data": {
      "text/plain": [
       "Utah      3.516182\n",
       "Ohio      2.955234\n",
       "Texas     0.678613\n",
       "Oregon    2.193344\n",
       "dtype: float64"
      ]
     },
     "execution_count": 152,
     "metadata": {},
     "output_type": "execute_result"
    }
   ],
   "source": [
    "frame.apply(lambda x: x.max()-x.min(),axis=1)"
   ]
  },
  {
   "cell_type": "code",
   "execution_count": 153,
   "metadata": {},
   "outputs": [
    {
     "data": {
      "text/plain": [
       "b    1.196557\n",
       "d    1.189625\n",
       "e    3.471092\n",
       "dtype: float64"
      ]
     },
     "execution_count": 153,
     "metadata": {},
     "output_type": "execute_result"
    }
   ],
   "source": [
    "frame.apply(lambda x: x.max()-x.min(),axis=0)"
   ]
  },
  {
   "cell_type": "code",
   "execution_count": 157,
   "metadata": {},
   "outputs": [
    {
     "data": {
      "text/html": [
       "<div>\n",
       "<style>\n",
       "    .dataframe thead tr:only-child th {\n",
       "        text-align: right;\n",
       "    }\n",
       "\n",
       "    .dataframe thead th {\n",
       "        text-align: left;\n",
       "    }\n",
       "\n",
       "    .dataframe tbody tr th {\n",
       "        vertical-align: top;\n",
       "    }\n",
       "</style>\n",
       "<table border=\"1\" class=\"dataframe\">\n",
       "  <thead>\n",
       "    <tr style=\"text-align: right;\">\n",
       "      <th></th>\n",
       "      <th>b</th>\n",
       "      <th>d</th>\n",
       "      <th>e</th>\n",
       "    </tr>\n",
       "  </thead>\n",
       "  <tbody>\n",
       "    <tr>\n",
       "      <th>Utah</th>\n",
       "      <td>-1.41</td>\n",
       "      <td>0.20</td>\n",
       "      <td>2.10</td>\n",
       "    </tr>\n",
       "    <tr>\n",
       "      <th>Ohio</th>\n",
       "      <td>-1.41</td>\n",
       "      <td>-0.36</td>\n",
       "      <td>1.55</td>\n",
       "    </tr>\n",
       "    <tr>\n",
       "      <th>Texas</th>\n",
       "      <td>-0.22</td>\n",
       "      <td>0.35</td>\n",
       "      <td>-0.33</td>\n",
       "    </tr>\n",
       "    <tr>\n",
       "      <th>Oregon</th>\n",
       "      <td>-0.45</td>\n",
       "      <td>0.82</td>\n",
       "      <td>-1.37</td>\n",
       "    </tr>\n",
       "  </tbody>\n",
       "</table>\n",
       "</div>"
      ],
      "text/plain": [
       "            b      d      e\n",
       "Utah    -1.41   0.20   2.10\n",
       "Ohio    -1.41  -0.36   1.55\n",
       "Texas   -0.22   0.35  -0.33\n",
       "Oregon  -0.45   0.82  -1.37"
      ]
     },
     "execution_count": 157,
     "metadata": {},
     "output_type": "execute_result"
    }
   ],
   "source": [
    "frame.applymap(lambda x: '%.2f' % x)"
   ]
  },
  {
   "cell_type": "code",
   "execution_count": 158,
   "metadata": {},
   "outputs": [
    {
     "data": {
      "text/plain": [
       "Utah       2.10\n",
       "Ohio       1.55\n",
       "Texas     -0.33\n",
       "Oregon    -1.37\n",
       "Name: e, dtype: object"
      ]
     },
     "execution_count": 158,
     "metadata": {},
     "output_type": "execute_result"
    }
   ],
   "source": [
    "frame['e'].map(lambda x: '%.2f' % x)"
   ]
  },
  {
   "cell_type": "code",
   "execution_count": 154,
   "metadata": {},
   "outputs": [
    {
     "data": {
      "text/html": [
       "<div>\n",
       "<style>\n",
       "    .dataframe thead tr:only-child th {\n",
       "        text-align: right;\n",
       "    }\n",
       "\n",
       "    .dataframe thead th {\n",
       "        text-align: left;\n",
       "    }\n",
       "\n",
       "    .dataframe tbody tr th {\n",
       "        vertical-align: top;\n",
       "    }\n",
       "</style>\n",
       "<table border=\"1\" class=\"dataframe\">\n",
       "  <thead>\n",
       "    <tr style=\"text-align: right;\">\n",
       "      <th></th>\n",
       "      <th>min</th>\n",
       "      <th>max</th>\n",
       "    </tr>\n",
       "  </thead>\n",
       "  <tbody>\n",
       "    <tr>\n",
       "      <th>Utah</th>\n",
       "      <td>-1.413615</td>\n",
       "      <td>2.102567</td>\n",
       "    </tr>\n",
       "    <tr>\n",
       "      <th>Ohio</th>\n",
       "      <td>-1.408198</td>\n",
       "      <td>1.547036</td>\n",
       "    </tr>\n",
       "    <tr>\n",
       "      <th>Texas</th>\n",
       "      <td>-0.327070</td>\n",
       "      <td>0.351544</td>\n",
       "    </tr>\n",
       "    <tr>\n",
       "      <th>Oregon</th>\n",
       "      <td>-1.368526</td>\n",
       "      <td>0.824818</td>\n",
       "    </tr>\n",
       "  </tbody>\n",
       "</table>\n",
       "</div>"
      ],
      "text/plain": [
       "             min       max\n",
       "Utah   -1.413615  2.102567\n",
       "Ohio   -1.408198  1.547036\n",
       "Texas  -0.327070  0.351544\n",
       "Oregon -1.368526  0.824818"
      ]
     },
     "execution_count": 154,
     "metadata": {},
     "output_type": "execute_result"
    }
   ],
   "source": [
    "frame.apply(lambda x: Series([x.min(), x.max()], index = ['min', 'max']) ,axis=1)"
   ]
  },
  {
   "cell_type": "code",
   "execution_count": 160,
   "metadata": {},
   "outputs": [
    {
     "data": {
      "text/plain": [
       "d    0\n",
       "a    1\n",
       "b    2\n",
       "c    3\n",
       "dtype: int64"
      ]
     },
     "execution_count": 160,
     "metadata": {},
     "output_type": "execute_result"
    }
   ],
   "source": [
    "obj = Series(range(4), index = ['d', 'a', 'b', 'c'])\n",
    "obj"
   ]
  },
  {
   "cell_type": "code",
   "execution_count": 161,
   "metadata": {},
   "outputs": [
    {
     "data": {
      "text/plain": [
       "a    1\n",
       "b    2\n",
       "c    3\n",
       "d    0\n",
       "dtype: int64"
      ]
     },
     "execution_count": 161,
     "metadata": {},
     "output_type": "execute_result"
    }
   ],
   "source": [
    "obj.sort_index()"
   ]
  },
  {
   "cell_type": "code",
   "execution_count": 163,
   "metadata": {},
   "outputs": [
    {
     "data": {
      "text/html": [
       "<div>\n",
       "<style>\n",
       "    .dataframe thead tr:only-child th {\n",
       "        text-align: right;\n",
       "    }\n",
       "\n",
       "    .dataframe thead th {\n",
       "        text-align: left;\n",
       "    }\n",
       "\n",
       "    .dataframe tbody tr th {\n",
       "        vertical-align: top;\n",
       "    }\n",
       "</style>\n",
       "<table border=\"1\" class=\"dataframe\">\n",
       "  <thead>\n",
       "    <tr style=\"text-align: right;\">\n",
       "      <th></th>\n",
       "      <th>d</th>\n",
       "      <th>a</th>\n",
       "      <th>b</th>\n",
       "      <th>c</th>\n",
       "    </tr>\n",
       "  </thead>\n",
       "  <tbody>\n",
       "    <tr>\n",
       "      <th>three</th>\n",
       "      <td>0</td>\n",
       "      <td>1</td>\n",
       "      <td>2</td>\n",
       "      <td>3</td>\n",
       "    </tr>\n",
       "    <tr>\n",
       "      <th>one</th>\n",
       "      <td>4</td>\n",
       "      <td>5</td>\n",
       "      <td>6</td>\n",
       "      <td>7</td>\n",
       "    </tr>\n",
       "  </tbody>\n",
       "</table>\n",
       "</div>"
      ],
      "text/plain": [
       "       d  a  b  c\n",
       "three  0  1  2  3\n",
       "one    4  5  6  7"
      ]
     },
     "execution_count": 163,
     "metadata": {},
     "output_type": "execute_result"
    }
   ],
   "source": [
    "frame = pd.DataFrame(np.arange(8).reshape((2, 4)),\n",
    "                  index = ['three', 'one'],\n",
    "                  columns = list('dabc'))\n",
    "frame"
   ]
  },
  {
   "cell_type": "code",
   "execution_count": 164,
   "metadata": {},
   "outputs": [
    {
     "data": {
      "text/html": [
       "<div>\n",
       "<style>\n",
       "    .dataframe thead tr:only-child th {\n",
       "        text-align: right;\n",
       "    }\n",
       "\n",
       "    .dataframe thead th {\n",
       "        text-align: left;\n",
       "    }\n",
       "\n",
       "    .dataframe tbody tr th {\n",
       "        vertical-align: top;\n",
       "    }\n",
       "</style>\n",
       "<table border=\"1\" class=\"dataframe\">\n",
       "  <thead>\n",
       "    <tr style=\"text-align: right;\">\n",
       "      <th></th>\n",
       "      <th>d</th>\n",
       "      <th>a</th>\n",
       "      <th>b</th>\n",
       "      <th>c</th>\n",
       "    </tr>\n",
       "  </thead>\n",
       "  <tbody>\n",
       "    <tr>\n",
       "      <th>one</th>\n",
       "      <td>4</td>\n",
       "      <td>5</td>\n",
       "      <td>6</td>\n",
       "      <td>7</td>\n",
       "    </tr>\n",
       "    <tr>\n",
       "      <th>three</th>\n",
       "      <td>0</td>\n",
       "      <td>1</td>\n",
       "      <td>2</td>\n",
       "      <td>3</td>\n",
       "    </tr>\n",
       "  </tbody>\n",
       "</table>\n",
       "</div>"
      ],
      "text/plain": [
       "       d  a  b  c\n",
       "one    4  5  6  7\n",
       "three  0  1  2  3"
      ]
     },
     "execution_count": 164,
     "metadata": {},
     "output_type": "execute_result"
    }
   ],
   "source": [
    "frame.sort_index()"
   ]
  },
  {
   "cell_type": "code",
   "execution_count": 167,
   "metadata": {
    "scrolled": true
   },
   "outputs": [
    {
     "data": {
      "text/html": [
       "<div>\n",
       "<style>\n",
       "    .dataframe thead tr:only-child th {\n",
       "        text-align: right;\n",
       "    }\n",
       "\n",
       "    .dataframe thead th {\n",
       "        text-align: left;\n",
       "    }\n",
       "\n",
       "    .dataframe tbody tr th {\n",
       "        vertical-align: top;\n",
       "    }\n",
       "</style>\n",
       "<table border=\"1\" class=\"dataframe\">\n",
       "  <thead>\n",
       "    <tr style=\"text-align: right;\">\n",
       "      <th></th>\n",
       "      <th>a</th>\n",
       "      <th>b</th>\n",
       "      <th>c</th>\n",
       "      <th>d</th>\n",
       "    </tr>\n",
       "  </thead>\n",
       "  <tbody>\n",
       "    <tr>\n",
       "      <th>three</th>\n",
       "      <td>1</td>\n",
       "      <td>2</td>\n",
       "      <td>3</td>\n",
       "      <td>0</td>\n",
       "    </tr>\n",
       "    <tr>\n",
       "      <th>one</th>\n",
       "      <td>5</td>\n",
       "      <td>6</td>\n",
       "      <td>7</td>\n",
       "      <td>4</td>\n",
       "    </tr>\n",
       "  </tbody>\n",
       "</table>\n",
       "</div>"
      ],
      "text/plain": [
       "       a  b  c  d\n",
       "three  1  2  3  0\n",
       "one    5  6  7  4"
      ]
     },
     "execution_count": 167,
     "metadata": {},
     "output_type": "execute_result"
    }
   ],
   "source": [
    "frame.sort_index(axis=1)"
   ]
  },
  {
   "cell_type": "code",
   "execution_count": 168,
   "metadata": {},
   "outputs": [
    {
     "data": {
      "text/html": [
       "<div>\n",
       "<style>\n",
       "    .dataframe thead tr:only-child th {\n",
       "        text-align: right;\n",
       "    }\n",
       "\n",
       "    .dataframe thead th {\n",
       "        text-align: left;\n",
       "    }\n",
       "\n",
       "    .dataframe tbody tr th {\n",
       "        vertical-align: top;\n",
       "    }\n",
       "</style>\n",
       "<table border=\"1\" class=\"dataframe\">\n",
       "  <thead>\n",
       "    <tr style=\"text-align: right;\">\n",
       "      <th></th>\n",
       "      <th>d</th>\n",
       "      <th>c</th>\n",
       "      <th>b</th>\n",
       "      <th>a</th>\n",
       "    </tr>\n",
       "  </thead>\n",
       "  <tbody>\n",
       "    <tr>\n",
       "      <th>three</th>\n",
       "      <td>0</td>\n",
       "      <td>3</td>\n",
       "      <td>2</td>\n",
       "      <td>1</td>\n",
       "    </tr>\n",
       "    <tr>\n",
       "      <th>one</th>\n",
       "      <td>4</td>\n",
       "      <td>7</td>\n",
       "      <td>6</td>\n",
       "      <td>5</td>\n",
       "    </tr>\n",
       "  </tbody>\n",
       "</table>\n",
       "</div>"
      ],
      "text/plain": [
       "       d  c  b  a\n",
       "three  0  3  2  1\n",
       "one    4  7  6  5"
      ]
     },
     "execution_count": 168,
     "metadata": {},
     "output_type": "execute_result"
    }
   ],
   "source": [
    "frame.sort_index(axis=1,ascending=False)"
   ]
  },
  {
   "cell_type": "code",
   "execution_count": 170,
   "metadata": {},
   "outputs": [
    {
     "data": {
      "text/html": [
       "<div>\n",
       "<style>\n",
       "    .dataframe thead tr:only-child th {\n",
       "        text-align: right;\n",
       "    }\n",
       "\n",
       "    .dataframe thead th {\n",
       "        text-align: left;\n",
       "    }\n",
       "\n",
       "    .dataframe tbody tr th {\n",
       "        vertical-align: top;\n",
       "    }\n",
       "</style>\n",
       "<table border=\"1\" class=\"dataframe\">\n",
       "  <thead>\n",
       "    <tr style=\"text-align: right;\">\n",
       "      <th></th>\n",
       "      <th>d</th>\n",
       "      <th>a</th>\n",
       "      <th>b</th>\n",
       "      <th>c</th>\n",
       "    </tr>\n",
       "  </thead>\n",
       "  <tbody>\n",
       "    <tr>\n",
       "      <th>one</th>\n",
       "      <td>4</td>\n",
       "      <td>5</td>\n",
       "      <td>6</td>\n",
       "      <td>7</td>\n",
       "    </tr>\n",
       "    <tr>\n",
       "      <th>three</th>\n",
       "      <td>0</td>\n",
       "      <td>1</td>\n",
       "      <td>2</td>\n",
       "      <td>3</td>\n",
       "    </tr>\n",
       "  </tbody>\n",
       "</table>\n",
       "</div>"
      ],
      "text/plain": [
       "       d  a  b  c\n",
       "one    4  5  6  7\n",
       "three  0  1  2  3"
      ]
     },
     "execution_count": 170,
     "metadata": {},
     "output_type": "execute_result"
    }
   ],
   "source": [
    "frame.sort_values(by=['b','c'],ascending=False)"
   ]
  },
  {
   "cell_type": "code",
   "execution_count": 171,
   "metadata": {},
   "outputs": [
    {
     "data": {
      "text/plain": [
       "0    7\n",
       "1   -5\n",
       "2    7\n",
       "3    4\n",
       "4    2\n",
       "5    0\n",
       "6    4\n",
       "dtype: int64"
      ]
     },
     "execution_count": 171,
     "metadata": {},
     "output_type": "execute_result"
    }
   ],
   "source": [
    "obj = Series([7, -5, 7, 4, 2, 0, 4])\n",
    "obj"
   ]
  },
  {
   "cell_type": "code",
   "execution_count": 172,
   "metadata": {},
   "outputs": [
    {
     "data": {
      "text/plain": [
       "0    6.5\n",
       "1    1.0\n",
       "2    6.5\n",
       "3    4.5\n",
       "4    3.0\n",
       "5    2.0\n",
       "6    4.5\n",
       "dtype: float64"
      ]
     },
     "execution_count": 172,
     "metadata": {},
     "output_type": "execute_result"
    }
   ],
   "source": [
    "obj.rank()"
   ]
  },
  {
   "cell_type": "code",
   "execution_count": 174,
   "metadata": {},
   "outputs": [
    {
     "data": {
      "text/plain": [
       "0    6.0\n",
       "1    1.0\n",
       "2    7.0\n",
       "3    4.0\n",
       "4    3.0\n",
       "5    2.0\n",
       "6    5.0\n",
       "dtype: float64"
      ]
     },
     "execution_count": 174,
     "metadata": {},
     "output_type": "execute_result"
    }
   ],
   "source": [
    "obj.rank(method = 'first')"
   ]
  },
  {
   "cell_type": "code",
   "execution_count": 175,
   "metadata": {},
   "outputs": [
    {
     "data": {
      "text/plain": [
       "0    2.0\n",
       "1    7.0\n",
       "2    2.0\n",
       "3    4.0\n",
       "4    5.0\n",
       "5    6.0\n",
       "6    4.0\n",
       "dtype: float64"
      ]
     },
     "execution_count": 175,
     "metadata": {},
     "output_type": "execute_result"
    }
   ],
   "source": [
    "obj.rank(ascending = False, method = 'max')"
   ]
  },
  {
   "cell_type": "code",
   "execution_count": 177,
   "metadata": {},
   "outputs": [
    {
     "name": "stdout",
     "output_type": "stream",
     "text": [
      "   a    b    c\n",
      "0  0  4.3 -2.0\n",
      "1  1  7.0  5.0\n",
      "2  0 -3.0  8.0\n",
      "3  1  2.0 -2.5\n",
      "     a    b    c\n",
      "0  2.0  3.0  1.0\n",
      "1  1.0  3.0  2.0\n",
      "2  2.0  1.0  3.0\n",
      "3  2.0  3.0  1.0\n"
     ]
    }
   ],
   "source": [
    "frame = pd.DataFrame({'b':[4.3, 7, -3, 2],\n",
    "                  'a':[0, 1, 0, 1],\n",
    "                  'c':[-2, 5, 8, -2.5]})\n",
    "print frame\n",
    "print frame.rank(axis = 1)"
   ]
  },
  {
   "cell_type": "code",
   "execution_count": 178,
   "metadata": {},
   "outputs": [
    {
     "name": "stdout",
     "output_type": "stream",
     "text": [
      "False\n"
     ]
    }
   ],
   "source": [
    "obj = Series(range(5), index = ['a', 'a', 'b', 'b', 'c'])\n",
    "print obj.index.is_unique"
   ]
  },
  {
   "cell_type": "code",
   "execution_count": 186,
   "metadata": {},
   "outputs": [
    {
     "name": "stdout",
     "output_type": "stream",
     "text": [
      "相关性与协方差\n"
     ]
    },
    {
     "ename": "RemoteDataError",
     "evalue": "Unable to read URL: https://finance.google.com/finance/historical?q=AAPL&startdate=Apr+01%2C+2016&enddate=Jul+15%2C+2016&output=csv\nResponse Text:\n<html><head><meta http-equiv=\"content-type\" content=\"text/html; charset=utf-8\"/><title>Sorry...</title><style> body { font-family: verdana, arial, sans-serif; background-color: #fff; color: #000; }</style></head><body><div><table><tr><td><b><font face=sans-serif size=10><font color=#4285f4>G</font><font color=#ea4335>o</font><font color=#fbbc05>o</font><font color=#4285f4>g</font><font color=#34a853>l</font><font color=#ea4335>e</font></font></b></td><td style=\"text-align: left; vertical-align: bottom; padding-bottom: 15px; width: 50%\"><div style=\"border-bottom: 1px solid #dfdfdf;\">Sorry...</div></td></tr></table></div><div style=\"margin-left: 4em;\"><h1>We're sorry...</h1><p>... but your computer or network may be sending automated queries. To protect our users, we can't process your request right now.</p></div><div style=\"margin-left: 4em;\">See <a href=\"https://support.google.com/websearch/answer/86640\">Google Help</a> for more information.<br/><br/></div><div style=\"text-align: center; border-top: 1px solid #dfdfdf;\"><a href=\"https://www.google.com\">Google Home</a></div></body></html>",
     "output_type": "error",
     "traceback": [
      "\u001b[1;31m---------------------------------------------------------------------------\u001b[0m",
      "\u001b[1;31mRemoteDataError\u001b[0m                           Traceback (most recent call last)",
      "\u001b[1;32m<ipython-input-186-bcf6e59a3945>\u001b[0m in \u001b[0;36m<module>\u001b[1;34m()\u001b[0m\n\u001b[0;32m      6\u001b[0m \u001b[0mall_data\u001b[0m \u001b[1;33m=\u001b[0m \u001b[1;33m{\u001b[0m\u001b[1;33m}\u001b[0m\u001b[1;33m\u001b[0m\u001b[0m\n\u001b[0;32m      7\u001b[0m \u001b[1;32mfor\u001b[0m \u001b[0mticker\u001b[0m \u001b[1;32min\u001b[0m \u001b[1;33m[\u001b[0m\u001b[1;34m'AAPL'\u001b[0m\u001b[1;33m,\u001b[0m \u001b[1;34m'IBM'\u001b[0m\u001b[1;33m,\u001b[0m \u001b[1;34m'MSFT'\u001b[0m\u001b[1;33m,\u001b[0m \u001b[1;34m'GOOG'\u001b[0m\u001b[1;33m]\u001b[0m\u001b[1;33m:\u001b[0m\u001b[1;33m\u001b[0m\u001b[0m\n\u001b[1;32m----> 8\u001b[1;33m     \u001b[0mall_data\u001b[0m\u001b[1;33m[\u001b[0m\u001b[0mticker\u001b[0m\u001b[1;33m]\u001b[0m \u001b[1;33m=\u001b[0m \u001b[0mweb\u001b[0m\u001b[1;33m.\u001b[0m\u001b[0mDataReader\u001b[0m\u001b[1;33m(\u001b[0m\u001b[0mticker\u001b[0m\u001b[1;33m,\u001b[0m\u001b[1;34m'google'\u001b[0m\u001b[1;33m,\u001b[0m \u001b[1;34m'4/1/2016'\u001b[0m\u001b[1;33m,\u001b[0m \u001b[1;34m'7/15/2016'\u001b[0m\u001b[1;33m)\u001b[0m\u001b[1;33m\u001b[0m\u001b[0m\n\u001b[0m\u001b[0;32m      9\u001b[0m     \u001b[0mprice\u001b[0m \u001b[1;33m=\u001b[0m \u001b[0mDataFrame\u001b[0m\u001b[1;33m(\u001b[0m\u001b[1;33m{\u001b[0m\u001b[0mtic\u001b[0m\u001b[1;33m:\u001b[0m \u001b[0mdata\u001b[0m\u001b[1;33m[\u001b[0m\u001b[1;34m'Adj Close'\u001b[0m\u001b[1;33m]\u001b[0m \u001b[1;32mfor\u001b[0m \u001b[0mtic\u001b[0m\u001b[1;33m,\u001b[0m \u001b[0mdata\u001b[0m \u001b[1;32min\u001b[0m \u001b[0mall_data\u001b[0m\u001b[1;33m.\u001b[0m\u001b[0miteritems\u001b[0m\u001b[1;33m(\u001b[0m\u001b[1;33m)\u001b[0m\u001b[1;33m}\u001b[0m\u001b[1;33m)\u001b[0m\u001b[1;33m\u001b[0m\u001b[0m\n\u001b[0;32m     10\u001b[0m     \u001b[0mvolume\u001b[0m \u001b[1;33m=\u001b[0m \u001b[0mDataFrame\u001b[0m\u001b[1;33m(\u001b[0m\u001b[1;33m{\u001b[0m\u001b[0mtic\u001b[0m\u001b[1;33m:\u001b[0m \u001b[0mdata\u001b[0m\u001b[1;33m[\u001b[0m\u001b[1;34m'Volume'\u001b[0m\u001b[1;33m]\u001b[0m \u001b[1;32mfor\u001b[0m \u001b[0mtic\u001b[0m\u001b[1;33m,\u001b[0m \u001b[0mdata\u001b[0m \u001b[1;32min\u001b[0m \u001b[0mall_data\u001b[0m\u001b[1;33m.\u001b[0m\u001b[0miteritems\u001b[0m\u001b[1;33m(\u001b[0m\u001b[1;33m)\u001b[0m\u001b[1;33m}\u001b[0m\u001b[1;33m)\u001b[0m\u001b[1;33m\u001b[0m\u001b[0m\n",
      "\u001b[1;32mC:\\Users\\Lei Lei\\Anaconda2\\lib\\site-packages\\pandas_datareader\\data.pyc\u001b[0m in \u001b[0;36mDataReader\u001b[1;34m(name, data_source, start, end, retry_count, pause, session, access_key)\u001b[0m\n\u001b[0;32m    313\u001b[0m                                  \u001b[0mchunksize\u001b[0m\u001b[1;33m=\u001b[0m\u001b[1;36m25\u001b[0m\u001b[1;33m,\u001b[0m\u001b[1;33m\u001b[0m\u001b[0m\n\u001b[0;32m    314\u001b[0m                                  \u001b[0mretry_count\u001b[0m\u001b[1;33m=\u001b[0m\u001b[0mretry_count\u001b[0m\u001b[1;33m,\u001b[0m \u001b[0mpause\u001b[0m\u001b[1;33m=\u001b[0m\u001b[0mpause\u001b[0m\u001b[1;33m,\u001b[0m\u001b[1;33m\u001b[0m\u001b[0m\n\u001b[1;32m--> 315\u001b[1;33m                                  session=session).read()\n\u001b[0m\u001b[0;32m    316\u001b[0m \u001b[1;33m\u001b[0m\u001b[0m\n\u001b[0;32m    317\u001b[0m     \u001b[1;32melif\u001b[0m \u001b[0mdata_source\u001b[0m \u001b[1;33m==\u001b[0m \u001b[1;34m\"iex\"\u001b[0m\u001b[1;33m:\u001b[0m\u001b[1;33m\u001b[0m\u001b[0m\n",
      "\u001b[1;32mC:\\Users\\Lei Lei\\Anaconda2\\lib\\site-packages\\pandas_datareader\\base.pyc\u001b[0m in \u001b[0;36mread\u001b[1;34m(self)\u001b[0m\n\u001b[0;32m    204\u001b[0m         \u001b[1;32mif\u001b[0m \u001b[0misinstance\u001b[0m\u001b[1;33m(\u001b[0m\u001b[0mself\u001b[0m\u001b[1;33m.\u001b[0m\u001b[0msymbols\u001b[0m\u001b[1;33m,\u001b[0m \u001b[1;33m(\u001b[0m\u001b[0mcompat\u001b[0m\u001b[1;33m.\u001b[0m\u001b[0mstring_types\u001b[0m\u001b[1;33m,\u001b[0m \u001b[0mint\u001b[0m\u001b[1;33m)\u001b[0m\u001b[1;33m)\u001b[0m\u001b[1;33m:\u001b[0m\u001b[1;33m\u001b[0m\u001b[0m\n\u001b[0;32m    205\u001b[0m             df = self._read_one_data(self.url,\n\u001b[1;32m--> 206\u001b[1;33m                                      params=self._get_params(self.symbols))\n\u001b[0m\u001b[0;32m    207\u001b[0m         \u001b[1;31m# Or multiple symbols, (e.g., ['GOOG', 'AAPL', 'MSFT'])\u001b[0m\u001b[1;33m\u001b[0m\u001b[1;33m\u001b[0m\u001b[0m\n\u001b[0;32m    208\u001b[0m         \u001b[1;32melif\u001b[0m \u001b[0misinstance\u001b[0m\u001b[1;33m(\u001b[0m\u001b[0mself\u001b[0m\u001b[1;33m.\u001b[0m\u001b[0msymbols\u001b[0m\u001b[1;33m,\u001b[0m \u001b[0mDataFrame\u001b[0m\u001b[1;33m)\u001b[0m\u001b[1;33m:\u001b[0m\u001b[1;33m\u001b[0m\u001b[0m\n",
      "\u001b[1;32mC:\\Users\\Lei Lei\\Anaconda2\\lib\\site-packages\\pandas_datareader\\base.pyc\u001b[0m in \u001b[0;36m_read_one_data\u001b[1;34m(self, url, params)\u001b[0m\n\u001b[0;32m     82\u001b[0m         \u001b[1;34m\"\"\" read one data from specified URL \"\"\"\u001b[0m\u001b[1;33m\u001b[0m\u001b[0m\n\u001b[0;32m     83\u001b[0m         \u001b[1;32mif\u001b[0m \u001b[0mself\u001b[0m\u001b[1;33m.\u001b[0m\u001b[0m_format\u001b[0m \u001b[1;33m==\u001b[0m \u001b[1;34m'string'\u001b[0m\u001b[1;33m:\u001b[0m\u001b[1;33m\u001b[0m\u001b[0m\n\u001b[1;32m---> 84\u001b[1;33m             \u001b[0mout\u001b[0m \u001b[1;33m=\u001b[0m \u001b[0mself\u001b[0m\u001b[1;33m.\u001b[0m\u001b[0m_read_url_as_StringIO\u001b[0m\u001b[1;33m(\u001b[0m\u001b[0murl\u001b[0m\u001b[1;33m,\u001b[0m \u001b[0mparams\u001b[0m\u001b[1;33m=\u001b[0m\u001b[0mparams\u001b[0m\u001b[1;33m)\u001b[0m\u001b[1;33m\u001b[0m\u001b[0m\n\u001b[0m\u001b[0;32m     85\u001b[0m         \u001b[1;32melif\u001b[0m \u001b[0mself\u001b[0m\u001b[1;33m.\u001b[0m\u001b[0m_format\u001b[0m \u001b[1;33m==\u001b[0m \u001b[1;34m'json'\u001b[0m\u001b[1;33m:\u001b[0m\u001b[1;33m\u001b[0m\u001b[0m\n\u001b[0;32m     86\u001b[0m             \u001b[0mout\u001b[0m \u001b[1;33m=\u001b[0m \u001b[0mself\u001b[0m\u001b[1;33m.\u001b[0m\u001b[0m_get_response\u001b[0m\u001b[1;33m(\u001b[0m\u001b[0murl\u001b[0m\u001b[1;33m,\u001b[0m \u001b[0mparams\u001b[0m\u001b[1;33m=\u001b[0m\u001b[0mparams\u001b[0m\u001b[1;33m)\u001b[0m\u001b[1;33m.\u001b[0m\u001b[0mjson\u001b[0m\u001b[1;33m(\u001b[0m\u001b[1;33m)\u001b[0m\u001b[1;33m\u001b[0m\u001b[0m\n",
      "\u001b[1;32mC:\\Users\\Lei Lei\\Anaconda2\\lib\\site-packages\\pandas_datareader\\base.pyc\u001b[0m in \u001b[0;36m_read_url_as_StringIO\u001b[1;34m(self, url, params)\u001b[0m\n\u001b[0;32m     93\u001b[0m         \u001b[0mOpen\u001b[0m \u001b[0murl\u001b[0m \u001b[1;33m(\u001b[0m\u001b[1;32mand\u001b[0m \u001b[0mretry\u001b[0m\u001b[1;33m)\u001b[0m\u001b[1;33m\u001b[0m\u001b[0m\n\u001b[0;32m     94\u001b[0m         \"\"\"\n\u001b[1;32m---> 95\u001b[1;33m         \u001b[0mresponse\u001b[0m \u001b[1;33m=\u001b[0m \u001b[0mself\u001b[0m\u001b[1;33m.\u001b[0m\u001b[0m_get_response\u001b[0m\u001b[1;33m(\u001b[0m\u001b[0murl\u001b[0m\u001b[1;33m,\u001b[0m \u001b[0mparams\u001b[0m\u001b[1;33m=\u001b[0m\u001b[0mparams\u001b[0m\u001b[1;33m)\u001b[0m\u001b[1;33m\u001b[0m\u001b[0m\n\u001b[0m\u001b[0;32m     96\u001b[0m         \u001b[0mtext\u001b[0m \u001b[1;33m=\u001b[0m \u001b[0mself\u001b[0m\u001b[1;33m.\u001b[0m\u001b[0m_sanitize_response\u001b[0m\u001b[1;33m(\u001b[0m\u001b[0mresponse\u001b[0m\u001b[1;33m)\u001b[0m\u001b[1;33m\u001b[0m\u001b[0m\n\u001b[0;32m     97\u001b[0m         \u001b[0mout\u001b[0m \u001b[1;33m=\u001b[0m \u001b[0mStringIO\u001b[0m\u001b[1;33m(\u001b[0m\u001b[1;33m)\u001b[0m\u001b[1;33m\u001b[0m\u001b[0m\n",
      "\u001b[1;32mC:\\Users\\Lei Lei\\Anaconda2\\lib\\site-packages\\pandas_datareader\\base.pyc\u001b[0m in \u001b[0;36m_get_response\u001b[1;34m(self, url, params, headers)\u001b[0m\n\u001b[0;32m    153\u001b[0m             \u001b[0mmsg\u001b[0m \u001b[1;33m+=\u001b[0m \u001b[1;34m'\\nResponse Text:\\n{0}'\u001b[0m\u001b[1;33m.\u001b[0m\u001b[0mformat\u001b[0m\u001b[1;33m(\u001b[0m\u001b[0mlast_response_text\u001b[0m\u001b[1;33m)\u001b[0m\u001b[1;33m\u001b[0m\u001b[0m\n\u001b[0;32m    154\u001b[0m \u001b[1;33m\u001b[0m\u001b[0m\n\u001b[1;32m--> 155\u001b[1;33m         \u001b[1;32mraise\u001b[0m \u001b[0mRemoteDataError\u001b[0m\u001b[1;33m(\u001b[0m\u001b[0mmsg\u001b[0m\u001b[1;33m)\u001b[0m\u001b[1;33m\u001b[0m\u001b[0m\n\u001b[0m\u001b[0;32m    156\u001b[0m \u001b[1;33m\u001b[0m\u001b[0m\n\u001b[0;32m    157\u001b[0m     \u001b[1;32mdef\u001b[0m \u001b[0m_get_crumb\u001b[0m\u001b[1;33m(\u001b[0m\u001b[0mself\u001b[0m\u001b[1;33m,\u001b[0m \u001b[1;33m*\u001b[0m\u001b[0margs\u001b[0m\u001b[1;33m)\u001b[0m\u001b[1;33m:\u001b[0m\u001b[1;33m\u001b[0m\u001b[0m\n",
      "\u001b[1;31mRemoteDataError\u001b[0m: Unable to read URL: https://finance.google.com/finance/historical?q=AAPL&startdate=Apr+01%2C+2016&enddate=Jul+15%2C+2016&output=csv\nResponse Text:\n<html><head><meta http-equiv=\"content-type\" content=\"text/html; charset=utf-8\"/><title>Sorry...</title><style> body { font-family: verdana, arial, sans-serif; background-color: #fff; color: #000; }</style></head><body><div><table><tr><td><b><font face=sans-serif size=10><font color=#4285f4>G</font><font color=#ea4335>o</font><font color=#fbbc05>o</font><font color=#4285f4>g</font><font color=#34a853>l</font><font color=#ea4335>e</font></font></b></td><td style=\"text-align: left; vertical-align: bottom; padding-bottom: 15px; width: 50%\"><div style=\"border-bottom: 1px solid #dfdfdf;\">Sorry...</div></td></tr></table></div><div style=\"margin-left: 4em;\"><h1>We're sorry...</h1><p>... but your computer or network may be sending automated queries. To protect our users, we can't process your request right now.</p></div><div style=\"margin-left: 4em;\">See <a href=\"https://support.google.com/websearch/answer/86640\">Google Help</a> for more information.<br/><br/></div><div style=\"text-align: center; border-top: 1px solid #dfdfdf;\"><a href=\"https://www.google.com\">Google Home</a></div></body></html>"
     ]
    }
   ],
   "source": [
    "import numpy as np\n",
    "import pandas_datareader.data as web\n",
    "from pandas import DataFrame\n",
    "\n",
    "print '相关性与协方差'  # 协方差：https://zh.wikipedia.org/wiki/%E5%8D%8F%E6%96%B9%E5%B7%AE\n",
    "all_data = {}\n",
    "for ticker in ['AAPL', 'IBM', 'MSFT', 'GOOG']:\n",
    "    all_data[ticker] = web.DataReader(ticker,'google', '4/1/2016', '7/15/2016')\n",
    "    price = DataFrame({tic: data['Adj Close'] for tic, data in all_data.iteritems()})\n",
    "    volume = DataFrame({tic: data['Volume'] for tic, data in all_data.iteritems()})\n",
    "returns = price.pct_change()\n",
    "print returns.tail()"
   ]
  }
 ],
 "metadata": {
  "kernelspec": {
   "display_name": "Python 3",
   "language": "python",
   "name": "python3"
  },
  "language_info": {
   "codemirror_mode": {
    "name": "ipython",
    "version": 3
   },
   "file_extension": ".py",
   "mimetype": "text/x-python",
   "name": "python",
   "nbconvert_exporter": "python",
   "pygments_lexer": "ipython3",
   "version": "3.6.2"
  }
 },
 "nbformat": 4,
 "nbformat_minor": 2
}
