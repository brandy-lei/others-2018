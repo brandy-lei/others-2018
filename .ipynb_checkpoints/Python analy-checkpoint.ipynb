{
 "cells": [
  {
   "cell_type": "code",
   "execution_count": null,
   "metadata": {
    "collapsed": true
   },
   "outputs": [],
   "source": [
    "#https://cread.jd.com/read/startRead.action?bookId=30358359&readType=1"
   ]
  },
  {
   "cell_type": "code",
   "execution_count": 1,
   "metadata": {
    "collapsed": true
   },
   "outputs": [],
   "source": [
    "import numpy as np\n",
    "import pandas as pd"
   ]
  },
  {
   "cell_type": "code",
   "execution_count": 2,
   "metadata": {},
   "outputs": [
    {
     "data": {
      "text/plain": [
       "array([0, 1, 2, 3, 4, 5, 6, 7, 8])"
      ]
     },
     "execution_count": 2,
     "metadata": {},
     "output_type": "execute_result"
    }
   ],
   "source": [
    "np.arange(9)"
   ]
  },
  {
   "cell_type": "code",
   "execution_count": 3,
   "metadata": {},
   "outputs": [
    {
     "data": {
      "text/plain": [
       "array([8, 7, 6, 5, 4, 3, 2, 1, 0])"
      ]
     },
     "execution_count": 3,
     "metadata": {},
     "output_type": "execute_result"
    }
   ],
   "source": [
    "a=np.arange(9)\n",
    "a[::-1]"
   ]
  },
  {
   "cell_type": "code",
   "execution_count": 15,
   "metadata": {},
   "outputs": [
    {
     "data": {
      "text/plain": [
       "array([[[ 0,  1,  2,  3],\n",
       "        [ 4,  5,  6,  7],\n",
       "        [ 8,  9, 10, 11]],\n",
       "\n",
       "       [[12, 13, 14, 15],\n",
       "        [16, 17, 18, 19],\n",
       "        [20, 21, 22, 23]]])"
      ]
     },
     "execution_count": 15,
     "metadata": {},
     "output_type": "execute_result"
    }
   ],
   "source": [
    "b=np.arange(24).reshape(2,3,4)\n",
    "b"
   ]
  },
  {
   "cell_type": "code",
   "execution_count": 12,
   "metadata": {},
   "outputs": [
    {
     "data": {
      "text/plain": [
       "array([[[ 0,  1,  2,  3],\n",
       "        [ 4,  5,  6,  7],\n",
       "        [ 8,  9, 10, 11]],\n",
       "\n",
       "       [[12, 13, 14, 15],\n",
       "        [16, 17, 18, 19],\n",
       "        [20, 21, 22, 23]]])"
      ]
     },
     "execution_count": 12,
     "metadata": {},
     "output_type": "execute_result"
    }
   ],
   "source": [
    "b.ravel()\n",
    "b"
   ]
  },
  {
   "cell_type": "code",
   "execution_count": 13,
   "metadata": {},
   "outputs": [
    {
     "data": {
      "text/plain": [
       "array([ 0,  1,  2,  3,  4,  5,  6,  7,  8,  9, 10, 11, 12, 13, 14, 15, 16,\n",
       "       17, 18, 19, 20, 21, 22, 23])"
      ]
     },
     "execution_count": 13,
     "metadata": {},
     "output_type": "execute_result"
    }
   ],
   "source": [
    "b.flatten()\n"
   ]
  },
  {
   "cell_type": "code",
   "execution_count": 19,
   "metadata": {},
   "outputs": [
    {
     "data": {
      "text/plain": [
       "array([[ 0,  1,  2,  3,  4,  5],\n",
       "       [ 6,  7,  8,  9, 10, 11],\n",
       "       [12, 13, 14, 15, 16, 17],\n",
       "       [18, 19, 20, 21, 22, 23]])"
      ]
     },
     "execution_count": 19,
     "metadata": {},
     "output_type": "execute_result"
    }
   ],
   "source": [
    "b=np.arange(24).reshape(4,6)\n",
    "\n",
    "b"
   ]
  },
  {
   "cell_type": "code",
   "execution_count": 20,
   "metadata": {},
   "outputs": [
    {
     "data": {
      "text/plain": [
       "array([[ 0,  6, 12, 18],\n",
       "       [ 1,  7, 13, 19],\n",
       "       [ 2,  8, 14, 20],\n",
       "       [ 3,  9, 15, 21],\n",
       "       [ 4, 10, 16, 22],\n",
       "       [ 5, 11, 17, 23]])"
      ]
     },
     "execution_count": 20,
     "metadata": {},
     "output_type": "execute_result"
    }
   ],
   "source": [
    "b.transpose()"
   ]
  },
  {
   "cell_type": "code",
   "execution_count": 21,
   "metadata": {},
   "outputs": [
    {
     "data": {
      "text/plain": [
       "array([[0, 1, 2],\n",
       "       [3, 4, 5],\n",
       "       [6, 7, 8]])"
      ]
     },
     "execution_count": 21,
     "metadata": {},
     "output_type": "execute_result"
    }
   ],
   "source": [
    "a=np.arange(9).reshape(3,3)\n",
    "a"
   ]
  },
  {
   "cell_type": "code",
   "execution_count": 22,
   "metadata": {},
   "outputs": [
    {
     "data": {
      "text/plain": [
       "array([[ 0,  2,  4],\n",
       "       [ 6,  8, 10],\n",
       "       [12, 14, 16]])"
      ]
     },
     "execution_count": 22,
     "metadata": {},
     "output_type": "execute_result"
    }
   ],
   "source": [
    "b=a*2\n",
    "b"
   ]
  },
  {
   "cell_type": "code",
   "execution_count": 23,
   "metadata": {},
   "outputs": [
    {
     "data": {
      "text/plain": [
       "array([[ 0,  1,  2,  0,  2,  4],\n",
       "       [ 3,  4,  5,  6,  8, 10],\n",
       "       [ 6,  7,  8, 12, 14, 16]])"
      ]
     },
     "execution_count": 23,
     "metadata": {},
     "output_type": "execute_result"
    }
   ],
   "source": [
    "np.concatenate((a,b),axis=1)"
   ]
  },
  {
   "cell_type": "code",
   "execution_count": 24,
   "metadata": {},
   "outputs": [
    {
     "data": {
      "text/plain": [
       "array([[ 0,  1,  2],\n",
       "       [ 3,  4,  5],\n",
       "       [ 6,  7,  8],\n",
       "       [ 0,  2,  4],\n",
       "       [ 6,  8, 10],\n",
       "       [12, 14, 16]])"
      ]
     },
     "execution_count": 24,
     "metadata": {},
     "output_type": "execute_result"
    }
   ],
   "source": [
    "np.concatenate((a,b),axis=0)"
   ]
  },
  {
   "cell_type": "code",
   "execution_count": 26,
   "metadata": {},
   "outputs": [
    {
     "data": {
      "text/plain": [
       "array([[ 0,  1,  2,  0,  2,  4],\n",
       "       [ 3,  4,  5,  6,  8, 10],\n",
       "       [ 6,  7,  8, 12, 14, 16]])"
      ]
     },
     "execution_count": 26,
     "metadata": {},
     "output_type": "execute_result"
    }
   ],
   "source": [
    "np.hstack((a,b\n",
    "          ))"
   ]
  },
  {
   "cell_type": "code",
   "execution_count": 25,
   "metadata": {},
   "outputs": [
    {
     "data": {
      "text/plain": [
       "array([[ 0,  1,  2],\n",
       "       [ 3,  4,  5],\n",
       "       [ 6,  7,  8],\n",
       "       [ 0,  2,  4],\n",
       "       [ 6,  8, 10],\n",
       "       [12, 14, 16]])"
      ]
     },
     "execution_count": 25,
     "metadata": {},
     "output_type": "execute_result"
    }
   ],
   "source": [
    "np.vstack((a,b))"
   ]
  },
  {
   "cell_type": "code",
   "execution_count": 27,
   "metadata": {},
   "outputs": [
    {
     "data": {
      "text/plain": [
       "array([[ 0,  1,  2],\n",
       "       [ 3,  4,  5],\n",
       "       [ 6,  7,  8],\n",
       "       [ 0,  2,  4],\n",
       "       [ 6,  8, 10],\n",
       "       [12, 14, 16]])"
      ]
     },
     "execution_count": 27,
     "metadata": {},
     "output_type": "execute_result"
    }
   ],
   "source": [
    "c=np.vstack((a,b))\n",
    "c"
   ]
  },
  {
   "cell_type": "code",
   "execution_count": 33,
   "metadata": {},
   "outputs": [
    {
     "data": {
      "text/plain": [
       "(72, 18, 4)"
      ]
     },
     "execution_count": 33,
     "metadata": {},
     "output_type": "execute_result"
    }
   ],
   "source": [
    "\n",
    "c.nbytes,c.size, c.itemsize\n",
    "\n",
    "# c.nbytes = c.size *  c.itemsize"
   ]
  },
  {
   "cell_type": "code",
   "execution_count": 31,
   "metadata": {},
   "outputs": [
    {
     "data": {
      "text/plain": [
       "2"
      ]
     },
     "execution_count": 31,
     "metadata": {},
     "output_type": "execute_result"
    }
   ],
   "source": [
    "c.ndim"
   ]
  },
  {
   "cell_type": "code",
   "execution_count": 28,
   "metadata": {},
   "outputs": [
    {
     "data": {
      "text/plain": [
       "[array([[0, 1, 2],\n",
       "        [3, 4, 5]]), array([[6, 7, 8],\n",
       "        [0, 2, 4]]), array([[ 6,  8, 10],\n",
       "        [12, 14, 16]])]"
      ]
     },
     "execution_count": 28,
     "metadata": {},
     "output_type": "execute_result"
    }
   ],
   "source": [
    "np.vsplit(c,3)"
   ]
  },
  {
   "cell_type": "code",
   "execution_count": 34,
   "metadata": {},
   "outputs": [
    {
     "data": {
      "text/plain": [
       "array([[ 0,  3,  6,  0,  6, 12],\n",
       "       [ 1,  4,  7,  2,  8, 14],\n",
       "       [ 2,  5,  8,  4, 10, 16]])"
      ]
     },
     "execution_count": 34,
     "metadata": {},
     "output_type": "execute_result"
    }
   ],
   "source": [
    "c.T"
   ]
  },
  {
   "cell_type": "code",
   "execution_count": 42,
   "metadata": {},
   "outputs": [
    {
     "data": {
      "text/plain": [
       "array([[ 0,  3,  6,  0,  6, 12],\n",
       "       [ 1,  4,  7,  2,  8, 14],\n",
       "       [ 2,  5,  8,  4, 10, 16]])"
      ]
     },
     "execution_count": 42,
     "metadata": {},
     "output_type": "execute_result"
    }
   ],
   "source": [
    "c.transpose()"
   ]
  },
  {
   "cell_type": "code",
   "execution_count": 40,
   "metadata": {},
   "outputs": [
    {
     "data": {
      "text/plain": [
       "array([[ 0,  3,  6,  0,  6, 12],\n",
       "       [ 1,  4,  7,  2,  8, 14],\n",
       "       [ 2,  5,  8,  4, 10, 16]])"
      ]
     },
     "execution_count": 40,
     "metadata": {},
     "output_type": "execute_result"
    }
   ],
   "source": [
    "np.transpose(c)"
   ]
  },
  {
   "cell_type": "code",
   "execution_count": 41,
   "metadata": {},
   "outputs": [
    {
     "data": {
      "text/plain": [
       "[[0, 1, 2], [3, 4, 5], [6, 7, 8], [0, 2, 4], [6, 8, 10], [12, 14, 16]]"
      ]
     },
     "execution_count": 41,
     "metadata": {},
     "output_type": "execute_result"
    }
   ],
   "source": [
    "c.tolist()"
   ]
  },
  {
   "cell_type": "markdown",
   "metadata": {},
   "source": [
    "### 2.7"
   ]
  },
  {
   "cell_type": "code",
   "execution_count": 46,
   "metadata": {
    "collapsed": true
   },
   "outputs": [],
   "source": [
    "import scipy.misc\n",
    "import matplotlib.pyplot as plt"
   ]
  },
  {
   "cell_type": "code",
   "execution_count": 53,
   "metadata": {},
   "outputs": [
    {
     "data": {
      "image/png": "[encoded data removed]",
      "text/plain": [
       "<matplotlib.figure.Figure at 0xa7f5c88>"
      ]
     },
     "metadata": {},
     "output_type": "display_data"
    }
   ],
   "source": [
    "lena=scipy.misc.face()\n",
    "acopy=lena.copy()\n",
    "aview=lena.view()\n",
    "plt.subplot(221)\n",
    "plt.imshow(lena)\n",
    "plt.subplot(222)\n",
    "plt.imshow(acopy)\n",
    "plt.subplot(223)\n",
    "plt.imshow(aview)\n",
    "lena.flat=0\n",
    "plt.subplot(224\n",
    "           )\n",
    "plt.imshow(aview)\n",
    "plt.show()"
   ]
  },
  {
   "cell_type": "code",
   "execution_count": 54,
   "metadata": {},
   "outputs": [
    {
     "data": {
      "text/plain": [
       "array([5, 6])"
      ]
     },
     "execution_count": 54,
     "metadata": {},
     "output_type": "execute_result"
    }
   ],
   "source": [
    "a=np.array([5,6])\n",
    "a"
   ]
  },
  {
   "cell_type": "code",
   "execution_count": 55,
   "metadata": {
    "collapsed": true
   },
   "outputs": [],
   "source": [
    "b=a"
   ]
  },
  {
   "cell_type": "code",
   "execution_count": 58,
   "metadata": {},
   "outputs": [
    {
     "data": {
      "text/plain": [
       "array([5, 3])"
      ]
     },
     "execution_count": 58,
     "metadata": {},
     "output_type": "execute_result"
    }
   ],
   "source": [
    "b[1]=3\n",
    "b"
   ]
  },
  {
   "cell_type": "code",
   "execution_count": 59,
   "metadata": {},
   "outputs": [
    {
     "data": {
      "text/plain": [
       "array([5, 3])"
      ]
     },
     "execution_count": 59,
     "metadata": {},
     "output_type": "execute_result"
    }
   ],
   "source": [
    "a"
   ]
  },
  {
   "cell_type": "code",
   "execution_count": 60,
   "metadata": {},
   "outputs": [
    {
     "data": {
      "text/plain": [
       "array([5, 6])"
      ]
     },
     "execution_count": 60,
     "metadata": {},
     "output_type": "execute_result"
    }
   ],
   "source": [
    "a=np.array([5,6])\n",
    "b=a.copy()\n",
    "b[1]=3\n",
    "a"
   ]
  },
  {
   "cell_type": "markdown",
   "metadata": {},
   "source": [
    "### 2.8"
   ]
  },
  {
   "cell_type": "code",
   "execution_count": 61,
   "metadata": {
    "collapsed": true
   },
   "outputs": [],
   "source": [
    "lena=scipy.misc.face()"
   ]
  },
  {
   "cell_type": "code",
   "execution_count": 67,
   "metadata": {},
   "outputs": [
    {
     "ename": "IndexError",
     "evalue": "shape mismatch: indexing arrays could not be broadcast together with shapes (768,) (1024,) ",
     "output_type": "error",
     "traceback": [
      "\u001b[1;31m---------------------------------------------------------------------------\u001b[0m",
      "\u001b[1;31mIndexError\u001b[0m                                Traceback (most recent call last)",
      "\u001b[1;32m<ipython-input-67-384ee0cf614b>\u001b[0m in \u001b[0;36m<module>\u001b[1;34m()\u001b[0m\n\u001b[1;32m----> 1\u001b[1;33m \u001b[0mlena\u001b[0m\u001b[1;33m[\u001b[0m\u001b[0mrange\u001b[0m\u001b[1;33m(\u001b[0m\u001b[0mlena\u001b[0m\u001b[1;33m.\u001b[0m\u001b[0mshape\u001b[0m\u001b[1;33m[\u001b[0m\u001b[1;36m0\u001b[0m\u001b[1;33m]\u001b[0m\u001b[1;33m)\u001b[0m\u001b[1;33m,\u001b[0m\u001b[0mrange\u001b[0m\u001b[1;33m(\u001b[0m\u001b[0mlena\u001b[0m\u001b[1;33m.\u001b[0m\u001b[0mshape\u001b[0m\u001b[1;33m[\u001b[0m\u001b[1;36m1\u001b[0m\u001b[1;33m]\u001b[0m\u001b[1;33m)\u001b[0m\u001b[1;33m]\u001b[0m\u001b[1;33m=\u001b[0m\u001b[1;36m0\u001b[0m\u001b[1;33m\u001b[0m\u001b[0m\n\u001b[0m",
      "\u001b[1;31mIndexError\u001b[0m: shape mismatch: indexing arrays could not be broadcast together with shapes (768,) (1024,) "
     ]
    }
   ],
   "source": [
    "lena[range(lena.shape[0]),range(lena.shape[1])]=0"
   ]
  },
  {
   "cell_type": "code",
   "execution_count": 68,
   "metadata": {},
   "outputs": [
    {
     "data": {
      "text/plain": [
       "[767,\n",
       " 766,\n",
       " 765,\n",
       " 764,\n",
       " 763,\n",
       " 762,\n",
       " 761,\n",
       " 760,\n",
       " 759,\n",
       " 758,\n",
       " 757,\n",
       " 756,\n",
       " 755,\n",
       " 754,\n",
       " 753,\n",
       " 752,\n",
       " 751,\n",
       " 750,\n",
       " 749,\n",
       " 748,\n",
       " 747,\n",
       " 746,\n",
       " 745,\n",
       " 744,\n",
       " 743,\n",
       " 742,\n",
       " 741,\n",
       " 740,\n",
       " 739,\n",
       " 738,\n",
       " 737,\n",
       " 736,\n",
       " 735,\n",
       " 734,\n",
       " 733,\n",
       " 732,\n",
       " 731,\n",
       " 730,\n",
       " 729,\n",
       " 728,\n",
       " 727,\n",
       " 726,\n",
       " 725,\n",
       " 724,\n",
       " 723,\n",
       " 722,\n",
       " 721,\n",
       " 720,\n",
       " 719,\n",
       " 718,\n",
       " 717,\n",
       " 716,\n",
       " 715,\n",
       " 714,\n",
       " 713,\n",
       " 712,\n",
       " 711,\n",
       " 710,\n",
       " 709,\n",
       " 708,\n",
       " 707,\n",
       " 706,\n",
       " 705,\n",
       " 704,\n",
       " 703,\n",
       " 702,\n",
       " 701,\n",
       " 700,\n",
       " 699,\n",
       " 698,\n",
       " 697,\n",
       " 696,\n",
       " 695,\n",
       " 694,\n",
       " 693,\n",
       " 692,\n",
       " 691,\n",
       " 690,\n",
       " 689,\n",
       " 688,\n",
       " 687,\n",
       " 686,\n",
       " 685,\n",
       " 684,\n",
       " 683,\n",
       " 682,\n",
       " 681,\n",
       " 680,\n",
       " 679,\n",
       " 678,\n",
       " 677,\n",
       " 676,\n",
       " 675,\n",
       " 674,\n",
       " 673,\n",
       " 672,\n",
       " 671,\n",
       " 670,\n",
       " 669,\n",
       " 668,\n",
       " 667,\n",
       " 666,\n",
       " 665,\n",
       " 664,\n",
       " 663,\n",
       " 662,\n",
       " 661,\n",
       " 660,\n",
       " 659,\n",
       " 658,\n",
       " 657,\n",
       " 656,\n",
       " 655,\n",
       " 654,\n",
       " 653,\n",
       " 652,\n",
       " 651,\n",
       " 650,\n",
       " 649,\n",
       " 648,\n",
       " 647,\n",
       " 646,\n",
       " 645,\n",
       " 644,\n",
       " 643,\n",
       " 642,\n",
       " 641,\n",
       " 640,\n",
       " 639,\n",
       " 638,\n",
       " 637,\n",
       " 636,\n",
       " 635,\n",
       " 634,\n",
       " 633,\n",
       " 632,\n",
       " 631,\n",
       " 630,\n",
       " 629,\n",
       " 628,\n",
       " 627,\n",
       " 626,\n",
       " 625,\n",
       " 624,\n",
       " 623,\n",
       " 622,\n",
       " 621,\n",
       " 620,\n",
       " 619,\n",
       " 618,\n",
       " 617,\n",
       " 616,\n",
       " 615,\n",
       " 614,\n",
       " 613,\n",
       " 612,\n",
       " 611,\n",
       " 610,\n",
       " 609,\n",
       " 608,\n",
       " 607,\n",
       " 606,\n",
       " 605,\n",
       " 604,\n",
       " 603,\n",
       " 602,\n",
       " 601,\n",
       " 600,\n",
       " 599,\n",
       " 598,\n",
       " 597,\n",
       " 596,\n",
       " 595,\n",
       " 594,\n",
       " 593,\n",
       " 592,\n",
       " 591,\n",
       " 590,\n",
       " 589,\n",
       " 588,\n",
       " 587,\n",
       " 586,\n",
       " 585,\n",
       " 584,\n",
       " 583,\n",
       " 582,\n",
       " 581,\n",
       " 580,\n",
       " 579,\n",
       " 578,\n",
       " 577,\n",
       " 576,\n",
       " 575,\n",
       " 574,\n",
       " 573,\n",
       " 572,\n",
       " 571,\n",
       " 570,\n",
       " 569,\n",
       " 568,\n",
       " 567,\n",
       " 566,\n",
       " 565,\n",
       " 564,\n",
       " 563,\n",
       " 562,\n",
       " 561,\n",
       " 560,\n",
       " 559,\n",
       " 558,\n",
       " 557,\n",
       " 556,\n",
       " 555,\n",
       " 554,\n",
       " 553,\n",
       " 552,\n",
       " 551,\n",
       " 550,\n",
       " 549,\n",
       " 548,\n",
       " 547,\n",
       " 546,\n",
       " 545,\n",
       " 544,\n",
       " 543,\n",
       " 542,\n",
       " 541,\n",
       " 540,\n",
       " 539,\n",
       " 538,\n",
       " 537,\n",
       " 536,\n",
       " 535,\n",
       " 534,\n",
       " 533,\n",
       " 532,\n",
       " 531,\n",
       " 530,\n",
       " 529,\n",
       " 528,\n",
       " 527,\n",
       " 526,\n",
       " 525,\n",
       " 524,\n",
       " 523,\n",
       " 522,\n",
       " 521,\n",
       " 520,\n",
       " 519,\n",
       " 518,\n",
       " 517,\n",
       " 516,\n",
       " 515,\n",
       " 514,\n",
       " 513,\n",
       " 512,\n",
       " 511,\n",
       " 510,\n",
       " 509,\n",
       " 508,\n",
       " 507,\n",
       " 506,\n",
       " 505,\n",
       " 504,\n",
       " 503,\n",
       " 502,\n",
       " 501,\n",
       " 500,\n",
       " 499,\n",
       " 498,\n",
       " 497,\n",
       " 496,\n",
       " 495,\n",
       " 494,\n",
       " 493,\n",
       " 492,\n",
       " 491,\n",
       " 490,\n",
       " 489,\n",
       " 488,\n",
       " 487,\n",
       " 486,\n",
       " 485,\n",
       " 484,\n",
       " 483,\n",
       " 482,\n",
       " 481,\n",
       " 480,\n",
       " 479,\n",
       " 478,\n",
       " 477,\n",
       " 476,\n",
       " 475,\n",
       " 474,\n",
       " 473,\n",
       " 472,\n",
       " 471,\n",
       " 470,\n",
       " 469,\n",
       " 468,\n",
       " 467,\n",
       " 466,\n",
       " 465,\n",
       " 464,\n",
       " 463,\n",
       " 462,\n",
       " 461,\n",
       " 460,\n",
       " 459,\n",
       " 458,\n",
       " 457,\n",
       " 456,\n",
       " 455,\n",
       " 454,\n",
       " 453,\n",
       " 452,\n",
       " 451,\n",
       " 450,\n",
       " 449,\n",
       " 448,\n",
       " 447,\n",
       " 446,\n",
       " 445,\n",
       " 444,\n",
       " 443,\n",
       " 442,\n",
       " 441,\n",
       " 440,\n",
       " 439,\n",
       " 438,\n",
       " 437,\n",
       " 436,\n",
       " 435,\n",
       " 434,\n",
       " 433,\n",
       " 432,\n",
       " 431,\n",
       " 430,\n",
       " 429,\n",
       " 428,\n",
       " 427,\n",
       " 426,\n",
       " 425,\n",
       " 424,\n",
       " 423,\n",
       " 422,\n",
       " 421,\n",
       " 420,\n",
       " 419,\n",
       " 418,\n",
       " 417,\n",
       " 416,\n",
       " 415,\n",
       " 414,\n",
       " 413,\n",
       " 412,\n",
       " 411,\n",
       " 410,\n",
       " 409,\n",
       " 408,\n",
       " 407,\n",
       " 406,\n",
       " 405,\n",
       " 404,\n",
       " 403,\n",
       " 402,\n",
       " 401,\n",
       " 400,\n",
       " 399,\n",
       " 398,\n",
       " 397,\n",
       " 396,\n",
       " 395,\n",
       " 394,\n",
       " 393,\n",
       " 392,\n",
       " 391,\n",
       " 390,\n",
       " 389,\n",
       " 388,\n",
       " 387,\n",
       " 386,\n",
       " 385,\n",
       " 384,\n",
       " 383,\n",
       " 382,\n",
       " 381,\n",
       " 380,\n",
       " 379,\n",
       " 378,\n",
       " 377,\n",
       " 376,\n",
       " 375,\n",
       " 374,\n",
       " 373,\n",
       " 372,\n",
       " 371,\n",
       " 370,\n",
       " 369,\n",
       " 368,\n",
       " 367,\n",
       " 366,\n",
       " 365,\n",
       " 364,\n",
       " 363,\n",
       " 362,\n",
       " 361,\n",
       " 360,\n",
       " 359,\n",
       " 358,\n",
       " 357,\n",
       " 356,\n",
       " 355,\n",
       " 354,\n",
       " 353,\n",
       " 352,\n",
       " 351,\n",
       " 350,\n",
       " 349,\n",
       " 348,\n",
       " 347,\n",
       " 346,\n",
       " 345,\n",
       " 344,\n",
       " 343,\n",
       " 342,\n",
       " 341,\n",
       " 340,\n",
       " 339,\n",
       " 338,\n",
       " 337,\n",
       " 336,\n",
       " 335,\n",
       " 334,\n",
       " 333,\n",
       " 332,\n",
       " 331,\n",
       " 330,\n",
       " 329,\n",
       " 328,\n",
       " 327,\n",
       " 326,\n",
       " 325,\n",
       " 324,\n",
       " 323,\n",
       " 322,\n",
       " 321,\n",
       " 320,\n",
       " 319,\n",
       " 318,\n",
       " 317,\n",
       " 316,\n",
       " 315,\n",
       " 314,\n",
       " 313,\n",
       " 312,\n",
       " 311,\n",
       " 310,\n",
       " 309,\n",
       " 308,\n",
       " 307,\n",
       " 306,\n",
       " 305,\n",
       " 304,\n",
       " 303,\n",
       " 302,\n",
       " 301,\n",
       " 300,\n",
       " 299,\n",
       " 298,\n",
       " 297,\n",
       " 296,\n",
       " 295,\n",
       " 294,\n",
       " 293,\n",
       " 292,\n",
       " 291,\n",
       " 290,\n",
       " 289,\n",
       " 288,\n",
       " 287,\n",
       " 286,\n",
       " 285,\n",
       " 284,\n",
       " 283,\n",
       " 282,\n",
       " 281,\n",
       " 280,\n",
       " 279,\n",
       " 278,\n",
       " 277,\n",
       " 276,\n",
       " 275,\n",
       " 274,\n",
       " 273,\n",
       " 272,\n",
       " 271,\n",
       " 270,\n",
       " 269,\n",
       " 268,\n",
       " 267,\n",
       " 266,\n",
       " 265,\n",
       " 264,\n",
       " 263,\n",
       " 262,\n",
       " 261,\n",
       " 260,\n",
       " 259,\n",
       " 258,\n",
       " 257,\n",
       " 256,\n",
       " 255,\n",
       " 254,\n",
       " 253,\n",
       " 252,\n",
       " 251,\n",
       " 250,\n",
       " 249,\n",
       " 248,\n",
       " 247,\n",
       " 246,\n",
       " 245,\n",
       " 244,\n",
       " 243,\n",
       " 242,\n",
       " 241,\n",
       " 240,\n",
       " 239,\n",
       " 238,\n",
       " 237,\n",
       " 236,\n",
       " 235,\n",
       " 234,\n",
       " 233,\n",
       " 232,\n",
       " 231,\n",
       " 230,\n",
       " 229,\n",
       " 228,\n",
       " 227,\n",
       " 226,\n",
       " 225,\n",
       " 224,\n",
       " 223,\n",
       " 222,\n",
       " 221,\n",
       " 220,\n",
       " 219,\n",
       " 218,\n",
       " 217,\n",
       " 216,\n",
       " 215,\n",
       " 214,\n",
       " 213,\n",
       " 212,\n",
       " 211,\n",
       " 210,\n",
       " 209,\n",
       " 208,\n",
       " 207,\n",
       " 206,\n",
       " 205,\n",
       " 204,\n",
       " 203,\n",
       " 202,\n",
       " 201,\n",
       " 200,\n",
       " 199,\n",
       " 198,\n",
       " 197,\n",
       " 196,\n",
       " 195,\n",
       " 194,\n",
       " 193,\n",
       " 192,\n",
       " 191,\n",
       " 190,\n",
       " 189,\n",
       " 188,\n",
       " 187,\n",
       " 186,\n",
       " 185,\n",
       " 184,\n",
       " 183,\n",
       " 182,\n",
       " 181,\n",
       " 180,\n",
       " 179,\n",
       " 178,\n",
       " 177,\n",
       " 176,\n",
       " 175,\n",
       " 174,\n",
       " 173,\n",
       " 172,\n",
       " 171,\n",
       " 170,\n",
       " 169,\n",
       " 168,\n",
       " 167,\n",
       " 166,\n",
       " 165,\n",
       " 164,\n",
       " 163,\n",
       " 162,\n",
       " 161,\n",
       " 160,\n",
       " 159,\n",
       " 158,\n",
       " 157,\n",
       " 156,\n",
       " 155,\n",
       " 154,\n",
       " 153,\n",
       " 152,\n",
       " 151,\n",
       " 150,\n",
       " 149,\n",
       " 148,\n",
       " 147,\n",
       " 146,\n",
       " 145,\n",
       " 144,\n",
       " 143,\n",
       " 142,\n",
       " 141,\n",
       " 140,\n",
       " 139,\n",
       " 138,\n",
       " 137,\n",
       " 136,\n",
       " 135,\n",
       " 134,\n",
       " 133,\n",
       " 132,\n",
       " 131,\n",
       " 130,\n",
       " 129,\n",
       " 128,\n",
       " 127,\n",
       " 126,\n",
       " 125,\n",
       " 124,\n",
       " 123,\n",
       " 122,\n",
       " 121,\n",
       " 120,\n",
       " 119,\n",
       " 118,\n",
       " 117,\n",
       " 116,\n",
       " 115,\n",
       " 114,\n",
       " 113,\n",
       " 112,\n",
       " 111,\n",
       " 110,\n",
       " 109,\n",
       " 108,\n",
       " 107,\n",
       " 106,\n",
       " 105,\n",
       " 104,\n",
       " 103,\n",
       " 102,\n",
       " 101,\n",
       " 100,\n",
       " 99,\n",
       " 98,\n",
       " 97,\n",
       " 96,\n",
       " 95,\n",
       " 94,\n",
       " 93,\n",
       " 92,\n",
       " 91,\n",
       " 90,\n",
       " 89,\n",
       " 88,\n",
       " 87,\n",
       " 86,\n",
       " 85,\n",
       " 84,\n",
       " 83,\n",
       " 82,\n",
       " 81,\n",
       " 80,\n",
       " 79,\n",
       " 78,\n",
       " 77,\n",
       " 76,\n",
       " 75,\n",
       " 74,\n",
       " 73,\n",
       " 72,\n",
       " 71,\n",
       " 70,\n",
       " 69,\n",
       " 68,\n",
       " 67,\n",
       " 66,\n",
       " 65,\n",
       " 64,\n",
       " 63,\n",
       " 62,\n",
       " 61,\n",
       " 60,\n",
       " 59,\n",
       " 58,\n",
       " 57,\n",
       " 56,\n",
       " 55,\n",
       " 54,\n",
       " 53,\n",
       " 52,\n",
       " 51,\n",
       " 50,\n",
       " 49,\n",
       " 48,\n",
       " 47,\n",
       " 46,\n",
       " 45,\n",
       " 44,\n",
       " 43,\n",
       " 42,\n",
       " 41,\n",
       " 40,\n",
       " 39,\n",
       " 38,\n",
       " 37,\n",
       " 36,\n",
       " 35,\n",
       " 34,\n",
       " 33,\n",
       " 32,\n",
       " 31,\n",
       " 30,\n",
       " 29,\n",
       " 28,\n",
       " 27,\n",
       " 26,\n",
       " 25,\n",
       " 24,\n",
       " 23,\n",
       " 22,\n",
       " 21,\n",
       " 20,\n",
       " 19,\n",
       " 18,\n",
       " 17,\n",
       " 16,\n",
       " 15,\n",
       " 14,\n",
       " 13,\n",
       " 12,\n",
       " 11,\n",
       " 10,\n",
       " 9,\n",
       " 8,\n",
       " 7,\n",
       " 6,\n",
       " 5,\n",
       " 4,\n",
       " 3,\n",
       " 2,\n",
       " 1,\n",
       " 0]"
      ]
     },
     "execution_count": 68,
     "metadata": {},
     "output_type": "execute_result"
    }
   ],
   "source": [
    "range(lena.shape[0]-1,-1,-1)"
   ]
  },
  {
   "cell_type": "code",
   "execution_count": 69,
   "metadata": {},
   "outputs": [
    {
     "data": {
      "text/plain": [
       "[0, 1, 2, 3, 4]"
      ]
     },
     "execution_count": 69,
     "metadata": {},
     "output_type": "execute_result"
    }
   ],
   "source": [
    "range(5)"
   ]
  },
  {
   "cell_type": "code",
   "execution_count": 72,
   "metadata": {},
   "outputs": [
    {
     "data": {
      "text/plain": [
       "[5, 4, 3, 2, 1]"
      ]
     },
     "execution_count": 72,
     "metadata": {},
     "output_type": "execute_result"
    }
   ],
   "source": [
    "range(5,0,-1)"
   ]
  },
  {
   "cell_type": "code",
   "execution_count": null,
   "metadata": {
    "collapsed": true
   },
   "outputs": [],
   "source": [
    "data=np.loadtxt('Python_Data_Analysis/PythonDataAnalysis_Code/3358OS_03_Code/3358OS_03_Code/mdrtb_2012.csv',delimiter=',', usecols=(1,),\n",
    "skiprows=1, unpack=True)"
   ]
  },
  {
   "cell_type": "code",
   "execution_count": 77,
   "metadata": {},
   "outputs": [
    {
     "data": {
      "text/plain": [
       "array([ 0.8430082 ,  0.49177656,  0.50344287,  0.92794963,  0.4220606 ,\n",
       "        0.09031547,  0.60921466,  0.16144923,  0.66976435,  0.99214234,\n",
       "        0.45536447,  0.4330078 ,  0.07685206,  0.43476194,  0.05643287,\n",
       "        0.33096168,  0.97395729,  0.55763637,  0.09207681,  0.45635405])"
      ]
     },
     "execution_count": 77,
     "metadata": {},
     "output_type": "execute_result"
    }
   ],
   "source": [
    "np.random.rand(20)"
   ]
  },
  {
   "cell_type": "code",
   "execution_count": 83,
   "metadata": {},
   "outputs": [
    {
     "data": {
      "text/plain": [
       "array([ 9,  8,  1,  9,  3, 12, 14,  1,  8,  0, 15,  7,  2, 15,  3, 18, 11,\n",
       "       17, 12, 18,  1, 19, 17,  4,  1, 16, 12,  1,  6, 16, 17, 11, 16, 18,\n",
       "        3, 12,  1,  7, 19,  2,  3, 16, 17,  0,  2,  4,  7, 12,  6,  1,  3,\n",
       "       15,  9,  2, 11, 14, 15,  6, 19,  3, 10, 19,  5,  8, 16,  0,  4, 11,\n",
       "       11, 16, 11, 10, 13,  3,  6, 16, 14,  6, 17, 19,  0,  4, 14, 13, 17,\n",
       "        3, 17, 13, 11,  4, 14,  5, 19,  6,  8,  1, 12, 14,  4, 12])"
      ]
     },
     "execution_count": 83,
     "metadata": {},
     "output_type": "execute_result"
    }
   ],
   "source": [
    "a=np.random.randint(0,20,100\n",
    "                 )\n",
    "a"
   ]
  },
  {
   "cell_type": "code",
   "execution_count": 86,
   "metadata": {},
   "outputs": [
    {
     "data": {
      "text/plain": [
       "(19, 0, 9.5299999999999994, 6.0107487054442732, 36.129100000000001)"
      ]
     },
     "execution_count": 86,
     "metadata": {},
     "output_type": "execute_result"
    }
   ],
   "source": [
    "a.max(),a.min(),a.mean(),a.std(), a.var()"
   ]
  },
  {
   "cell_type": "code",
   "execution_count": null,
   "metadata": {
    "collapsed": true
   },
   "outputs": [],
   "source": [
    "a.median(), ,a.percentile()"
   ]
  },
  {
   "cell_type": "code",
   "execution_count": 87,
   "metadata": {},
   "outputs": [
    {
     "data": {
      "text/plain": [
       "10.5"
      ]
     },
     "execution_count": 87,
     "metadata": {},
     "output_type": "execute_result"
    }
   ],
   "source": [
    "np.median(a)"
   ]
  },
  {
   "cell_type": "code",
   "execution_count": 89,
   "metadata": {},
   "outputs": [
    {
     "data": {
      "text/plain": [
       "15.0"
      ]
     },
     "execution_count": 89,
     "metadata": {},
     "output_type": "execute_result"
    }
   ],
   "source": [
    "np.percentile(a,75)"
   ]
  },
  {
   "cell_type": "markdown",
   "metadata": {},
   "source": [
    "### 3.3"
   ]
  },
  {
   "cell_type": "code",
   "execution_count": 2,
   "metadata": {},
   "outputs": [
    {
     "data": {
      "text/plain": [
       "array([[ 1.,  1.,  1.],\n",
       "       [ 1.,  1.,  1.],\n",
       "       [ 1.,  1.,  1.]])"
      ]
     },
     "execution_count": 2,
     "metadata": {},
     "output_type": "execute_result"
    }
   ],
   "source": [
    "a=np.ones((3,3))\n",
    "a"
   ]
  },
  {
   "cell_type": "code",
   "execution_count": 6,
   "metadata": {
    "collapsed": true
   },
   "outputs": [],
   "source": [
    "a=np.matrix(a)"
   ]
  },
  {
   "cell_type": "code",
   "execution_count": 7,
   "metadata": {},
   "outputs": [
    {
     "data": {
      "text/plain": [
       "matrix([[  2.,   4.,   6.],\n",
       "        [  4.,   2.,   6.],\n",
       "        [ 10.,  -4.,  18.]])"
      ]
     },
     "execution_count": 7,
     "metadata": {},
     "output_type": "execute_result"
    }
   ],
   "source": [
    "\n",
    "a[0,]=[2,4,6]\n",
    "a[1,:]=[4,2,6]\n",
    "a[2,:]=[10,-4,18]\n",
    "a"
   ]
  },
  {
   "cell_type": "code",
   "execution_count": 8,
   "metadata": {},
   "outputs": [
    {
     "data": {
      "text/plain": [
       "matrix([[-0.41666667,  0.66666667, -0.08333333],\n",
       "        [ 0.08333333,  0.16666667, -0.08333333],\n",
       "        [ 0.25      , -0.33333333,  0.08333333]])"
      ]
     },
     "execution_count": 8,
     "metadata": {},
     "output_type": "execute_result"
    }
   ],
   "source": [
    "b=np.linalg.inv(a)\n",
    "b"
   ]
  },
  {
   "cell_type": "code",
   "execution_count": 9,
   "metadata": {},
   "outputs": [
    {
     "data": {
      "text/plain": [
       "matrix([[  1.00000000e+00,  -2.22044605e-16,   0.00000000e+00],\n",
       "        [  5.55111512e-17,   1.00000000e+00,   0.00000000e+00],\n",
       "        [  3.88578059e-16,  -4.44089210e-16,   1.00000000e+00]])"
      ]
     },
     "execution_count": 9,
     "metadata": {},
     "output_type": "execute_result"
    }
   ],
   "source": [
    "np.dot(a,b)"
   ]
  },
  {
   "cell_type": "code",
   "execution_count": 10,
   "metadata": {},
   "outputs": [
    {
     "data": {
      "text/plain": [
       "matrix([[  1.00000000e+00,  -2.22044605e-16,   0.00000000e+00],\n",
       "        [  5.55111512e-17,   1.00000000e+00,   0.00000000e+00],\n",
       "        [  3.88578059e-16,  -4.44089210e-16,   1.00000000e+00]])"
      ]
     },
     "execution_count": 10,
     "metadata": {},
     "output_type": "execute_result"
    }
   ],
   "source": [
    "a*b"
   ]
  },
  {
   "cell_type": "code",
   "execution_count": 11,
   "metadata": {},
   "outputs": [
    {
     "data": {
      "text/plain": [
       "array([[ 2,  4,  5],\n",
       "       [ 4,  2,  6],\n",
       "       [10, -4, 18]])"
      ]
     },
     "execution_count": 11,
     "metadata": {},
     "output_type": "execute_result"
    }
   ],
   "source": [
    "np.array([[2,4,5],[4,2,6],[10,-4,18]])"
   ]
  },
  {
   "cell_type": "code",
   "execution_count": 12,
   "metadata": {},
   "outputs": [
    {
     "data": {
      "text/plain": [
       "array([[ 1.,  0.,  0.],\n",
       "       [ 0.,  1.,  0.],\n",
       "       [ 0.,  0.,  1.]])"
      ]
     },
     "execution_count": 12,
     "metadata": {},
     "output_type": "execute_result"
    }
   ],
   "source": [
    "np.eye(3)"
   ]
  },
  {
   "cell_type": "code",
   "execution_count": 13,
   "metadata": {},
   "outputs": [
    {
     "data": {
      "text/plain": [
       "matrix([[  0.00000000e+00,  -2.22044605e-16,   0.00000000e+00],\n",
       "        [  5.55111512e-17,  -4.44089210e-16,   0.00000000e+00],\n",
       "        [  3.88578059e-16,  -4.44089210e-16,   0.00000000e+00]])"
      ]
     },
     "execution_count": 13,
     "metadata": {},
     "output_type": "execute_result"
    }
   ],
   "source": [
    "a*b-np.eye(3)"
   ]
  },
  {
   "cell_type": "code",
   "execution_count": 15,
   "metadata": {
    "collapsed": true
   },
   "outputs": [],
   "source": [
    "c=np.dot(a,b)"
   ]
  },
  {
   "cell_type": "code",
   "execution_count": 16,
   "metadata": {},
   "outputs": [
    {
     "data": {
      "text/plain": [
       "matrix([[-0.41666667,  0.66666667, -0.08333333],\n",
       "        [ 0.08333333,  0.16666667, -0.08333333],\n",
       "        [ 0.25      , -0.33333333,  0.08333333]])"
      ]
     },
     "execution_count": 16,
     "metadata": {},
     "output_type": "execute_result"
    }
   ],
   "source": [
    "np.linalg.solve(a,c)"
   ]
  },
  {
   "cell_type": "code",
   "execution_count": 17,
   "metadata": {},
   "outputs": [
    {
     "data": {
      "text/plain": [
       "matrix([[  2.,   4.,   6.],\n",
       "        [  4.,   2.,   6.],\n",
       "        [ 10.,  -4.,  18.]])"
      ]
     },
     "execution_count": 17,
     "metadata": {},
     "output_type": "execute_result"
    }
   ],
   "source": [
    "a"
   ]
  },
  {
   "cell_type": "code",
   "execution_count": 18,
   "metadata": {},
   "outputs": [
    {
     "data": {
      "text/plain": [
       "array([ 20.48528137,  -2.        ,   3.51471863])"
      ]
     },
     "execution_count": 18,
     "metadata": {},
     "output_type": "execute_result"
    }
   ],
   "source": [
    "np.linalg.eigvals(a)"
   ]
  },
  {
   "cell_type": "code",
   "execution_count": 19,
   "metadata": {},
   "outputs": [
    {
     "data": {
      "text/plain": [
       "(array([ 20.48528137,  -2.        ,   3.51471863]),\n",
       " matrix([[-0.35740674, -0.86811473, -0.67859834],\n",
       "         [-0.35740674,  0.16694514, -0.67859834],\n",
       "         [-0.86285621,  0.46744639,  0.28108464]]))"
      ]
     },
     "execution_count": 19,
     "metadata": {},
     "output_type": "execute_result"
    }
   ],
   "source": [
    "eigenvalues, eigenvectors=np.linalg.eig(a)\n",
    "eigenvalues, eigenvectors"
   ]
  },
  {
   "cell_type": "code",
   "execution_count": 27,
   "metadata": {},
   "outputs": [
    {
     "data": {
      "text/plain": [
       "matrix([[ -9.63946102, -16.47452229, -11.55614793]])"
      ]
     },
     "execution_count": 27,
     "metadata": {},
     "output_type": "execute_result"
    }
   ],
   "source": [
    "eigenvalues * eigenvectors"
   ]
  },
  {
   "cell_type": "code",
   "execution_count": 21,
   "metadata": {},
   "outputs": [
    {
     "data": {
      "text/plain": [
       "matrix([[ -7.32157772,   1.73622946,  -2.38508224],\n",
       "        [ -7.32157772,  -0.33389028,  -2.38508224],\n",
       "        [-17.67585224,  -0.93489279,   0.98793341]])"
      ]
     },
     "execution_count": 21,
     "metadata": {},
     "output_type": "execute_result"
    }
   ],
   "source": [
    "np.dot(a,eigenvectors)"
   ]
  },
  {
   "cell_type": "code",
   "execution_count": 25,
   "metadata": {},
   "outputs": [
    {
     "name": "stdout",
     "output_type": "stream",
     "text": [
      "('Left', matrix([[ -7.32157772],\n",
      "        [ -7.32157772],\n",
      "        [-17.67585224]]))\n",
      "('Right', matrix([[ -7.32157772],\n",
      "        [ -7.32157772],\n",
      "        [-17.67585224]]))\n",
      "\n",
      "('Left', matrix([[ 1.73622946],\n",
      "        [-0.33389028],\n",
      "        [-0.93489279]]))\n",
      "('Right', matrix([[ 1.73622946],\n",
      "        [-0.33389028],\n",
      "        [-0.93489279]]))\n",
      "\n",
      "('Left', matrix([[-2.38508224],\n",
      "        [-2.38508224],\n",
      "        [ 0.98793341]]))\n",
      "('Right', matrix([[-2.38508224],\n",
      "        [-2.38508224],\n",
      "        [ 0.98793341]]))\n",
      "\n"
     ]
    }
   ],
   "source": [
    "for i in range(len(eigenvalues)):\n",
    "    print (\"Left\", np.dot(a, eigenvectors[:,i]))\n",
    "    print (\"Right\", eigenvalues[i] * eigenvectors[:,i])\n",
    "    print\n"
   ]
  },
  {
   "cell_type": "code",
   "execution_count": 36,
   "metadata": {},
   "outputs": [
    {
     "data": {
      "text/plain": [
       "array([3, 3, 8, 5, 2, 4, 4, 5, 6, 7])"
      ]
     },
     "execution_count": 36,
     "metadata": {},
     "output_type": "execute_result"
    }
   ],
   "source": [
    "np.random.binomial(9, 0.5, size=10)"
   ]
  },
  {
   "cell_type": "code",
   "execution_count": 35,
   "metadata": {},
   "outputs": [
    {
     "data": {
      "text/plain": [
       "9"
      ]
     },
     "execution_count": 35,
     "metadata": {},
     "output_type": "execute_result"
    }
   ],
   "source": [
    "a.max()"
   ]
  },
  {
   "cell_type": "code",
   "execution_count": 43,
   "metadata": {},
   "outputs": [
    {
     "data": {
      "text/plain": [
       "100.0"
      ]
     },
     "execution_count": 43,
     "metadata": {},
     "output_type": "execute_result"
    }
   ],
   "source": [
    "plt.hist()"
   ]
  },
  {
   "cell_type": "code",
   "execution_count": 48,
   "metadata": {},
   "outputs": [
    {
     "data": {
      "image/png": "[encoded data removed]",
      "text/plain": [
       "<matplotlib.figure.Figure at 0x9b66cc0>"
      ]
     },
     "metadata": {},
     "output_type": "display_data"
    }
   ],
   "source": [
    "import numpy as np\n",
    "import matplotlib.pyplot as plt\n",
    "N=10000\n",
    "normal_values = np.random.normal(size=N)\n",
    "dummy, bins, dummy = plt.hist(normal_values, int(np.sqrt(N)), normed=True,\n",
    "lw=1)\n",
    "sigma = 1\n",
    "mu = 0\n",
    "plt.plot(bins, 1/(sigma * np.sqrt(2 * np.pi)) * np.exp( - (bins -mu)**2 / (2 * sigma**2) ),lw=2)\n",
    "plt.show()"
   ]
  },
  {
   "cell_type": "code",
   "execution_count": 55,
   "metadata": {
    "collapsed": true
   },
   "outputs": [],
   "source": [
    "import scipy"
   ]
  },
  {
   "cell_type": "markdown",
   "metadata": {},
   "source": [
    "#### chap 4"
   ]
  },
  {
   "cell_type": "code",
   "execution_count": 2,
   "metadata": {},
   "outputs": [
    {
     "name": "stderr",
     "output_type": "stream",
     "text": [
      "C:\\Users\\Lei Lei\\Anaconda2\\lib\\site-packages\\ipykernel_launcher.py:14: DeprecationWarning: This function is deprecated. Please call randint(1, 9 + 1) instead\n",
      "  \n"
     ]
    }
   ],
   "source": [
    "import pandas as pd\n",
    "from numpy.random import seed\n",
    "from numpy.random import rand\n",
    "from numpy.random import random_integers\n",
    "import numpy as np\n",
    "seed(42)\n",
    "N = 7\n",
    "df = pd.DataFrame({\n",
    "'Weather' : ['cold', 'hot', 'cold', 'hot',\n",
    "'cold', 'hot', 'cold'],\n",
    "'Food' : ['soup', 'soup', 'icecream', 'chocolate',\n",
    "'icecream', 'icecream', 'soup'],\n",
    "'Price' : 10 * rand(N), 'Number' : random_integers(1, 9,\n",
    "size=(N,))})"
   ]
  },
  {
   "cell_type": "code",
   "execution_count": 3,
   "metadata": {},
   "outputs": [
    {
     "data": {
      "text/html": [
       "<div>\n",
       "<style>\n",
       "    .dataframe thead tr:only-child th {\n",
       "        text-align: right;\n",
       "    }\n",
       "\n",
       "    .dataframe thead th {\n",
       "        text-align: left;\n",
       "    }\n",
       "\n",
       "    .dataframe tbody tr th {\n",
       "        vertical-align: top;\n",
       "    }\n",
       "</style>\n",
       "<table border=\"1\" class=\"dataframe\">\n",
       "  <thead>\n",
       "    <tr style=\"text-align: right;\">\n",
       "      <th></th>\n",
       "      <th>Food</th>\n",
       "      <th>Number</th>\n",
       "      <th>Price</th>\n",
       "      <th>Weather</th>\n",
       "    </tr>\n",
       "  </thead>\n",
       "  <tbody>\n",
       "    <tr>\n",
       "      <th>0</th>\n",
       "      <td>soup</td>\n",
       "      <td>8</td>\n",
       "      <td>3.745401</td>\n",
       "      <td>cold</td>\n",
       "    </tr>\n",
       "    <tr>\n",
       "      <th>1</th>\n",
       "      <td>soup</td>\n",
       "      <td>5</td>\n",
       "      <td>9.507143</td>\n",
       "      <td>hot</td>\n",
       "    </tr>\n",
       "    <tr>\n",
       "      <th>2</th>\n",
       "      <td>icecream</td>\n",
       "      <td>4</td>\n",
       "      <td>7.319939</td>\n",
       "      <td>cold</td>\n",
       "    </tr>\n",
       "    <tr>\n",
       "      <th>3</th>\n",
       "      <td>chocolate</td>\n",
       "      <td>8</td>\n",
       "      <td>5.986585</td>\n",
       "      <td>hot</td>\n",
       "    </tr>\n",
       "    <tr>\n",
       "      <th>4</th>\n",
       "      <td>icecream</td>\n",
       "      <td>8</td>\n",
       "      <td>1.560186</td>\n",
       "      <td>cold</td>\n",
       "    </tr>\n",
       "    <tr>\n",
       "      <th>5</th>\n",
       "      <td>icecream</td>\n",
       "      <td>3</td>\n",
       "      <td>1.559945</td>\n",
       "      <td>hot</td>\n",
       "    </tr>\n",
       "    <tr>\n",
       "      <th>6</th>\n",
       "      <td>soup</td>\n",
       "      <td>6</td>\n",
       "      <td>0.580836</td>\n",
       "      <td>cold</td>\n",
       "    </tr>\n",
       "  </tbody>\n",
       "</table>\n",
       "</div>"
      ],
      "text/plain": [
       "        Food  Number     Price Weather\n",
       "0       soup       8  3.745401    cold\n",
       "1       soup       5  9.507143     hot\n",
       "2   icecream       4  7.319939    cold\n",
       "3  chocolate       8  5.986585     hot\n",
       "4   icecream       8  1.560186    cold\n",
       "5   icecream       3  1.559945     hot\n",
       "6       soup       6  0.580836    cold"
      ]
     },
     "execution_count": 3,
     "metadata": {},
     "output_type": "execute_result"
    }
   ],
   "source": [
    "df"
   ]
  },
  {
   "cell_type": "code",
   "execution_count": 8,
   "metadata": {},
   "outputs": [
    {
     "data": {
      "text/html": [
       "<div>\n",
       "<style>\n",
       "    .dataframe thead tr:only-child th {\n",
       "        text-align: right;\n",
       "    }\n",
       "\n",
       "    .dataframe thead th {\n",
       "        text-align: left;\n",
       "    }\n",
       "\n",
       "    .dataframe tbody tr th {\n",
       "        vertical-align: top;\n",
       "    }\n",
       "</style>\n",
       "<table border=\"1\" class=\"dataframe\">\n",
       "  <thead>\n",
       "    <tr>\n",
       "      <th></th>\n",
       "      <th colspan=\"2\" halign=\"left\">Number</th>\n",
       "      <th colspan=\"2\" halign=\"left\">Price</th>\n",
       "    </tr>\n",
       "    <tr>\n",
       "      <th>Weather</th>\n",
       "      <th>cold</th>\n",
       "      <th>hot</th>\n",
       "      <th>cold</th>\n",
       "      <th>hot</th>\n",
       "    </tr>\n",
       "    <tr>\n",
       "      <th>Food</th>\n",
       "      <th></th>\n",
       "      <th></th>\n",
       "      <th></th>\n",
       "      <th></th>\n",
       "    </tr>\n",
       "  </thead>\n",
       "  <tbody>\n",
       "    <tr>\n",
       "      <th>chocolate</th>\n",
       "      <td>NaN</td>\n",
       "      <td>8.0</td>\n",
       "      <td>NaN</td>\n",
       "      <td>5.986585</td>\n",
       "    </tr>\n",
       "    <tr>\n",
       "      <th>icecream</th>\n",
       "      <td>12.0</td>\n",
       "      <td>3.0</td>\n",
       "      <td>8.880126</td>\n",
       "      <td>1.559945</td>\n",
       "    </tr>\n",
       "    <tr>\n",
       "      <th>soup</th>\n",
       "      <td>14.0</td>\n",
       "      <td>5.0</td>\n",
       "      <td>4.326237</td>\n",
       "      <td>9.507143</td>\n",
       "    </tr>\n",
       "  </tbody>\n",
       "</table>\n",
       "</div>"
      ],
      "text/plain": [
       "          Number          Price          \n",
       "Weather     cold  hot      cold       hot\n",
       "Food                                     \n",
       "chocolate    NaN  8.0       NaN  5.986585\n",
       "icecream    12.0  3.0  8.880126  1.559945\n",
       "soup        14.0  5.0  4.326237  9.507143"
      ]
     },
     "execution_count": 8,
     "metadata": {},
     "output_type": "execute_result"
    }
   ],
   "source": [
    "df.groupby(['Food','Weather'],as_index=False).sum().pivot('Food','Weather')"
   ]
  },
  {
   "cell_type": "code",
   "execution_count": 10,
   "metadata": {},
   "outputs": [
    {
     "data": {
      "text/html": [
       "<div>\n",
       "<style>\n",
       "    .dataframe thead tr:only-child th {\n",
       "        text-align: right;\n",
       "    }\n",
       "\n",
       "    .dataframe thead th {\n",
       "        text-align: left;\n",
       "    }\n",
       "\n",
       "    .dataframe tbody tr th {\n",
       "        vertical-align: top;\n",
       "    }\n",
       "</style>\n",
       "<table border=\"1\" class=\"dataframe\">\n",
       "  <thead>\n",
       "    <tr style=\"text-align: right;\">\n",
       "      <th>Weather</th>\n",
       "      <th>cold</th>\n",
       "      <th>hot</th>\n",
       "    </tr>\n",
       "    <tr>\n",
       "      <th>Food</th>\n",
       "      <th></th>\n",
       "      <th></th>\n",
       "    </tr>\n",
       "  </thead>\n",
       "  <tbody>\n",
       "    <tr>\n",
       "      <th>chocolate</th>\n",
       "      <td>NaN</td>\n",
       "      <td>5.986585</td>\n",
       "    </tr>\n",
       "    <tr>\n",
       "      <th>icecream</th>\n",
       "      <td>8.880126</td>\n",
       "      <td>1.559945</td>\n",
       "    </tr>\n",
       "    <tr>\n",
       "      <th>soup</th>\n",
       "      <td>4.326237</td>\n",
       "      <td>9.507143</td>\n",
       "    </tr>\n",
       "  </tbody>\n",
       "</table>\n",
       "</div>"
      ],
      "text/plain": [
       "Weather        cold       hot\n",
       "Food                         \n",
       "chocolate       NaN  5.986585\n",
       "icecream   8.880126  1.559945\n",
       "soup       4.326237  9.507143"
      ]
     },
     "execution_count": 10,
     "metadata": {},
     "output_type": "execute_result"
    }
   ],
   "source": [
    "pd.pivot_table(df,index='Food',columns='Weather',aggfunc='sum',values='Price')"
   ]
  },
  {
   "cell_type": "code",
   "execution_count": 13,
   "metadata": {},
   "outputs": [
    {
     "data": {
      "text/plain": [
       "DatetimeIndex(['2017-01-01', '2017-01-02', '2017-01-03', '2017-01-04',\n",
       "               '2017-01-05', '2017-01-06', '2017-01-07', '2017-01-08',\n",
       "               '2017-01-09', '2017-01-10', '2017-01-11', '2017-01-12',\n",
       "               '2017-01-13', '2017-01-14', '2017-01-15', '2017-01-16',\n",
       "               '2017-01-17', '2017-01-18', '2017-01-19', '2017-01-20',\n",
       "               '2017-01-21', '2017-01-22', '2017-01-23', '2017-01-24',\n",
       "               '2017-01-25', '2017-01-26', '2017-01-27', '2017-01-28',\n",
       "               '2017-01-29', '2017-01-30', '2017-01-31', '2017-02-01',\n",
       "               '2017-02-02', '2017-02-03', '2017-02-04', '2017-02-05',\n",
       "               '2017-02-06', '2017-02-07', '2017-02-08', '2017-02-09',\n",
       "               '2017-02-10', '2017-02-11'],\n",
       "              dtype='datetime64[ns]', freq='D')"
      ]
     },
     "execution_count": 13,
     "metadata": {},
     "output_type": "execute_result"
    }
   ],
   "source": [
    "pd.date_range(start='1/1/2017',periods=42,freq='D')"
   ]
  },
  {
   "cell_type": "code",
   "execution_count": 22,
   "metadata": {
    "collapsed": true,
    "scrolled": true
   },
   "outputs": [],
   "source": [
    "mid=pd.to_datetime('1/1/1970')"
   ]
  },
  {
   "cell_type": "code",
   "execution_count": 23,
   "metadata": {
    "collapsed": true
   },
   "outputs": [],
   "source": [
    "offset= pd.DateOffset(seconds=2 ** 63/10 ** 9)"
   ]
  },
  {
   "cell_type": "code",
   "execution_count": 24,
   "metadata": {},
   "outputs": [
    {
     "data": {
      "text/plain": [
       "Timestamp('2262-04-11 23:47:16')"
      ]
     },
     "execution_count": 24,
     "metadata": {},
     "output_type": "execute_result"
    }
   ],
   "source": [
    "mid+offset"
   ]
  },
  {
   "cell_type": "code",
   "execution_count": 31,
   "metadata": {},
   "outputs": [
    {
     "ename": "ValueError",
     "evalue": "time data '1902-11-12' does not match format '%Y%m%d' (match)",
     "output_type": "error",
     "traceback": [
      "\u001b[1;31m---------------------------------------------------------------------------\u001b[0m",
      "\u001b[1;31mValueError\u001b[0m                                Traceback (most recent call last)",
      "\u001b[1;32m<ipython-input-31-061c35ac3fa2>\u001b[0m in \u001b[0;36m<module>\u001b[1;34m()\u001b[0m\n\u001b[1;32m----> 1\u001b[1;33m \u001b[0mpd\u001b[0m\u001b[1;33m.\u001b[0m\u001b[0mto_datetime\u001b[0m\u001b[1;33m(\u001b[0m\u001b[1;33m[\u001b[0m\u001b[1;34m'1902-11-12'\u001b[0m\u001b[1;33m,\u001b[0m\u001b[1;34m'19031230'\u001b[0m\u001b[1;33m]\u001b[0m\u001b[1;33m,\u001b[0m \u001b[0mformat\u001b[0m\u001b[1;33m=\u001b[0m\u001b[1;34m'%Y%m%d'\u001b[0m\u001b[1;33m)\u001b[0m\u001b[1;33m\u001b[0m\u001b[0m\n\u001b[0m",
      "\u001b[1;32mC:\\Users\\Lei Lei\\Anaconda2\\lib\\site-packages\\pandas\\core\\tools\\datetimes.pyc\u001b[0m in \u001b[0;36mto_datetime\u001b[1;34m(arg, errors, dayfirst, yearfirst, utc, box, format, exact, unit, infer_datetime_format, origin)\u001b[0m\n\u001b[0;32m    514\u001b[0m         \u001b[0mresult\u001b[0m \u001b[1;33m=\u001b[0m \u001b[0m_convert_listlike\u001b[0m\u001b[1;33m(\u001b[0m\u001b[0marg\u001b[0m\u001b[1;33m,\u001b[0m \u001b[0mbox\u001b[0m\u001b[1;33m,\u001b[0m \u001b[0mformat\u001b[0m\u001b[1;33m,\u001b[0m \u001b[0mname\u001b[0m\u001b[1;33m=\u001b[0m\u001b[0marg\u001b[0m\u001b[1;33m.\u001b[0m\u001b[0mname\u001b[0m\u001b[1;33m)\u001b[0m\u001b[1;33m\u001b[0m\u001b[0m\n\u001b[0;32m    515\u001b[0m     \u001b[1;32melif\u001b[0m \u001b[0mis_list_like\u001b[0m\u001b[1;33m(\u001b[0m\u001b[0marg\u001b[0m\u001b[1;33m)\u001b[0m\u001b[1;33m:\u001b[0m\u001b[1;33m\u001b[0m\u001b[0m\n\u001b[1;32m--> 516\u001b[1;33m         \u001b[0mresult\u001b[0m \u001b[1;33m=\u001b[0m \u001b[0m_convert_listlike\u001b[0m\u001b[1;33m(\u001b[0m\u001b[0marg\u001b[0m\u001b[1;33m,\u001b[0m \u001b[0mbox\u001b[0m\u001b[1;33m,\u001b[0m \u001b[0mformat\u001b[0m\u001b[1;33m)\u001b[0m\u001b[1;33m\u001b[0m\u001b[0m\n\u001b[0m\u001b[0;32m    517\u001b[0m     \u001b[1;32melse\u001b[0m\u001b[1;33m:\u001b[0m\u001b[1;33m\u001b[0m\u001b[0m\n\u001b[0;32m    518\u001b[0m         \u001b[0mresult\u001b[0m \u001b[1;33m=\u001b[0m \u001b[0m_convert_listlike\u001b[0m\u001b[1;33m(\u001b[0m\u001b[0mnp\u001b[0m\u001b[1;33m.\u001b[0m\u001b[0marray\u001b[0m\u001b[1;33m(\u001b[0m\u001b[1;33m[\u001b[0m\u001b[0marg\u001b[0m\u001b[1;33m]\u001b[0m\u001b[1;33m)\u001b[0m\u001b[1;33m,\u001b[0m \u001b[0mbox\u001b[0m\u001b[1;33m,\u001b[0m \u001b[0mformat\u001b[0m\u001b[1;33m)\u001b[0m\u001b[1;33m[\u001b[0m\u001b[1;36m0\u001b[0m\u001b[1;33m]\u001b[0m\u001b[1;33m\u001b[0m\u001b[0m\n",
      "\u001b[1;32mC:\\Users\\Lei Lei\\Anaconda2\\lib\\site-packages\\pandas\\core\\tools\\datetimes.pyc\u001b[0m in \u001b[0;36m_convert_listlike\u001b[1;34m(arg, box, format, name, tz)\u001b[0m\n\u001b[0;32m    445\u001b[0m                 \u001b[1;32mreturn\u001b[0m \u001b[0mDatetimeIndex\u001b[0m\u001b[1;33m.\u001b[0m\u001b[0m_simple_new\u001b[0m\u001b[1;33m(\u001b[0m\u001b[0mvalues\u001b[0m\u001b[1;33m,\u001b[0m \u001b[0mname\u001b[0m\u001b[1;33m=\u001b[0m\u001b[0mname\u001b[0m\u001b[1;33m,\u001b[0m \u001b[0mtz\u001b[0m\u001b[1;33m=\u001b[0m\u001b[0mtz\u001b[0m\u001b[1;33m)\u001b[0m\u001b[1;33m\u001b[0m\u001b[0m\n\u001b[0;32m    446\u001b[0m             \u001b[1;32mexcept\u001b[0m \u001b[1;33m(\u001b[0m\u001b[0mValueError\u001b[0m\u001b[1;33m,\u001b[0m \u001b[0mTypeError\u001b[0m\u001b[1;33m)\u001b[0m\u001b[1;33m:\u001b[0m\u001b[1;33m\u001b[0m\u001b[0m\n\u001b[1;32m--> 447\u001b[1;33m                 \u001b[1;32mraise\u001b[0m \u001b[0me\u001b[0m\u001b[1;33m\u001b[0m\u001b[0m\n\u001b[0m\u001b[0;32m    448\u001b[0m \u001b[1;33m\u001b[0m\u001b[0m\n\u001b[0;32m    449\u001b[0m     \u001b[1;32mif\u001b[0m \u001b[0marg\u001b[0m \u001b[1;32mis\u001b[0m \u001b[0mNone\u001b[0m\u001b[1;33m:\u001b[0m\u001b[1;33m\u001b[0m\u001b[0m\n",
      "\u001b[1;31mValueError\u001b[0m: time data '1902-11-12' does not match format '%Y%m%d' (match)"
     ]
    }
   ],
   "source": [
    "pd.to_datetime(['1902-11-12','19031230'], format='%Y%m%d')"
   ]
  },
  {
   "cell_type": "code",
   "execution_count": 33,
   "metadata": {},
   "outputs": [
    {
     "ename": "AssertionError",
     "evalue": "",
     "output_type": "error",
     "traceback": [
      "\u001b[1;31m---------------------------------------------------------------------------\u001b[0m",
      "\u001b[1;31mAssertionError\u001b[0m                            Traceback (most recent call last)",
      "\u001b[1;32m<ipython-input-33-a063a2be573f>\u001b[0m in \u001b[0;36m<module>\u001b[1;34m()\u001b[0m\n\u001b[1;32m----> 1\u001b[1;33m \u001b[0mpd\u001b[0m\u001b[1;33m.\u001b[0m\u001b[0mto_datetime\u001b[0m\u001b[1;33m(\u001b[0m\u001b[1;36m1902\u001b[0m\u001b[1;33m,\u001b[0m \u001b[1;36m11\u001b[0m\u001b[1;33m,\u001b[0m \u001b[1;36m12\u001b[0m\u001b[1;33m,\u001b[0m \u001b[1;36m0\u001b[0m\u001b[1;33m,\u001b[0m \u001b[1;36m0\u001b[0m\u001b[1;33m)\u001b[0m\u001b[1;33m\u001b[0m\u001b[0m\n\u001b[0m",
      "\u001b[1;32mC:\\Users\\Lei Lei\\Anaconda2\\lib\\site-packages\\pandas\\core\\tools\\datetimes.pyc\u001b[0m in \u001b[0;36mto_datetime\u001b[1;34m(arg, errors, dayfirst, yearfirst, utc, box, format, exact, unit, infer_datetime_format, origin)\u001b[0m\n\u001b[0;32m    516\u001b[0m         \u001b[0mresult\u001b[0m \u001b[1;33m=\u001b[0m \u001b[0m_convert_listlike\u001b[0m\u001b[1;33m(\u001b[0m\u001b[0marg\u001b[0m\u001b[1;33m,\u001b[0m \u001b[0mbox\u001b[0m\u001b[1;33m,\u001b[0m \u001b[0mformat\u001b[0m\u001b[1;33m)\u001b[0m\u001b[1;33m\u001b[0m\u001b[0m\n\u001b[0;32m    517\u001b[0m     \u001b[1;32melse\u001b[0m\u001b[1;33m:\u001b[0m\u001b[1;33m\u001b[0m\u001b[0m\n\u001b[1;32m--> 518\u001b[1;33m         \u001b[0mresult\u001b[0m \u001b[1;33m=\u001b[0m \u001b[0m_convert_listlike\u001b[0m\u001b[1;33m(\u001b[0m\u001b[0mnp\u001b[0m\u001b[1;33m.\u001b[0m\u001b[0marray\u001b[0m\u001b[1;33m(\u001b[0m\u001b[1;33m[\u001b[0m\u001b[0marg\u001b[0m\u001b[1;33m]\u001b[0m\u001b[1;33m)\u001b[0m\u001b[1;33m,\u001b[0m \u001b[0mbox\u001b[0m\u001b[1;33m,\u001b[0m \u001b[0mformat\u001b[0m\u001b[1;33m)\u001b[0m\u001b[1;33m[\u001b[0m\u001b[1;36m0\u001b[0m\u001b[1;33m]\u001b[0m\u001b[1;33m\u001b[0m\u001b[0m\n\u001b[0m\u001b[0;32m    519\u001b[0m \u001b[1;33m\u001b[0m\u001b[0m\n\u001b[0;32m    520\u001b[0m     \u001b[1;32mreturn\u001b[0m \u001b[0mresult\u001b[0m\u001b[1;33m\u001b[0m\u001b[0m\n",
      "\u001b[1;32mC:\\Users\\Lei Lei\\Anaconda2\\lib\\site-packages\\pandas\\core\\tools\\datetimes.pyc\u001b[0m in \u001b[0;36m_convert_listlike\u001b[1;34m(arg, box, format, name, tz)\u001b[0m\n\u001b[0;32m    433\u001b[0m                     \u001b[0mdayfirst\u001b[0m\u001b[1;33m=\u001b[0m\u001b[0mdayfirst\u001b[0m\u001b[1;33m,\u001b[0m\u001b[1;33m\u001b[0m\u001b[0m\n\u001b[0;32m    434\u001b[0m                     \u001b[0myearfirst\u001b[0m\u001b[1;33m=\u001b[0m\u001b[0myearfirst\u001b[0m\u001b[1;33m,\u001b[0m\u001b[1;33m\u001b[0m\u001b[0m\n\u001b[1;32m--> 435\u001b[1;33m                     \u001b[0mrequire_iso8601\u001b[0m\u001b[1;33m=\u001b[0m\u001b[0mrequire_iso8601\u001b[0m\u001b[1;33m\u001b[0m\u001b[0m\n\u001b[0m\u001b[0;32m    436\u001b[0m                 )\n\u001b[0;32m    437\u001b[0m \u001b[1;33m\u001b[0m\u001b[0m\n",
      "\u001b[1;32mpandas\\_libs\\tslib.pyx\u001b[0m in \u001b[0;36mpandas._libs.tslib.array_to_datetime (pandas\\_libs\\tslib.c:46617)\u001b[1;34m()\u001b[0m\n",
      "\u001b[1;32mpandas\\_libs\\tslib.pyx\u001b[0m in \u001b[0;36mpandas._libs.tslib.array_to_datetime (pandas\\_libs\\tslib.c:42843)\u001b[1;34m()\u001b[0m\n",
      "\u001b[1;31mAssertionError\u001b[0m: "
     ]
    }
   ],
   "source": [
    "pd.to_datetime(1902, 11, 12, 0, 0)"
   ]
  },
  {
   "cell_type": "code",
   "execution_count": 34,
   "metadata": {
    "collapsed": true
   },
   "outputs": [],
   "source": [
    "import datetime"
   ]
  },
  {
   "cell_type": "code",
   "execution_count": 36,
   "metadata": {},
   "outputs": [
    {
     "data": {
      "text/plain": [
       "datetime.datetime(1902, 11, 12, 0, 0)"
      ]
     },
     "execution_count": 36,
     "metadata": {},
     "output_type": "execute_result"
    }
   ],
   "source": [
    "a=datetime.datetime(1902, 11, 12, 0, 0)\n",
    "a"
   ]
  },
  {
   "cell_type": "code",
   "execution_count": 38,
   "metadata": {},
   "outputs": [
    {
     "data": {
      "text/plain": [
       "DatetimeIndex(['1902-11-12'], dtype='datetime64[ns]', freq=None)"
      ]
     },
     "execution_count": 38,
     "metadata": {},
     "output_type": "execute_result"
    }
   ],
   "source": [
    "pd.to_datetime(['1902-11-12'])"
   ]
  },
  {
   "cell_type": "code",
   "execution_count": 39,
   "metadata": {},
   "outputs": [
    {
     "data": {
      "text/plain": [
       "DatetimeIndex(['1900-01-01', '1901-12-11'], dtype='datetime64[ns]', freq=None)"
      ]
     },
     "execution_count": 39,
     "metadata": {},
     "output_type": "execute_result"
    }
   ],
   "source": [
    "pd.to_datetime(['1900/1/1', '1901.12.11'])"
   ]
  },
  {
   "cell_type": "code",
   "execution_count": 40,
   "metadata": {},
   "outputs": [
    {
     "data": {
      "text/plain": [
       "DatetimeIndex(['1902-11-12', '1903-12-30'], dtype='datetime64[ns]', freq=None)"
      ]
     },
     "execution_count": 40,
     "metadata": {},
     "output_type": "execute_result"
    }
   ],
   "source": [
    "pd.to_datetime(['19021112', '19031230'],\n",
    "format='%Y%m%d')"
   ]
  },
  {
   "cell_type": "code",
   "execution_count": 44,
   "metadata": {},
   "outputs": [
    {
     "data": {
      "text/plain": [
       "array([[ 0.49671415, -0.1382643 ,  0.64768854,  1.52302986],\n",
       "       [-0.23415337, -0.23413696,  1.57921282,  0.76743473],\n",
       "       [-0.46947439,  0.54256004,         nan, -0.46572975]])"
      ]
     },
     "execution_count": 44,
     "metadata": {},
     "output_type": "execute_result"
    }
   ],
   "source": [
    "np.random.seed(42)\n",
    "a=np.random.randn(3,4)\n",
    "a[2,2]=np.nan\n",
    "a"
   ]
  },
  {
   "cell_type": "code",
   "execution_count": 46,
   "metadata": {},
   "outputs": [
    {
     "data": {
      "text/html": [
       "<div>\n",
       "<style>\n",
       "    .dataframe thead tr:only-child th {\n",
       "        text-align: right;\n",
       "    }\n",
       "\n",
       "    .dataframe thead th {\n",
       "        text-align: left;\n",
       "    }\n",
       "\n",
       "    .dataframe tbody tr th {\n",
       "        vertical-align: top;\n",
       "    }\n",
       "</style>\n",
       "<table border=\"1\" class=\"dataframe\">\n",
       "  <thead>\n",
       "    <tr style=\"text-align: right;\">\n",
       "      <th></th>\n",
       "      <th>0</th>\n",
       "      <th>1</th>\n",
       "      <th>2</th>\n",
       "      <th>3</th>\n",
       "    </tr>\n",
       "  </thead>\n",
       "  <tbody>\n",
       "    <tr>\n",
       "      <th>0</th>\n",
       "      <td>0.496714</td>\n",
       "      <td>-0.138264</td>\n",
       "      <td>0.647689</td>\n",
       "      <td>1.523030</td>\n",
       "    </tr>\n",
       "    <tr>\n",
       "      <th>1</th>\n",
       "      <td>-0.234153</td>\n",
       "      <td>-0.234137</td>\n",
       "      <td>1.579213</td>\n",
       "      <td>0.767435</td>\n",
       "    </tr>\n",
       "    <tr>\n",
       "      <th>2</th>\n",
       "      <td>-0.469474</td>\n",
       "      <td>0.542560</td>\n",
       "      <td>NaN</td>\n",
       "      <td>-0.465730</td>\n",
       "    </tr>\n",
       "  </tbody>\n",
       "</table>\n",
       "</div>"
      ],
      "text/plain": [
       "          0         1         2         3\n",
       "0  0.496714 -0.138264  0.647689  1.523030\n",
       "1 -0.234153 -0.234137  1.579213  0.767435\n",
       "2 -0.469474  0.542560       NaN -0.465730"
      ]
     },
     "execution_count": 46,
     "metadata": {},
     "output_type": "execute_result"
    }
   ],
   "source": [
    "df=pd.DataFrame(a)\n",
    "df"
   ]
  },
  {
   "cell_type": "code",
   "execution_count": 50,
   "metadata": {},
   "outputs": [
    {
     "data": {
      "text/html": [
       "<div>\n",
       "<style>\n",
       "    .dataframe thead tr:only-child th {\n",
       "        text-align: right;\n",
       "    }\n",
       "\n",
       "    .dataframe thead th {\n",
       "        text-align: left;\n",
       "    }\n",
       "\n",
       "    .dataframe tbody tr th {\n",
       "        vertical-align: top;\n",
       "    }\n",
       "</style>\n",
       "<table border=\"1\" class=\"dataframe\">\n",
       "  <thead>\n",
       "    <tr style=\"text-align: right;\">\n",
       "      <th></th>\n",
       "      <th>a</th>\n",
       "      <th>b</th>\n",
       "      <th>c</th>\n",
       "      <th>d</th>\n",
       "    </tr>\n",
       "  </thead>\n",
       "  <tbody>\n",
       "    <tr>\n",
       "      <th>0</th>\n",
       "      <td>0.496714</td>\n",
       "      <td>-0.138264</td>\n",
       "      <td>0.647689</td>\n",
       "      <td>1.523030</td>\n",
       "    </tr>\n",
       "    <tr>\n",
       "      <th>1</th>\n",
       "      <td>-0.234153</td>\n",
       "      <td>-0.234137</td>\n",
       "      <td>1.579213</td>\n",
       "      <td>0.767435</td>\n",
       "    </tr>\n",
       "    <tr>\n",
       "      <th>2</th>\n",
       "      <td>-0.469474</td>\n",
       "      <td>0.542560</td>\n",
       "      <td>NaN</td>\n",
       "      <td>-0.465730</td>\n",
       "    </tr>\n",
       "  </tbody>\n",
       "</table>\n",
       "</div>"
      ],
      "text/plain": [
       "          a         b         c         d\n",
       "0  0.496714 -0.138264  0.647689  1.523030\n",
       "1 -0.234153 -0.234137  1.579213  0.767435\n",
       "2 -0.469474  0.542560       NaN -0.465730"
      ]
     },
     "execution_count": 50,
     "metadata": {},
     "output_type": "execute_result"
    }
   ],
   "source": [
    "df.columns=['a','b','c','d']\n",
    "df\n"
   ]
  },
  {
   "cell_type": "code",
   "execution_count": 51,
   "metadata": {
    "collapsed": true
   },
   "outputs": [],
   "source": [
    "from bs4 import BeautifulSoup\n",
    "import re"
   ]
  },
  {
   "cell_type": "code",
   "execution_count": 54,
   "metadata": {},
   "outputs": [
    {
     "name": "stderr",
     "output_type": "stream",
     "text": [
      "C:\\Users\\Lei Lei\\Anaconda2\\lib\\site-packages\\bs4\\__init__.py:181: UserWarning: No parser was explicitly specified, so I'm using the best available HTML parser for this system (\"lxml\"). This usually isn't a problem, but if you run this code on another system, or in a different virtual environment, it may use a different parser and behave differently.\n",
      "\n",
      "The code that caused this warning is on line 174 of the file C:\\Users\\Lei Lei\\Anaconda2\\lib\\runpy.py. To get rid of this warning, change code that looks like this:\n",
      "\n",
      " BeautifulSoup(YOUR_MARKUP})\n",
      "\n",
      "to this:\n",
      "\n",
      " BeautifulSoup(YOUR_MARKUP, \"lxml\")\n",
      "\n",
      "  markup_type=markup_type))\n"
     ]
    }
   ],
   "source": [
    "soup = BeautifulSoup(open('Python_Data_Analysis/PythonDataAnalysis_Code/3358OS_05_Code/code5/loremIpsum.html'))"
   ]
  },
  {
   "cell_type": "code",
   "execution_count": 61,
   "metadata": {},
   "outputs": [
    {
     "data": {
      "text/plain": [
       "<div class=\"tile\">\\n<h4>Development</h4>\\n     0.10.1 - July 2014<br/>\\n</div>"
      ]
     },
     "execution_count": 61,
     "metadata": {},
     "output_type": "execute_result"
    }
   ],
   "source": [
    "soup.div"
   ]
  },
  {
   "cell_type": "code",
   "execution_count": 62,
   "metadata": {},
   "outputs": [
    {
     "data": {
      "text/plain": [
       "[<div class=\"tile\">\\n<h4>Development</h4>\\n     0.10.1 - July 2014<br/>\\n</div>,\n",
       " <div class=\"tile\" id=\"official\">\\n<h4>Official Release</h4>\\n     0.10.0 June 2014<br/>\\n</div>,\n",
       " <div class=\"notile\">\\n<h4>Previous Release</h4>\\n     0.09.1 June 2013<br/>\\n</div>]"
      ]
     },
     "execution_count": 62,
     "metadata": {},
     "output_type": "execute_result"
    }
   ],
   "source": [
    "soup('div')"
   ]
  },
  {
   "cell_type": "code",
   "execution_count": 63,
   "metadata": {},
   "outputs": [
    {
     "data": {
      "text/plain": [
       "[<h1>Ne in odium veniam, si amicum destitero tueri.</h1>]"
      ]
     },
     "execution_count": 63,
     "metadata": {},
     "output_type": "execute_result"
    }
   ],
   "source": [
    "soup('h1')"
   ]
  },
  {
   "cell_type": "code",
   "execution_count": 64,
   "metadata": {},
   "outputs": [
    {
     "data": {
      "text/plain": [
       "<h1>Ne in odium veniam, si amicum destitero tueri.</h1>"
      ]
     },
     "execution_count": 64,
     "metadata": {},
     "output_type": "execute_result"
    }
   ],
   "source": [
    "soup.h1"
   ]
  },
  {
   "cell_type": "code",
   "execution_count": 65,
   "metadata": {},
   "outputs": [
    {
     "data": {
      "text/plain": [
       "<title>Generated Lorem Ipsum</title>"
      ]
     },
     "execution_count": 65,
     "metadata": {},
     "output_type": "execute_result"
    }
   ],
   "source": [
    "soup.title"
   ]
  },
  {
   "cell_type": "code",
   "execution_count": 60,
   "metadata": {},
   "outputs": [
    {
     "data": {
      "text/plain": [
       "<div class=\"tile\">\\n<h4>Development</h4>\\n     0.10.1 - July 2014<br/>\\n</div>"
      ]
     },
     "execution_count": 60,
     "metadata": {},
     "output_type": "execute_result"
    }
   ],
   "source": [
    "soup.div"
   ]
  },
  {
   "cell_type": "code",
   "execution_count": 59,
   "metadata": {},
   "outputs": [
    {
     "data": {
      "text/plain": [
       "[<a href=\"http://loripsum.net/\">loripsum.net</a>,\n",
       " <a href=\"http://loripsum.net/\" target=\"_blank\">Poterat autem inpune;</a>,\n",
       " <a href=\"http://loripsum.net/\" target=\"_blank\">Is es profecto tu.</a>]"
      ]
     },
     "execution_count": 59,
     "metadata": {},
     "output_type": "execute_result"
    }
   ],
   "source": [
    "soup.find_all('a')"
   ]
  },
  {
   "cell_type": "code",
   "execution_count": 58,
   "metadata": {},
   "outputs": [
    {
     "name": "stdout",
     "output_type": "stream",
     "text": [
      "Link text loripsum.net URL http://loripsum.net/\n",
      "Link text Poterat autem inpune; URL http://loripsum.net/\n",
      "Link text Is es profecto tu. URL http://loripsum.net/\n"
     ]
    }
   ],
   "source": [
    "for link in soup.find_all('a'):\n",
    "    print \"Link text\", link.string, \"URL\", link.get('href')"
   ]
  },
  {
   "cell_type": "markdown",
   "metadata": {},
   "source": [
    "### matplotlib"
   ]
  },
  {
   "cell_type": "code",
   "execution_count": 1,
   "metadata": {
    "collapsed": true
   },
   "outputs": [],
   "source": [
    "import matplotlib.pyplot as plt\n",
    "import numpy as np\n",
    "import pandas as pd"
   ]
  },
  {
   "cell_type": "code",
   "execution_count": 92,
   "metadata": {},
   "outputs": [
    {
     "data": {
      "text/html": [
       "<div>\n",
       "<style>\n",
       "    .dataframe thead tr:only-child th {\n",
       "        text-align: right;\n",
       "    }\n",
       "\n",
       "    .dataframe thead th {\n",
       "        text-align: left;\n",
       "    }\n",
       "\n",
       "    .dataframe tbody tr th {\n",
       "        vertical-align: top;\n",
       "    }\n",
       "</style>\n",
       "<table border=\"1\" class=\"dataframe\">\n",
       "  <thead>\n",
       "    <tr style=\"text-align: right;\">\n",
       "      <th></th>\n",
       "      <th>trans_count</th>\n",
       "      <th>year</th>\n",
       "    </tr>\n",
       "  </thead>\n",
       "  <tbody>\n",
       "    <tr>\n",
       "      <th>0</th>\n",
       "      <td>2600000000</td>\n",
       "      <td>2011</td>\n",
       "    </tr>\n",
       "    <tr>\n",
       "      <th>1</th>\n",
       "      <td>4310000000</td>\n",
       "      <td>2014</td>\n",
       "    </tr>\n",
       "    <tr>\n",
       "      <th>2</th>\n",
       "      <td>1000000000</td>\n",
       "      <td>2010</td>\n",
       "    </tr>\n",
       "    <tr>\n",
       "      <th>3</th>\n",
       "      <td>5000000000</td>\n",
       "      <td>2012</td>\n",
       "    </tr>\n",
       "    <tr>\n",
       "      <th>4</th>\n",
       "      <td>1200000000</td>\n",
       "      <td>2012</td>\n",
       "    </tr>\n",
       "  </tbody>\n",
       "</table>\n",
       "</div>"
      ],
      "text/plain": [
       "   trans_count  year\n",
       "0   2600000000  2011\n",
       "1   4310000000  2014\n",
       "2   1000000000  2010\n",
       "3   5000000000  2012\n",
       "4   1200000000  2012"
      ]
     },
     "execution_count": 92,
     "metadata": {},
     "output_type": "execute_result"
    }
   ],
   "source": [
    "df=pd.read_csv('Python_Data_Analysis/PythonDataAnalysis_Code/3358OS_06_Code/code6/transcount.csv')\n",
    "df.head()"
   ]
  },
  {
   "cell_type": "code",
   "execution_count": 47,
   "metadata": {},
   "outputs": [
    {
     "name": "stdout",
     "output_type": "stream",
     "text": [
      "[-0.02428571  1.12571429  1.37      ]\n",
      "          2\n",
      "-0.02429 x + 1.126 x + 1.37\n"
     ]
    }
   ],
   "source": [
    "### example to explain polyfit\n",
    "\n",
    "x=[ 1 ,2  ,3 ,4 ,5 ,6]\n",
    "y=[ 2.5 ,3.51 ,4.45 ,5.52 ,6.47 ,7.2]\n",
    "z1 = np.polyfit(x, y, 2)\n",
    "print z1\n",
    "p1=np.poly1d(z1)\n",
    "print (p1)"
   ]
  },
  {
   "cell_type": "code",
   "execution_count": 57,
   "metadata": {},
   "outputs": [
    {
     "name": "stdout",
     "output_type": "stream",
     "text": [
      "[  1.16815191e-08  -1.28224842e-04   5.58045421e-01  -1.20539761e+03\n",
      "   1.29371928e+06  -5.52422601e+08]\n"
     ]
    }
   ],
   "source": [
    "poly=np.polyfit(years,np.log(counts),deg=5\n",
    "          )\n",
    "print (poly)"
   ]
  },
  {
   "cell_type": "code",
   "execution_count": 58,
   "metadata": {},
   "outputs": [
    {
     "data": {
      "text/plain": [
       "array([  7.62070489,   7.96992767,   8.58563626,   8.86202049,\n",
       "         9.12350667,   9.61817312,   9.85878193,  10.5918777 ,\n",
       "        10.84883821,  11.11576486,  11.39441204,  11.6862365 ,\n",
       "        12.31377733,  12.65093958,  13.37348318,  14.15886402,\n",
       "        14.57349825,  15.00132835,  15.44092727,  15.89058554,\n",
       "        16.34831536,  16.81185067,  17.2786485 ,  17.7458905 ,\n",
       "        18.21048558,  18.66906893,  19.11800551,  19.55338967,\n",
       "        19.97104907,  20.36654294,  20.73516691,  21.07195008,\n",
       "        21.37166178,  21.62880743,  21.83763516,  21.99213326,  22.08603215])"
      ]
     },
     "execution_count": 58,
     "metadata": {},
     "output_type": "execute_result"
    }
   ],
   "source": [
    "np.polyval(poly,years)"
   ]
  },
  {
   "cell_type": "code",
   "execution_count": 65,
   "metadata": {},
   "outputs": [
    {
     "data": {
      "text/plain": [
       "[<matplotlib.lines.Line2D at 0xafc15c0>]"
      ]
     },
     "execution_count": 65,
     "metadata": {},
     "output_type": "execute_result"
    },
    {
     "data": {
      "image/png": "[encoded data removed]",
      "text/plain": [
       "<matplotlib.figure.Figure at 0xbea8358>"
      ]
     },
     "metadata": {},
     "output_type": "display_data"
    }
   ],
   "source": [
    "plt.plot(years,counts,'o')\n"
   ]
  },
  {
   "cell_type": "code",
   "execution_count": 66,
   "metadata": {},
   "outputs": [
    {
     "data": {
      "text/plain": [
       "[<matplotlib.lines.Line2D at 0xbe86048>]"
      ]
     },
     "execution_count": 66,
     "metadata": {},
     "output_type": "execute_result"
    },
    {
     "data": {
      "image/png": "[encoded data removed]",
      "text/plain": [
       "<matplotlib.figure.Figure at 0xb56beb8>"
      ]
     },
     "metadata": {},
     "output_type": "display_data"
    }
   ],
   "source": [
    "plt.semilogy(years,counts,'o')\n"
   ]
  },
  {
   "cell_type": "code",
   "execution_count": 70,
   "metadata": {},
   "outputs": [
    {
     "data": {
      "text/plain": [
       "[<matplotlib.lines.Line2D at 0xc904320>]"
      ]
     },
     "execution_count": 70,
     "metadata": {},
     "output_type": "execute_result"
    },
    {
     "data": {
      "image/png": "[encoded data removed]",
      "text/plain": [
       "<matplotlib.figure.Figure at 0xc719c88>"
      ]
     },
     "metadata": {},
     "output_type": "display_data"
    }
   ],
   "source": [
    "# similar as above\n",
    "plt.plot(years,np.log(counts),'o')"
   ]
  },
  {
   "cell_type": "code",
   "execution_count": 68,
   "metadata": {},
   "outputs": [
    {
     "data": {
      "text/plain": [
       "[<matplotlib.lines.Line2D at 0xc3583c8>]"
      ]
     },
     "execution_count": 68,
     "metadata": {},
     "output_type": "execute_result"
    },
    {
     "data": {
      "image/png": "[encoded data removed]",
      "text/plain": [
       "<matplotlib.figure.Figure at 0xc3cd9b0>"
      ]
     },
     "metadata": {},
     "output_type": "display_data"
    }
   ],
   "source": [
    "plt.plot(years,np.polyval(np.polyfit(years,np.log(counts),deg=2), years))"
   ]
  },
  {
   "cell_type": "code",
   "execution_count": null,
   "metadata": {
    "collapsed": true
   },
   "outputs": [],
   "source": []
  },
  {
   "cell_type": "code",
   "execution_count": 93,
   "metadata": {
    "scrolled": true
   },
   "outputs": [
    {
     "data": {
      "text/html": [
       "<div>\n",
       "<style>\n",
       "    .dataframe thead tr:only-child th {\n",
       "        text-align: right;\n",
       "    }\n",
       "\n",
       "    .dataframe thead th {\n",
       "        text-align: left;\n",
       "    }\n",
       "\n",
       "    .dataframe tbody tr th {\n",
       "        vertical-align: top;\n",
       "    }\n",
       "</style>\n",
       "<table border=\"1\" class=\"dataframe\">\n",
       "  <thead>\n",
       "    <tr style=\"text-align: right;\">\n",
       "      <th></th>\n",
       "      <th>trans_count</th>\n",
       "    </tr>\n",
       "    <tr>\n",
       "      <th>year</th>\n",
       "      <th></th>\n",
       "    </tr>\n",
       "  </thead>\n",
       "  <tbody>\n",
       "    <tr>\n",
       "      <th>1971</th>\n",
       "      <td>2300.000000</td>\n",
       "    </tr>\n",
       "    <tr>\n",
       "      <th>1972</th>\n",
       "      <td>3500.000000</td>\n",
       "    </tr>\n",
       "    <tr>\n",
       "      <th>1974</th>\n",
       "      <td>4533.333333</td>\n",
       "    </tr>\n",
       "    <tr>\n",
       "      <th>1975</th>\n",
       "      <td>3510.000000</td>\n",
       "    </tr>\n",
       "    <tr>\n",
       "      <th>1976</th>\n",
       "      <td>7500.000000</td>\n",
       "    </tr>\n",
       "  </tbody>\n",
       "</table>\n",
       "</div>"
      ],
      "text/plain": [
       "      trans_count\n",
       "year             \n",
       "1971  2300.000000\n",
       "1972  3500.000000\n",
       "1974  4533.333333\n",
       "1975  3510.000000\n",
       "1976  7500.000000"
      ]
     },
     "execution_count": 93,
     "metadata": {},
     "output_type": "execute_result"
    }
   ],
   "source": [
    "df=df.groupby('year').aggregate(np.mean)\n",
    "df.head()"
   ]
  },
  {
   "cell_type": "code",
   "execution_count": 94,
   "metadata": {
    "collapsed": true
   },
   "outputs": [],
   "source": [
    "gpu=pd.read_csv('Python_Data_Analysis/PythonDataAnalysis_Code/3358OS_06_Code/code6/gpu_transcount.csv')"
   ]
  },
  {
   "cell_type": "code",
   "execution_count": 95,
   "metadata": {},
   "outputs": [
    {
     "data": {
      "text/html": [
       "<div>\n",
       "<style>\n",
       "    .dataframe thead tr:only-child th {\n",
       "        text-align: right;\n",
       "    }\n",
       "\n",
       "    .dataframe thead th {\n",
       "        text-align: left;\n",
       "    }\n",
       "\n",
       "    .dataframe tbody tr th {\n",
       "        vertical-align: top;\n",
       "    }\n",
       "</style>\n",
       "<table border=\"1\" class=\"dataframe\">\n",
       "  <thead>\n",
       "    <tr style=\"text-align: right;\">\n",
       "      <th></th>\n",
       "      <th>gpu_trans_count</th>\n",
       "    </tr>\n",
       "    <tr>\n",
       "      <th>year</th>\n",
       "      <th></th>\n",
       "    </tr>\n",
       "  </thead>\n",
       "  <tbody>\n",
       "    <tr>\n",
       "      <th>1997</th>\n",
       "      <td>3500000.0</td>\n",
       "    </tr>\n",
       "    <tr>\n",
       "      <th>1999</th>\n",
       "      <td>13500000.0</td>\n",
       "    </tr>\n",
       "    <tr>\n",
       "      <th>2000</th>\n",
       "      <td>25000000.0</td>\n",
       "    </tr>\n",
       "    <tr>\n",
       "      <th>2001</th>\n",
       "      <td>58500000.0</td>\n",
       "    </tr>\n",
       "    <tr>\n",
       "      <th>2002</th>\n",
       "      <td>85000000.0</td>\n",
       "    </tr>\n",
       "  </tbody>\n",
       "</table>\n",
       "</div>"
      ],
      "text/plain": [
       "      gpu_trans_count\n",
       "year                 \n",
       "1997        3500000.0\n",
       "1999       13500000.0\n",
       "2000       25000000.0\n",
       "2001       58500000.0\n",
       "2002       85000000.0"
      ]
     },
     "execution_count": 95,
     "metadata": {},
     "output_type": "execute_result"
    }
   ],
   "source": [
    "gpu=gpu.groupby('year').aggregate(np.mean)\n",
    "gpu.head()"
   ]
  },
  {
   "cell_type": "code",
   "execution_count": 96,
   "metadata": {},
   "outputs": [
    {
     "data": {
      "text/html": [
       "<div>\n",
       "<style>\n",
       "    .dataframe thead tr:only-child th {\n",
       "        text-align: right;\n",
       "    }\n",
       "\n",
       "    .dataframe thead th {\n",
       "        text-align: left;\n",
       "    }\n",
       "\n",
       "    .dataframe tbody tr th {\n",
       "        vertical-align: top;\n",
       "    }\n",
       "</style>\n",
       "<table border=\"1\" class=\"dataframe\">\n",
       "  <thead>\n",
       "    <tr style=\"text-align: right;\">\n",
       "      <th></th>\n",
       "      <th>trans_count</th>\n",
       "      <th>gpu_trans_count</th>\n",
       "    </tr>\n",
       "    <tr>\n",
       "      <th>year</th>\n",
       "      <th></th>\n",
       "      <th></th>\n",
       "    </tr>\n",
       "  </thead>\n",
       "  <tbody>\n",
       "    <tr>\n",
       "      <th>1971</th>\n",
       "      <td>2300.000000</td>\n",
       "      <td>NaN</td>\n",
       "    </tr>\n",
       "    <tr>\n",
       "      <th>1972</th>\n",
       "      <td>3500.000000</td>\n",
       "      <td>NaN</td>\n",
       "    </tr>\n",
       "    <tr>\n",
       "      <th>1974</th>\n",
       "      <td>4533.333333</td>\n",
       "      <td>NaN</td>\n",
       "    </tr>\n",
       "    <tr>\n",
       "      <th>1975</th>\n",
       "      <td>3510.000000</td>\n",
       "      <td>NaN</td>\n",
       "    </tr>\n",
       "    <tr>\n",
       "      <th>1976</th>\n",
       "      <td>7500.000000</td>\n",
       "      <td>NaN</td>\n",
       "    </tr>\n",
       "  </tbody>\n",
       "</table>\n",
       "</div>"
      ],
      "text/plain": [
       "      trans_count  gpu_trans_count\n",
       "year                              \n",
       "1971  2300.000000              NaN\n",
       "1972  3500.000000              NaN\n",
       "1974  4533.333333              NaN\n",
       "1975  3510.000000              NaN\n",
       "1976  7500.000000              NaN"
      ]
     },
     "execution_count": 96,
     "metadata": {},
     "output_type": "execute_result"
    }
   ],
   "source": [
    "df=pd.merge(df,gpu,left_index=True,right_index=True,how='outer')\n",
    "df.head()"
   ]
  },
  {
   "cell_type": "code",
   "execution_count": 97,
   "metadata": {},
   "outputs": [
    {
     "data": {
      "text/html": [
       "<div>\n",
       "<style>\n",
       "    .dataframe thead tr:only-child th {\n",
       "        text-align: right;\n",
       "    }\n",
       "\n",
       "    .dataframe thead th {\n",
       "        text-align: left;\n",
       "    }\n",
       "\n",
       "    .dataframe tbody tr th {\n",
       "        vertical-align: top;\n",
       "    }\n",
       "</style>\n",
       "<table border=\"1\" class=\"dataframe\">\n",
       "  <thead>\n",
       "    <tr style=\"text-align: right;\">\n",
       "      <th></th>\n",
       "      <th>trans_count</th>\n",
       "      <th>gpu_trans_count</th>\n",
       "    </tr>\n",
       "    <tr>\n",
       "      <th>year</th>\n",
       "      <th></th>\n",
       "      <th></th>\n",
       "    </tr>\n",
       "  </thead>\n",
       "  <tbody>\n",
       "    <tr>\n",
       "      <th>1971</th>\n",
       "      <td>2300.000000</td>\n",
       "      <td>0.0</td>\n",
       "    </tr>\n",
       "    <tr>\n",
       "      <th>1972</th>\n",
       "      <td>3500.000000</td>\n",
       "      <td>0.0</td>\n",
       "    </tr>\n",
       "    <tr>\n",
       "      <th>1974</th>\n",
       "      <td>4533.333333</td>\n",
       "      <td>0.0</td>\n",
       "    </tr>\n",
       "    <tr>\n",
       "      <th>1975</th>\n",
       "      <td>3510.000000</td>\n",
       "      <td>0.0</td>\n",
       "    </tr>\n",
       "    <tr>\n",
       "      <th>1976</th>\n",
       "      <td>7500.000000</td>\n",
       "      <td>0.0</td>\n",
       "    </tr>\n",
       "  </tbody>\n",
       "</table>\n",
       "</div>"
      ],
      "text/plain": [
       "      trans_count  gpu_trans_count\n",
       "year                              \n",
       "1971  2300.000000              0.0\n",
       "1972  3500.000000              0.0\n",
       "1974  4533.333333              0.0\n",
       "1975  3510.000000              0.0\n",
       "1976  7500.000000              0.0"
      ]
     },
     "execution_count": 97,
     "metadata": {},
     "output_type": "execute_result"
    }
   ],
   "source": [
    "df.fillna(0).head()"
   ]
  },
  {
   "cell_type": "code",
   "execution_count": 16,
   "metadata": {
    "collapsed": true
   },
   "outputs": [],
   "source": [
    "df=df.replace(np.nan,0)"
   ]
  },
  {
   "cell_type": "code",
   "execution_count": 20,
   "metadata": {},
   "outputs": [
    {
     "data": {
      "text/plain": [
       "array([1971, 1972, 1974, 1975, 1976, 1978, 1979, 1982, 1983, 1984, 1985,\n",
       "       1986, 1988, 1989, 1991, 1993, 1994, 1995, 1996, 1997, 1998, 1999,\n",
       "       2000, 2001, 2002, 2003, 2004, 2005, 2006, 2007, 2008, 2009, 2010,\n",
       "       2011, 2012, 2013, 2014], dtype=int64)"
      ]
     },
     "execution_count": 20,
     "metadata": {},
     "output_type": "execute_result"
    }
   ],
   "source": [
    "years=df.index.values\n",
    "years"
   ]
  },
  {
   "cell_type": "code",
   "execution_count": 21,
   "metadata": {
    "collapsed": true
   },
   "outputs": [],
   "source": [
    "counts=df['trans_count'].values\n",
    "gpu_counts=df['gpu_trans_count'].values\n",
    "cnt_log=np.log(counts)"
   ]
  },
  {
   "cell_type": "code",
   "execution_count": 38,
   "metadata": {},
   "outputs": [
    {
     "data": {
      "image/png": "[encoded data removed]",
      "text/plain": [
       "<matplotlib.figure.Figure at 0xafc1a20>"
      ]
     },
     "metadata": {},
     "output_type": "display_data"
    }
   ],
   "source": [
    "plt.scatter(years,cnt_log,c= years,s=70+500*gpu_counts/gpu_counts.max())\n",
    "plt.show()"
   ]
  },
  {
   "cell_type": "code",
   "execution_count": 24,
   "metadata": {},
   "outputs": [
    {
     "data": {
      "image/png": "[encoded data removed]",
      "text/plain": [
       "<matplotlib.figure.Figure at 0xb053a90>"
      ]
     },
     "metadata": {},
     "output_type": "display_data"
    }
   ],
   "source": [
    "plt.scatter(years,cnt_log,c=200 * years,s=20+200*gpu_counts/gpu_counts.max())\n",
    "plt.show()"
   ]
  },
  {
   "cell_type": "code",
   "execution_count": 72,
   "metadata": {},
   "outputs": [
    {
     "name": "stdout",
     "output_type": "stream",
     "text": [
      "[  2.28456528e-03  -8.74378938e+00   8.36639399e+03]\n"
     ]
    }
   ],
   "source": [
    "poly=np.polyfit(years,np.log(counts),deg=2\n",
    "          )\n",
    "print (poly)"
   ]
  },
  {
   "cell_type": "code",
   "execution_count": 73,
   "metadata": {},
   "outputs": [
    {
     "data": {
      "text/plain": [
       "<matplotlib.legend.Legend at 0xa7168d0>"
      ]
     },
     "execution_count": 73,
     "metadata": {},
     "output_type": "execute_result"
    },
    {
     "data": {
      "image/png": "[encoded data removed]",
      "text/plain": [
       "<matplotlib.figure.Figure at 0xcb7a2e8>"
      ]
     },
     "metadata": {},
     "output_type": "display_data"
    }
   ],
   "source": [
    "plt.plot(years,np.polyval(poly,years),label='Fit')\n",
    "plt.scatter(years,np.log(counts),c=years,s=20+200*gpu_counts/gpu_counts.max(),label='scatter plot')\n",
    "plt.legend()"
   ]
  },
  {
   "cell_type": "code",
   "execution_count": 77,
   "metadata": {},
   "outputs": [
    {
     "data": {
      "text/plain": [
       "<matplotlib.text.Annotation at 0xd005470>"
      ]
     },
     "execution_count": 77,
     "metadata": {},
     "output_type": "execute_result"
    },
    {
     "data": {
      "image/png": "[encoded data removed]",
      "text/plain": [
       "<matplotlib.figure.Figure at 0xd05d630>"
      ]
     },
     "metadata": {},
     "output_type": "display_data"
    }
   ],
   "source": [
    "plt.plot(years,np.polyval(poly,years),label='Fit')\n",
    "plt.scatter(years,np.log(counts),c=years,s=20+200*gpu_counts/gpu_counts.max(),label='scatter plot')\n",
    "plt.legend()\n",
    "\n",
    "gpu_start = gpu.index.values.min()\n",
    "y_ann = np.log(df.at[gpu_start, 'trans_count'])\n",
    "ann_str = \"First GPU\\n %d\" % gpu_start\n",
    "plt.annotate(ann_str, xy=(gpu_start, y_ann), arrowprops=dict(arrowstyle=\"->\"), xytext=(-30, +70), textcoords='offset points')"
   ]
  },
  {
   "cell_type": "code",
   "execution_count": 79,
   "metadata": {},
   "outputs": [
    {
     "data": {
      "text/plain": [
       "<matplotlib.text.Text at 0xd4951d0>"
      ]
     },
     "execution_count": 79,
     "metadata": {},
     "output_type": "execute_result"
    },
    {
     "data": {
      "image/png": "[encoded data removed]",
      "text/plain": [
       "<matplotlib.figure.Figure at 0xd251be0>"
      ]
     },
     "metadata": {},
     "output_type": "display_data"
    }
   ],
   "source": [
    "plt.plot(years,np.polyval(poly,years),label='Fit')\n",
    "plt.scatter(years,np.log(counts),c=years,s=20+200*gpu_counts/gpu_counts.max(),label='scatter plot')\n",
    "plt.legend()\n",
    "\n",
    "gpu_start = gpu.index.values.min()\n",
    "y_ann = np.log(df.at[gpu_start, 'trans_count'])\n",
    "ann_str = \"First GPU\\n %d\" % gpu_start\n",
    "plt.annotate(ann_str, xy=(gpu_start, y_ann), arrowprops=dict(arrowstyle=\"->\"), xytext=(-30, +70), textcoords='offset points')\n",
    "plt.grid()\n",
    "plt.xlabel('year')\n",
    "plt.ylabel('log transistor counts')\n",
    "plt.title(\"morre's law & transistor counts\")"
   ]
  },
  {
   "cell_type": "markdown",
   "metadata": {},
   "source": [
    "### plot in pd"
   ]
  },
  {
   "cell_type": "code",
   "execution_count": 80,
   "metadata": {},
   "outputs": [
    {
     "data": {
      "text/plain": [
       "<matplotlib.axes._subplots.AxesSubplot at 0xcc55a58>"
      ]
     },
     "execution_count": 80,
     "metadata": {},
     "output_type": "execute_result"
    },
    {
     "data": {
      "image/png": "[encoded data removed]",
      "text/plain": [
       "<matplotlib.figure.Figure at 0xb4c19e8>"
      ]
     },
     "metadata": {},
     "output_type": "display_data"
    }
   ],
   "source": [
    "df.plot()"
   ]
  },
  {
   "cell_type": "code",
   "execution_count": 81,
   "metadata": {},
   "outputs": [
    {
     "data": {
      "text/plain": [
       "<matplotlib.axes._subplots.AxesSubplot at 0xd985f28>"
      ]
     },
     "execution_count": 81,
     "metadata": {},
     "output_type": "execute_result"
    },
    {
     "data": {
      "image/png": "[encoded data removed]",
      "text/plain": [
       "<matplotlib.figure.Figure at 0xb5f3cf8>"
      ]
     },
     "metadata": {},
     "output_type": "display_data"
    }
   ],
   "source": [
    "df.plot(logy=True)"
   ]
  },
  {
   "cell_type": "code",
   "execution_count": 87,
   "metadata": {},
   "outputs": [
    {
     "data": {
      "text/plain": [
       "<matplotlib.axes._subplots.AxesSubplot at 0xef99f60>"
      ]
     },
     "execution_count": 87,
     "metadata": {},
     "output_type": "execute_result"
    },
    {
     "data": {
      "image/png": "[encoded data removed]",
      "text/plain": [
       "<matplotlib.figure.Figure at 0xd38f2b0>"
      ]
     },
     "metadata": {},
     "output_type": "display_data"
    }
   ],
   "source": [
    "df[df['gpu_trans_count']>0].plot(kind='scatter',x='trans_count',y='gpu_trans_count',loglog=True)"
   ]
  },
  {
   "cell_type": "code",
   "execution_count": 98,
   "metadata": {},
   "outputs": [
    {
     "name": "stderr",
     "output_type": "stream",
     "text": [
      "C:\\Users\\Lei Lei\\Anaconda2\\lib\\site-packages\\ipykernel_launcher.py:2: FutureWarning: 'pandas.tools.plotting.lag_plot' is deprecated, import 'pandas.plotting.lag_plot' instead.\n",
      "  \n"
     ]
    },
    {
     "data": {
      "text/plain": [
       "<matplotlib.axes._subplots.AxesSubplot at 0xfb91a58>"
      ]
     },
     "execution_count": 98,
     "metadata": {},
     "output_type": "execute_result"
    },
    {
     "data": {
      "image/png": "[encoded data removed]",
      "text/plain": [
       "<matplotlib.figure.Figure at 0xf67e278>"
      ]
     },
     "metadata": {},
     "output_type": "display_data"
    }
   ],
   "source": [
    "from pandas.tools.plotting import lag_plot\n",
    "lag_plot(np.log(df['trans_count']))"
   ]
  },
  {
   "cell_type": "code",
   "execution_count": 99,
   "metadata": {},
   "outputs": [
    {
     "name": "stderr",
     "output_type": "stream",
     "text": [
      "C:\\Users\\Lei Lei\\Anaconda2\\lib\\site-packages\\ipykernel_launcher.py:2: FutureWarning: 'pandas.tools.plotting.autocorrelation_plot' is deprecated, import 'pandas.plotting.autocorrelation_plot' instead.\n",
      "  \n"
     ]
    },
    {
     "data": {
      "text/plain": [
       "<matplotlib.axes._subplots.AxesSubplot at 0xfd91048>"
      ]
     },
     "execution_count": 99,
     "metadata": {},
     "output_type": "execute_result"
    },
    {
     "data": {
      "image/png": "[encoded data removed]",
      "text/plain": [
       "<matplotlib.figure.Figure at 0xfa37940>"
      ]
     },
     "metadata": {},
     "output_type": "display_data"
    }
   ],
   "source": [
    "from pandas.tools.plotting import autocorrelation_plot\n",
    "autocorrelation_plot(np.log(df['trans_count']))"
   ]
  },
  {
   "cell_type": "code",
   "execution_count": 103,
   "metadata": {},
   "outputs": [
    {
     "data": {
      "text/plain": [
       "<matplotlib.axes._subplots.AxesSubplot at 0x103029b0>"
      ]
     },
     "execution_count": 103,
     "metadata": {},
     "output_type": "execute_result"
    },
    {
     "data": {
      "image/png": "[encoded data removed]",
      "text/plain": [
       "<matplotlib.figure.Figure at 0x1030f9b0>"
      ]
     },
     "metadata": {},
     "output_type": "display_data"
    }
   ],
   "source": [
    "np.log(df['trans_count']).plot(kind='box')"
   ]
  },
  {
   "cell_type": "markdown",
   "metadata": {},
   "source": [
    "### chap 7"
   ]
  },
  {
   "cell_type": "code",
   "execution_count": 1,
   "metadata": {},
   "outputs": [
    {
     "name": "stderr",
     "output_type": "stream",
     "text": [
      "C:\\Users\\Lei Lei\\Anaconda2\\lib\\site-packages\\statsmodels\\compat\\pandas.py:56: FutureWarning: The pandas.core.datetools module is deprecated and will be removed in a future version. Please use the pandas.tseries module instead.\n",
      "  from pandas.core import datetools\n"
     ]
    }
   ],
   "source": [
    "import matplotlib.pyplot as plt\n",
    "import statsmodels.api as sm\n",
    "from pandas.stats.moments import rolling_mean\n",
    "data_loader = sm.datasets.sunspots.load_pandas()\n",
    "df = data_loader.data"
   ]
  },
  {
   "cell_type": "code",
   "execution_count": 2,
   "metadata": {},
   "outputs": [
    {
     "data": {
      "text/html": [
       "<div>\n",
       "<style>\n",
       "    .dataframe thead tr:only-child th {\n",
       "        text-align: right;\n",
       "    }\n",
       "\n",
       "    .dataframe thead th {\n",
       "        text-align: left;\n",
       "    }\n",
       "\n",
       "    .dataframe tbody tr th {\n",
       "        vertical-align: top;\n",
       "    }\n",
       "</style>\n",
       "<table border=\"1\" class=\"dataframe\">\n",
       "  <thead>\n",
       "    <tr style=\"text-align: right;\">\n",
       "      <th></th>\n",
       "      <th>YEAR</th>\n",
       "      <th>SUNACTIVITY</th>\n",
       "    </tr>\n",
       "  </thead>\n",
       "  <tbody>\n",
       "    <tr>\n",
       "      <th>0</th>\n",
       "      <td>1700.0</td>\n",
       "      <td>5.0</td>\n",
       "    </tr>\n",
       "    <tr>\n",
       "      <th>1</th>\n",
       "      <td>1701.0</td>\n",
       "      <td>11.0</td>\n",
       "    </tr>\n",
       "    <tr>\n",
       "      <th>2</th>\n",
       "      <td>1702.0</td>\n",
       "      <td>16.0</td>\n",
       "    </tr>\n",
       "    <tr>\n",
       "      <th>3</th>\n",
       "      <td>1703.0</td>\n",
       "      <td>23.0</td>\n",
       "    </tr>\n",
       "    <tr>\n",
       "      <th>4</th>\n",
       "      <td>1704.0</td>\n",
       "      <td>36.0</td>\n",
       "    </tr>\n",
       "  </tbody>\n",
       "</table>\n",
       "</div>"
      ],
      "text/plain": [
       "     YEAR  SUNACTIVITY\n",
       "0  1700.0          5.0\n",
       "1  1701.0         11.0\n",
       "2  1702.0         16.0\n",
       "3  1703.0         23.0\n",
       "4  1704.0         36.0"
      ]
     },
     "execution_count": 2,
     "metadata": {},
     "output_type": "execute_result"
    }
   ],
   "source": [
    "df.head()"
   ]
  },
  {
   "cell_type": "code",
   "execution_count": 15,
   "metadata": {},
   "outputs": [
    {
     "data": {
      "text/plain": [
       "<matplotlib.legend.Legend at 0xe155358>"
      ]
     },
     "execution_count": 15,
     "metadata": {},
     "output_type": "execute_result"
    },
    {
     "data": {
      "image/png": "[encoded data removed]",
      "text/plain": [
       "<matplotlib.figure.Figure at 0xdd83b70>"
      ]
     },
     "metadata": {},
     "output_type": "display_data"
    }
   ],
   "source": [
    "\n",
    "plt.plot(df['YEAR'].values,df['SUNACTIVITY'].values,label='original')\n",
    "\n",
    "plt.plot(df['YEAR'].values, df['SUNACTIVITY'].rolling(11).mean().values,label='SMA 11')\n",
    "\n",
    "plt.plot(df['YEAR'].values, df['SUNACTIVITY'].rolling(12).mean().values,label='SMA 12')\n",
    "\n",
    "plt.legend()"
   ]
  },
  {
   "cell_type": "code",
   "execution_count": 18,
   "metadata": {},
   "outputs": [
    {
     "name": "stderr",
     "output_type": "stream",
     "text": [
      "C:\\Users\\Lei Lei\\Anaconda2\\lib\\site-packages\\ipykernel_launcher.py:2: FutureWarning: pd.rolling_mean is deprecated for Series and will be removed in a future version, replace with \n",
      "\tSeries.rolling(window=10,center=False).mean()\n",
      "  \n"
     ]
    },
    {
     "data": {
      "text/plain": [
       "0      NaN\n",
       "1      NaN\n",
       "2      NaN\n",
       "3      NaN\n",
       "4      NaN\n",
       "5      NaN\n",
       "6      NaN\n",
       "7      NaN\n",
       "8      NaN\n",
       "9     21.6\n",
       "10    21.4\n",
       "11    20.3\n",
       "12    18.7\n",
       "13    16.6\n",
       "14    14.1\n",
       "15    11.0\n",
       "16    12.8\n",
       "17    17.1\n",
       "18    22.1\n",
       "19    25.2\n",
       "Name: SUNACTIVITY, dtype: float64"
      ]
     },
     "execution_count": 18,
     "metadata": {},
     "output_type": "execute_result"
    }
   ],
   "source": [
    "import pandas as pd\n",
    "pd.rolling_mean(df['SUNACTIVITY'],window=10).head(20)"
   ]
  },
  {
   "cell_type": "code",
   "execution_count": 17,
   "metadata": {
    "collapsed": true
   },
   "outputs": [],
   "source": [
    "#rolling_mean(df,10)['SUNACTIVITY']"
   ]
  },
  {
   "cell_type": "code",
   "execution_count": 16,
   "metadata": {
    "collapsed": true
   },
   "outputs": [],
   "source": [
    "#df['SUNACTIVITY'].rolling(10).mean()"
   ]
  },
  {
   "cell_type": "code",
   "execution_count": null,
   "metadata": {
    "collapsed": true
   },
   "outputs": [],
   "source": [
    "### windown function\n",
    "# https://www.jianshu.com/p/f6e489de57f7"
   ]
  },
  {
   "cell_type": "code",
   "execution_count": 26,
   "metadata": {},
   "outputs": [
    {
     "ename": "RemoteDataError",
     "evalue": "Unable to read URL: https://finance.google.com/finance/historical?q=aapl&startdate=Jan+01%2C+2018&enddate=Mar+27%2C+2018&output=csv\nResponse Text:\n<html><head><meta http-equiv=\"content-type\" content=\"text/html; charset=utf-8\"/><title>Sorry...</title><style> body { font-family: verdana, arial, sans-serif; background-color: #fff; color: #000; }</style></head><body><div><table><tr><td><b><font face=sans-serif size=10><font color=#4285f4>G</font><font color=#ea4335>o</font><font color=#fbbc05>o</font><font color=#4285f4>g</font><font color=#34a853>l</font><font color=#ea4335>e</font></font></b></td><td style=\"text-align: left; vertical-align: bottom; padding-bottom: 15px; width: 50%\"><div style=\"border-bottom: 1px solid #dfdfdf;\">Sorry...</div></td></tr></table></div><div style=\"margin-left: 4em;\"><h1>We're sorry...</h1><p>... but your computer or network may be sending automated queries. To protect our users, we can't process your request right now.</p></div><div style=\"margin-left: 4em;\">See <a href=\"https://support.google.com/websearch/answer/86640\">Google Help</a> for more information.<br/><br/></div><div style=\"text-align: center; border-top: 1px solid #dfdfdf;\"><a href=\"https://www.google.com\">Google Home</a></div></body></html>",
     "output_type": "error",
     "traceback": [
      "\u001b[1;31m---------------------------------------------------------------------------\u001b[0m",
      "\u001b[1;31mRemoteDataError\u001b[0m                           Traceback (most recent call last)",
      "\u001b[1;32m<ipython-input-26-3599f23eea18>\u001b[0m in \u001b[0;36m<module>\u001b[1;34m()\u001b[0m\n\u001b[0;32m      6\u001b[0m apple = web.DataReader(name='aapl', \n\u001b[0;32m      7\u001b[0m                        \u001b[0mdata_source\u001b[0m\u001b[1;33m=\u001b[0m\u001b[1;34m'google'\u001b[0m\u001b[1;33m,\u001b[0m\u001b[1;33m\u001b[0m\u001b[0m\n\u001b[1;32m----> 8\u001b[1;33m                        start='2018-1-1',end='2018-3-27')\n\u001b[0m\u001b[0;32m      9\u001b[0m \u001b[1;32mprint\u001b[0m\u001b[1;33m(\u001b[0m\u001b[0mapple\u001b[0m\u001b[1;33m.\u001b[0m\u001b[0mhead\u001b[0m\u001b[1;33m(\u001b[0m\u001b[1;33m)\u001b[0m\u001b[1;33m)\u001b[0m\u001b[1;33m\u001b[0m\u001b[0m\n",
      "\u001b[1;32mC:\\Users\\Lei Lei\\Anaconda2\\lib\\site-packages\\pandas_datareader\\data.pyc\u001b[0m in \u001b[0;36mDataReader\u001b[1;34m(name, data_source, start, end, retry_count, pause, session, access_key)\u001b[0m\n\u001b[0;32m    313\u001b[0m                                  \u001b[0mchunksize\u001b[0m\u001b[1;33m=\u001b[0m\u001b[1;36m25\u001b[0m\u001b[1;33m,\u001b[0m\u001b[1;33m\u001b[0m\u001b[0m\n\u001b[0;32m    314\u001b[0m                                  \u001b[0mretry_count\u001b[0m\u001b[1;33m=\u001b[0m\u001b[0mretry_count\u001b[0m\u001b[1;33m,\u001b[0m \u001b[0mpause\u001b[0m\u001b[1;33m=\u001b[0m\u001b[0mpause\u001b[0m\u001b[1;33m,\u001b[0m\u001b[1;33m\u001b[0m\u001b[0m\n\u001b[1;32m--> 315\u001b[1;33m                                  session=session).read()\n\u001b[0m\u001b[0;32m    316\u001b[0m \u001b[1;33m\u001b[0m\u001b[0m\n\u001b[0;32m    317\u001b[0m     \u001b[1;32melif\u001b[0m \u001b[0mdata_source\u001b[0m \u001b[1;33m==\u001b[0m \u001b[1;34m\"iex\"\u001b[0m\u001b[1;33m:\u001b[0m\u001b[1;33m\u001b[0m\u001b[0m\n",
      "\u001b[1;32mC:\\Users\\Lei Lei\\Anaconda2\\lib\\site-packages\\pandas_datareader\\base.pyc\u001b[0m in \u001b[0;36mread\u001b[1;34m(self)\u001b[0m\n\u001b[0;32m    204\u001b[0m         \u001b[1;32mif\u001b[0m \u001b[0misinstance\u001b[0m\u001b[1;33m(\u001b[0m\u001b[0mself\u001b[0m\u001b[1;33m.\u001b[0m\u001b[0msymbols\u001b[0m\u001b[1;33m,\u001b[0m \u001b[1;33m(\u001b[0m\u001b[0mcompat\u001b[0m\u001b[1;33m.\u001b[0m\u001b[0mstring_types\u001b[0m\u001b[1;33m,\u001b[0m \u001b[0mint\u001b[0m\u001b[1;33m)\u001b[0m\u001b[1;33m)\u001b[0m\u001b[1;33m:\u001b[0m\u001b[1;33m\u001b[0m\u001b[0m\n\u001b[0;32m    205\u001b[0m             df = self._read_one_data(self.url,\n\u001b[1;32m--> 206\u001b[1;33m                                      params=self._get_params(self.symbols))\n\u001b[0m\u001b[0;32m    207\u001b[0m         \u001b[1;31m# Or multiple symbols, (e.g., ['GOOG', 'AAPL', 'MSFT'])\u001b[0m\u001b[1;33m\u001b[0m\u001b[1;33m\u001b[0m\u001b[0m\n\u001b[0;32m    208\u001b[0m         \u001b[1;32melif\u001b[0m \u001b[0misinstance\u001b[0m\u001b[1;33m(\u001b[0m\u001b[0mself\u001b[0m\u001b[1;33m.\u001b[0m\u001b[0msymbols\u001b[0m\u001b[1;33m,\u001b[0m \u001b[0mDataFrame\u001b[0m\u001b[1;33m)\u001b[0m\u001b[1;33m:\u001b[0m\u001b[1;33m\u001b[0m\u001b[0m\n",
      "\u001b[1;32mC:\\Users\\Lei Lei\\Anaconda2\\lib\\site-packages\\pandas_datareader\\base.pyc\u001b[0m in \u001b[0;36m_read_one_data\u001b[1;34m(self, url, params)\u001b[0m\n\u001b[0;32m     82\u001b[0m         \u001b[1;34m\"\"\" read one data from specified URL \"\"\"\u001b[0m\u001b[1;33m\u001b[0m\u001b[0m\n\u001b[0;32m     83\u001b[0m         \u001b[1;32mif\u001b[0m \u001b[0mself\u001b[0m\u001b[1;33m.\u001b[0m\u001b[0m_format\u001b[0m \u001b[1;33m==\u001b[0m \u001b[1;34m'string'\u001b[0m\u001b[1;33m:\u001b[0m\u001b[1;33m\u001b[0m\u001b[0m\n\u001b[1;32m---> 84\u001b[1;33m             \u001b[0mout\u001b[0m \u001b[1;33m=\u001b[0m \u001b[0mself\u001b[0m\u001b[1;33m.\u001b[0m\u001b[0m_read_url_as_StringIO\u001b[0m\u001b[1;33m(\u001b[0m\u001b[0murl\u001b[0m\u001b[1;33m,\u001b[0m \u001b[0mparams\u001b[0m\u001b[1;33m=\u001b[0m\u001b[0mparams\u001b[0m\u001b[1;33m)\u001b[0m\u001b[1;33m\u001b[0m\u001b[0m\n\u001b[0m\u001b[0;32m     85\u001b[0m         \u001b[1;32melif\u001b[0m \u001b[0mself\u001b[0m\u001b[1;33m.\u001b[0m\u001b[0m_format\u001b[0m \u001b[1;33m==\u001b[0m \u001b[1;34m'json'\u001b[0m\u001b[1;33m:\u001b[0m\u001b[1;33m\u001b[0m\u001b[0m\n\u001b[0;32m     86\u001b[0m             \u001b[0mout\u001b[0m \u001b[1;33m=\u001b[0m \u001b[0mself\u001b[0m\u001b[1;33m.\u001b[0m\u001b[0m_get_response\u001b[0m\u001b[1;33m(\u001b[0m\u001b[0murl\u001b[0m\u001b[1;33m,\u001b[0m \u001b[0mparams\u001b[0m\u001b[1;33m=\u001b[0m\u001b[0mparams\u001b[0m\u001b[1;33m)\u001b[0m\u001b[1;33m.\u001b[0m\u001b[0mjson\u001b[0m\u001b[1;33m(\u001b[0m\u001b[1;33m)\u001b[0m\u001b[1;33m\u001b[0m\u001b[0m\n",
      "\u001b[1;32mC:\\Users\\Lei Lei\\Anaconda2\\lib\\site-packages\\pandas_datareader\\base.pyc\u001b[0m in \u001b[0;36m_read_url_as_StringIO\u001b[1;34m(self, url, params)\u001b[0m\n\u001b[0;32m     93\u001b[0m         \u001b[0mOpen\u001b[0m \u001b[0murl\u001b[0m \u001b[1;33m(\u001b[0m\u001b[1;32mand\u001b[0m \u001b[0mretry\u001b[0m\u001b[1;33m)\u001b[0m\u001b[1;33m\u001b[0m\u001b[0m\n\u001b[0;32m     94\u001b[0m         \"\"\"\n\u001b[1;32m---> 95\u001b[1;33m         \u001b[0mresponse\u001b[0m \u001b[1;33m=\u001b[0m \u001b[0mself\u001b[0m\u001b[1;33m.\u001b[0m\u001b[0m_get_response\u001b[0m\u001b[1;33m(\u001b[0m\u001b[0murl\u001b[0m\u001b[1;33m,\u001b[0m \u001b[0mparams\u001b[0m\u001b[1;33m=\u001b[0m\u001b[0mparams\u001b[0m\u001b[1;33m)\u001b[0m\u001b[1;33m\u001b[0m\u001b[0m\n\u001b[0m\u001b[0;32m     96\u001b[0m         \u001b[0mtext\u001b[0m \u001b[1;33m=\u001b[0m \u001b[0mself\u001b[0m\u001b[1;33m.\u001b[0m\u001b[0m_sanitize_response\u001b[0m\u001b[1;33m(\u001b[0m\u001b[0mresponse\u001b[0m\u001b[1;33m)\u001b[0m\u001b[1;33m\u001b[0m\u001b[0m\n\u001b[0;32m     97\u001b[0m         \u001b[0mout\u001b[0m \u001b[1;33m=\u001b[0m \u001b[0mStringIO\u001b[0m\u001b[1;33m(\u001b[0m\u001b[1;33m)\u001b[0m\u001b[1;33m\u001b[0m\u001b[0m\n",
      "\u001b[1;32mC:\\Users\\Lei Lei\\Anaconda2\\lib\\site-packages\\pandas_datareader\\base.pyc\u001b[0m in \u001b[0;36m_get_response\u001b[1;34m(self, url, params, headers)\u001b[0m\n\u001b[0;32m    153\u001b[0m             \u001b[0mmsg\u001b[0m \u001b[1;33m+=\u001b[0m \u001b[1;34m'\\nResponse Text:\\n{0}'\u001b[0m\u001b[1;33m.\u001b[0m\u001b[0mformat\u001b[0m\u001b[1;33m(\u001b[0m\u001b[0mlast_response_text\u001b[0m\u001b[1;33m)\u001b[0m\u001b[1;33m\u001b[0m\u001b[0m\n\u001b[0;32m    154\u001b[0m \u001b[1;33m\u001b[0m\u001b[0m\n\u001b[1;32m--> 155\u001b[1;33m         \u001b[1;32mraise\u001b[0m \u001b[0mRemoteDataError\u001b[0m\u001b[1;33m(\u001b[0m\u001b[0mmsg\u001b[0m\u001b[1;33m)\u001b[0m\u001b[1;33m\u001b[0m\u001b[0m\n\u001b[0m\u001b[0;32m    156\u001b[0m \u001b[1;33m\u001b[0m\u001b[0m\n\u001b[0;32m    157\u001b[0m     \u001b[1;32mdef\u001b[0m \u001b[0m_get_crumb\u001b[0m\u001b[1;33m(\u001b[0m\u001b[0mself\u001b[0m\u001b[1;33m,\u001b[0m \u001b[1;33m*\u001b[0m\u001b[0margs\u001b[0m\u001b[1;33m)\u001b[0m\u001b[1;33m:\u001b[0m\u001b[1;33m\u001b[0m\u001b[0m\n",
      "\u001b[1;31mRemoteDataError\u001b[0m: Unable to read URL: https://finance.google.com/finance/historical?q=aapl&startdate=Jan+01%2C+2018&enddate=Mar+27%2C+2018&output=csv\nResponse Text:\n<html><head><meta http-equiv=\"content-type\" content=\"text/html; charset=utf-8\"/><title>Sorry...</title><style> body { font-family: verdana, arial, sans-serif; background-color: #fff; color: #000; }</style></head><body><div><table><tr><td><b><font face=sans-serif size=10><font color=#4285f4>G</font><font color=#ea4335>o</font><font color=#fbbc05>o</font><font color=#4285f4>g</font><font color=#34a853>l</font><font color=#ea4335>e</font></font></b></td><td style=\"text-align: left; vertical-align: bottom; padding-bottom: 15px; width: 50%\"><div style=\"border-bottom: 1px solid #dfdfdf;\">Sorry...</div></td></tr></table></div><div style=\"margin-left: 4em;\"><h1>We're sorry...</h1><p>... but your computer or network may be sending automated queries. To protect our users, we can't process your request right now.</p></div><div style=\"margin-left: 4em;\">See <a href=\"https://support.google.com/websearch/answer/86640\">Google Help</a> for more information.<br/><br/></div><div style=\"text-align: center; border-top: 1px solid #dfdfdf;\"><a href=\"https://www.google.com\">Google Home</a></div></body></html>"
     ]
    }
   ],
   "source": [
    "import datetime\n",
    "start=datetime.datetime(2018,1,1)\n",
    "end=datetime.datetime(2018,3,27)\n",
    "import pandas_datareader.data as web\n",
    "\n",
    "apple = web.DataReader(name='aapl', \n",
    "                       data_source='google', \n",
    "                       start='2018-1-1',end='2018-3-27')\n",
    "print(apple.head())\n"
   ]
  },
  {
   "cell_type": "code",
   "execution_count": 31,
   "metadata": {},
   "outputs": [
    {
     "name": "stdout",
     "output_type": "stream",
     "text": [
      "Self ADF (3.9563194764951619e-16, 0.95853208606005602, 0L, 308L, {'5%': -2.8709700936076912, '1%': -3.4517611601803702, '10%': -2.5717944160060719}, -21598.896016765088)\n",
      "ADF sine with noise (-18.449814439432558, 2.1546740873456543e-30, 0L, 308L, {'5%': -2.8709700936076912, '1%': -3.4517611601803702, '10%': -2.5717944160060719}, -1861.1430337048678)\n",
      "ADF sine vs cosine with noise (-23.982326929029025, 0.0, 16L, 292L, {'5%': -2.8714895534256861, '1%': -3.4529449243622383, '10%': -2.5720714378870331}, -11383.375523471121)\n",
      "Sine vs sunspots (-6.7242691810701025, 3.4210811915548775e-09, 16L, 292L, {'5%': -2.8714895534256861, '1%': -3.4529449243622383, '10%': -2.5720714378870331}, -1102.5867415291168)\n"
     ]
    }
   ],
   "source": [
    "import statsmodels.api as sm\n",
    "from pandas.stats.moments import rolling_window\n",
    "import pandas as pd\n",
    "import statsmodels.tsa.stattools as ts\n",
    "import numpy as np\n",
    "def calc_adf(x, y):\n",
    "    result = sm.OLS(x, y).fit()\n",
    "    return ts.adfuller(result.resid)\n",
    "data_loader = sm.datasets.sunspots.load_pandas()\n",
    "data = data_loader.data.values\n",
    "N = len(data)\n",
    "t = np.linspace(-2 * np.pi, 2 * np.pi, N)\n",
    "sine = np.sin(np.sin(t))\n",
    "print \"Self ADF\", calc_adf(sine, sine)\n",
    "noise = np.random.normal(0, .01, N)\n",
    "print \"ADF sine with noise\", calc_adf(sine, sine + noise)\n",
    "cosine = 100 * np.cos(t) + 10\n",
    "print \"ADF sine vs cosine with noise\", calc_adf(sine, cosine +\n",
    "noise)\n",
    "print \"Sine vs sunspots\", calc_adf(sine, data)"
   ]
  },
  {
   "cell_type": "code",
   "execution_count": 40,
   "metadata": {},
   "outputs": [
    {
     "data": {
      "text/plain": [
       "array([  2.44929360e-16,   4.07885861e-02,   8.15092835e-02,\n",
       "         1.22094317e-01,   1.62476136e-01,   2.02587530e-01,\n",
       "         2.42361737e-01,   2.81732557e-01,   3.20634461e-01,\n",
       "         3.59002700e-01])"
      ]
     },
     "execution_count": 40,
     "metadata": {},
     "output_type": "execute_result"
    }
   ],
   "source": [
    "np.sin(t)[:10]"
   ]
  },
  {
   "cell_type": "code",
   "execution_count": 39,
   "metadata": {},
   "outputs": [
    {
     "data": {
      "text/plain": [
       "array([  2.44929360e-16,   4.07772769e-02,   8.14190588e-02,\n",
       "         1.21791199e-01,   1.61762225e-01,   2.01204615e-01,\n",
       "         2.39996006e-01,   2.78020316e-01,   3.15168750e-01,\n",
       "         3.51340688e-01])"
      ]
     },
     "execution_count": 39,
     "metadata": {},
     "output_type": "execute_result"
    }
   ],
   "source": [
    "np.sin(np.sin(t))[:10]"
   ]
  },
  {
   "cell_type": "code",
   "execution_count": 38,
   "metadata": {},
   "outputs": [
    {
     "data": {
      "text/plain": [
       "array([-6.28318531, -6.2423854 , -6.2015855 , -6.16078559, -6.11998569,\n",
       "       -6.07918578, -6.03838588, -5.99758598, -5.95678607, -5.91598617])"
      ]
     },
     "execution_count": 38,
     "metadata": {},
     "output_type": "execute_result"
    }
   ],
   "source": [
    "t[:10]"
   ]
  },
  {
   "cell_type": "code",
   "execution_count": null,
   "metadata": {
    "collapsed": true
   },
   "outputs": [],
   "source": [
    "# https://www.cnblogs.com/foley/p/5582358.html\n",
    "# http://www.statsmodels.org/dev/examples/notebooks/generated/ols.html\n",
    "# http://www.statsmodels.org/dev/generated/statsmodels.regression.linear_model.OLS.html\n",
    "# http://blog.hszofficial.site/TutorialForPythonDataAnalysis/numpy/%E7%94%A8numpy%E5%81%9A%E7%AE%80%E5%8D%95%E7%9A%84%E7%BB%9F%E8%AE%A1/%E7%94%A8numpy%E5%81%9A%E7%AE%80%E5%8D%95%E7%9A%84%E7%BB%9F%E8%AE%A1.html"
   ]
  },
  {
   "cell_type": "code",
   "execution_count": null,
   "metadata": {
    "collapsed": true
   },
   "outputs": [],
   "source": [
    "# naive bayes\n",
    "# https://en.wikipedia.org/wiki/Naive_Bayes_classifier"
   ]
  },
  {
   "cell_type": "code",
   "execution_count": 9,
   "metadata": {},
   "outputs": [
    {
     "name": "stdout",
     "output_type": "stream",
     "text": [
      "Score 0.0527838760942\n",
      "params ElasticNetCV(alphas=None, copy_X=True, cv=10, eps=0.001, fit_intercept=True,\n",
      "       l1_ratio=[0.1, 0.5, 0.7, 0.9, 0.95, 0.99, 1], max_iter=200,\n",
      "       n_alphas=100, n_jobs=1, normalize=False, positive=False,\n",
      "       precompute='auto', random_state=None, selection='cyclic',\n",
      "       tol=0.0001, verbose=0)\n",
      "alpha_ 0.0268538776745\n",
      "intercept_ 1.35147582639\n",
      "l1_ration 1.0\n"
     ]
    },
    {
     "data": {
      "image/png": "[encoded data removed]",
      "text/plain": [
       "<matplotlib.figure.Figure at 0xa6dc2b0>"
      ]
     },
     "metadata": {},
     "output_type": "display_data"
    },
    {
     "name": "stdout",
     "output_type": "stream",
     "text": [
      "Score 0.683143903455\n",
      "params ElasticNetCV(alphas=None, copy_X=True, cv=10, eps=0.001, fit_intercept=True,\n",
      "       l1_ratio=[0.1, 0.5, 0.7, 0.9, 0.95, 0.99, 1], max_iter=200,\n",
      "       n_alphas=100, n_jobs=1, normalize=False, positive=False,\n",
      "       precompute='auto', random_state=None, selection='cyclic',\n",
      "       tol=0.0001, verbose=0)\n",
      "alpha_ 1.03545775482\n",
      "intercept_ 41.974907355\n",
      "l1_ration 0.7\n"
     ]
    },
    {
     "data": {
      "image/png": "[encoded data removed]",
      "text/plain": [
       "<matplotlib.figure.Figure at 0xca5c5f8>"
      ]
     },
     "metadata": {},
     "output_type": "display_data"
    }
   ],
   "source": [
    "from sklearn.linear_model import ElasticNetCV\n",
    "import numpy as np\n",
    "from sklearn import datasets\n",
    "import matplotlib.pyplot as plt\n",
    "def regress(x, y, title):\n",
    "    clf = ElasticNetCV(max_iter=200, cv=10, l1_ratio = [.1, .5,.7, .9, .95, .99, 1])\n",
    "    clf.fit(x, y)\n",
    "    print \"Score\", clf.score(x, y)\n",
    "    print 'params', clf.set_params()\n",
    "    print 'alpha_', clf.alpha_\n",
    "    print 'intercept_',clf.intercept_\n",
    "    print 'l1_ration', clf.l1_ratio_\n",
    "    pred = clf.predict(x)\n",
    "    plt.title(\"Scatter plot of prediction and \" + title)\n",
    "    plt.xlabel(\"Prediction\")\n",
    "    plt.ylabel(\"Target\")\n",
    "    plt.scatter(y, pred)\n",
    "# Show perfect fit line\n",
    "    if \"Boston\" in title:\n",
    "        plt.plot(y, y, label=\"Perfect Fit\")\n",
    "        plt.legend()\n",
    "    plt.grid(True)\n",
    "    plt.show()\n",
    "rain = .1 * np.load('Python_Data_Analysis/PythonDataAnalysis_Code/3358OS_10_Code/code10/rain.npy')\n",
    "rain[rain < 0] = .05/2\n",
    "dates = np.load('Python_Data_Analysis/PythonDataAnalysis_Code/3358OS_10_Code/code10/doy.npy')\n",
    "x = np.vstack((dates[:-1], rain[:-1]))\n",
    "y = rain[1:]\n",
    "regress(x.T, y, \"rain data\")\n",
    "boston = datasets.load_boston()\n",
    "x = boston.data\n",
    "y = boston.target\n",
    "regress(x, y, \"Boston house prices\")"
   ]
  },
  {
   "cell_type": "code",
   "execution_count": null,
   "metadata": {
    "collapsed": true
   },
   "outputs": [],
   "source": [
    "http://t.cj.sina.com.cn/articles/view/6440822470/17fe726c6001005i29\n",
    "    https://blog.csdn.net/jianbinzheng/article/details/52735552\n",
    "        http://bluewhale.cc/2016-09-24/statistical-analysis-using-r-hypothesis-testing.html\n",
    "            https://blog.csdn.net/qimaoryan/article/details/72824766\n",
    "    "
   ]
  }
 ],
 "metadata": {
  "kernelspec": {
   "display_name": "Python 2",
   "language": "python",
   "name": "python2"
  },
  "language_info": {
   "codemirror_mode": {
    "name": "ipython",
    "version": 2
   },
   "file_extension": ".py",
   "mimetype": "text/x-python",
   "name": "python",
   "nbconvert_exporter": "python",
   "pygments_lexer": "ipython2",
   "version": "2.7.13"
  }
 },
 "nbformat": 4,
 "nbformat_minor": 2
}
